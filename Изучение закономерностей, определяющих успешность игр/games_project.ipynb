{
 "cells": [
  {
   "cell_type": "markdown",
   "metadata": {},
   "source": [
    "## Введение"
   ]
  },
  {
   "cell_type": "markdown",
   "metadata": {},
   "source": [
    "Я работаю в интернет-магазине «Стримчик», который продаёт по всему миру компьютерные игры. Из открытых источников доступны исторические данные о продажах игр, оценки пользователей и экспертов, жанры и платформы (например, Xbox или PlayStation). **Передо мной стоит задача выявить определяющие успешность игры закономерности.** Это позволит сделать ставку на потенциально популярный продукт и спланировать рекламные кампании.\n",
    "У меня в наличии данные до 2016 года, и **нужно планировать кампанию на 2017-й.** Нужно отработать принцип работы с данными. \n",
    "В наборе данных попадается аббревиатура ESRB (Entertainment Software Rating Board) — это ассоциация, определяющая возрастной рейтинг компьютерных игр. ESRB оценивает игровой контент и присваивает ему подходящую возрастную категорию, например, «Для взросвлых», «Для детей младшего возраста» или «Для подростков».\n",
    "\n",
    "Описание данных:\n",
    "\n",
    "- Name — название игры\n",
    "- Platform — платформа\n",
    "- Year_of_Release — год выпуска\n",
    "- Genre — жанр игры\n",
    "- NA_sales — продажи в Северной Америке (миллионы проданных копий)\n",
    "- EU_sales — продажи в Европе (миллионы проданных копий)\n",
    "- JP_sales — продажи в Японии (миллионы проданных копий)\n",
    "- Other_sales — продажи в других странах (миллионы проданных копий)\n",
    "- Critic_Score — оценка критиков (максимум 100)\n",
    "- User_Score — оценка пользователей (максимум 10)\n",
    "- Rating — рейтинг от организации ESRB (англ. Entertainment Software Rating Board). Эта ассоциация определяет рейтинг компьютерных игр и присваивает им подходящую возрастную категорию.\n",
    "\n"
   ]
  },
  {
   "cell_type": "markdown",
   "metadata": {},
   "source": [
    "## Знакомство с данными"
   ]
  },
  {
   "cell_type": "code",
   "execution_count": 1,
   "metadata": {},
   "outputs": [],
   "source": [
    "import pandas as pd\n",
    "import seaborn as sns\n",
    "import matplotlib.pyplot as plt\n",
    "from scipy import stats as st\n",
    "import numpy as np"
   ]
  },
  {
   "cell_type": "code",
   "execution_count": 2,
   "metadata": {},
   "outputs": [],
   "source": [
    "df = pd.read_csv('/datasets/games.csv')"
   ]
  },
  {
   "cell_type": "markdown",
   "metadata": {},
   "source": [
    "Познакомимся с данными:"
   ]
  },
  {
   "cell_type": "code",
   "execution_count": 3,
   "metadata": {},
   "outputs": [
    {
     "data": {
      "text/html": [
       "<div>\n",
       "<style scoped>\n",
       "    .dataframe tbody tr th:only-of-type {\n",
       "        vertical-align: middle;\n",
       "    }\n",
       "\n",
       "    .dataframe tbody tr th {\n",
       "        vertical-align: top;\n",
       "    }\n",
       "\n",
       "    .dataframe thead th {\n",
       "        text-align: right;\n",
       "    }\n",
       "</style>\n",
       "<table border=\"1\" class=\"dataframe\">\n",
       "  <thead>\n",
       "    <tr style=\"text-align: right;\">\n",
       "      <th></th>\n",
       "      <th>Name</th>\n",
       "      <th>Platform</th>\n",
       "      <th>Year_of_Release</th>\n",
       "      <th>Genre</th>\n",
       "      <th>NA_sales</th>\n",
       "      <th>EU_sales</th>\n",
       "      <th>JP_sales</th>\n",
       "      <th>Other_sales</th>\n",
       "      <th>Critic_Score</th>\n",
       "      <th>User_Score</th>\n",
       "      <th>Rating</th>\n",
       "    </tr>\n",
       "  </thead>\n",
       "  <tbody>\n",
       "    <tr>\n",
       "      <th>0</th>\n",
       "      <td>Wii Sports</td>\n",
       "      <td>Wii</td>\n",
       "      <td>2006.0</td>\n",
       "      <td>Sports</td>\n",
       "      <td>41.36</td>\n",
       "      <td>28.96</td>\n",
       "      <td>3.77</td>\n",
       "      <td>8.45</td>\n",
       "      <td>76.0</td>\n",
       "      <td>8</td>\n",
       "      <td>E</td>\n",
       "    </tr>\n",
       "    <tr>\n",
       "      <th>1</th>\n",
       "      <td>Super Mario Bros.</td>\n",
       "      <td>NES</td>\n",
       "      <td>1985.0</td>\n",
       "      <td>Platform</td>\n",
       "      <td>29.08</td>\n",
       "      <td>3.58</td>\n",
       "      <td>6.81</td>\n",
       "      <td>0.77</td>\n",
       "      <td>NaN</td>\n",
       "      <td>NaN</td>\n",
       "      <td>NaN</td>\n",
       "    </tr>\n",
       "    <tr>\n",
       "      <th>2</th>\n",
       "      <td>Mario Kart Wii</td>\n",
       "      <td>Wii</td>\n",
       "      <td>2008.0</td>\n",
       "      <td>Racing</td>\n",
       "      <td>15.68</td>\n",
       "      <td>12.76</td>\n",
       "      <td>3.79</td>\n",
       "      <td>3.29</td>\n",
       "      <td>82.0</td>\n",
       "      <td>8.3</td>\n",
       "      <td>E</td>\n",
       "    </tr>\n",
       "    <tr>\n",
       "      <th>3</th>\n",
       "      <td>Wii Sports Resort</td>\n",
       "      <td>Wii</td>\n",
       "      <td>2009.0</td>\n",
       "      <td>Sports</td>\n",
       "      <td>15.61</td>\n",
       "      <td>10.93</td>\n",
       "      <td>3.28</td>\n",
       "      <td>2.95</td>\n",
       "      <td>80.0</td>\n",
       "      <td>8</td>\n",
       "      <td>E</td>\n",
       "    </tr>\n",
       "    <tr>\n",
       "      <th>4</th>\n",
       "      <td>Pokemon Red/Pokemon Blue</td>\n",
       "      <td>GB</td>\n",
       "      <td>1996.0</td>\n",
       "      <td>Role-Playing</td>\n",
       "      <td>11.27</td>\n",
       "      <td>8.89</td>\n",
       "      <td>10.22</td>\n",
       "      <td>1.00</td>\n",
       "      <td>NaN</td>\n",
       "      <td>NaN</td>\n",
       "      <td>NaN</td>\n",
       "    </tr>\n",
       "  </tbody>\n",
       "</table>\n",
       "</div>"
      ],
      "text/plain": [
       "                       Name Platform  Year_of_Release         Genre  NA_sales  \\\n",
       "0                Wii Sports      Wii           2006.0        Sports     41.36   \n",
       "1         Super Mario Bros.      NES           1985.0      Platform     29.08   \n",
       "2            Mario Kart Wii      Wii           2008.0        Racing     15.68   \n",
       "3         Wii Sports Resort      Wii           2009.0        Sports     15.61   \n",
       "4  Pokemon Red/Pokemon Blue       GB           1996.0  Role-Playing     11.27   \n",
       "\n",
       "   EU_sales  JP_sales  Other_sales  Critic_Score User_Score Rating  \n",
       "0     28.96      3.77         8.45          76.0          8      E  \n",
       "1      3.58      6.81         0.77           NaN        NaN    NaN  \n",
       "2     12.76      3.79         3.29          82.0        8.3      E  \n",
       "3     10.93      3.28         2.95          80.0          8      E  \n",
       "4      8.89     10.22         1.00           NaN        NaN    NaN  "
      ]
     },
     "execution_count": 3,
     "metadata": {},
     "output_type": "execute_result"
    }
   ],
   "source": [
    "df.head(5)"
   ]
  },
  {
   "cell_type": "markdown",
   "metadata": {},
   "source": [
    "Посмотрим на тип данных в столбцах:"
   ]
  },
  {
   "cell_type": "code",
   "execution_count": 4,
   "metadata": {},
   "outputs": [
    {
     "name": "stdout",
     "output_type": "stream",
     "text": [
      "<class 'pandas.core.frame.DataFrame'>\n",
      "RangeIndex: 16715 entries, 0 to 16714\n",
      "Data columns (total 11 columns):\n",
      " #   Column           Non-Null Count  Dtype  \n",
      "---  ------           --------------  -----  \n",
      " 0   Name             16713 non-null  object \n",
      " 1   Platform         16715 non-null  object \n",
      " 2   Year_of_Release  16446 non-null  float64\n",
      " 3   Genre            16713 non-null  object \n",
      " 4   NA_sales         16715 non-null  float64\n",
      " 5   EU_sales         16715 non-null  float64\n",
      " 6   JP_sales         16715 non-null  float64\n",
      " 7   Other_sales      16715 non-null  float64\n",
      " 8   Critic_Score     8137 non-null   float64\n",
      " 9   User_Score       10014 non-null  object \n",
      " 10  Rating           9949 non-null   object \n",
      "dtypes: float64(6), object(5)\n",
      "memory usage: 1.4+ MB\n"
     ]
    }
   ],
   "source": [
    "df.info()"
   ]
  },
  {
   "cell_type": "markdown",
   "metadata": {},
   "source": [
    "Посмотрим на порядок цифр в датафрейме:"
   ]
  },
  {
   "cell_type": "code",
   "execution_count": 5,
   "metadata": {},
   "outputs": [
    {
     "data": {
      "text/html": [
       "<div>\n",
       "<style scoped>\n",
       "    .dataframe tbody tr th:only-of-type {\n",
       "        vertical-align: middle;\n",
       "    }\n",
       "\n",
       "    .dataframe tbody tr th {\n",
       "        vertical-align: top;\n",
       "    }\n",
       "\n",
       "    .dataframe thead th {\n",
       "        text-align: right;\n",
       "    }\n",
       "</style>\n",
       "<table border=\"1\" class=\"dataframe\">\n",
       "  <thead>\n",
       "    <tr style=\"text-align: right;\">\n",
       "      <th></th>\n",
       "      <th>Year_of_Release</th>\n",
       "      <th>NA_sales</th>\n",
       "      <th>EU_sales</th>\n",
       "      <th>JP_sales</th>\n",
       "      <th>Other_sales</th>\n",
       "      <th>Critic_Score</th>\n",
       "    </tr>\n",
       "  </thead>\n",
       "  <tbody>\n",
       "    <tr>\n",
       "      <th>count</th>\n",
       "      <td>16446.000000</td>\n",
       "      <td>16715.000000</td>\n",
       "      <td>16715.000000</td>\n",
       "      <td>16715.000000</td>\n",
       "      <td>16715.000000</td>\n",
       "      <td>8137.000000</td>\n",
       "    </tr>\n",
       "    <tr>\n",
       "      <th>mean</th>\n",
       "      <td>2006.484616</td>\n",
       "      <td>0.263377</td>\n",
       "      <td>0.145060</td>\n",
       "      <td>0.077617</td>\n",
       "      <td>0.047342</td>\n",
       "      <td>68.967679</td>\n",
       "    </tr>\n",
       "    <tr>\n",
       "      <th>std</th>\n",
       "      <td>5.877050</td>\n",
       "      <td>0.813604</td>\n",
       "      <td>0.503339</td>\n",
       "      <td>0.308853</td>\n",
       "      <td>0.186731</td>\n",
       "      <td>13.938165</td>\n",
       "    </tr>\n",
       "    <tr>\n",
       "      <th>min</th>\n",
       "      <td>1980.000000</td>\n",
       "      <td>0.000000</td>\n",
       "      <td>0.000000</td>\n",
       "      <td>0.000000</td>\n",
       "      <td>0.000000</td>\n",
       "      <td>13.000000</td>\n",
       "    </tr>\n",
       "    <tr>\n",
       "      <th>25%</th>\n",
       "      <td>2003.000000</td>\n",
       "      <td>0.000000</td>\n",
       "      <td>0.000000</td>\n",
       "      <td>0.000000</td>\n",
       "      <td>0.000000</td>\n",
       "      <td>60.000000</td>\n",
       "    </tr>\n",
       "    <tr>\n",
       "      <th>50%</th>\n",
       "      <td>2007.000000</td>\n",
       "      <td>0.080000</td>\n",
       "      <td>0.020000</td>\n",
       "      <td>0.000000</td>\n",
       "      <td>0.010000</td>\n",
       "      <td>71.000000</td>\n",
       "    </tr>\n",
       "    <tr>\n",
       "      <th>75%</th>\n",
       "      <td>2010.000000</td>\n",
       "      <td>0.240000</td>\n",
       "      <td>0.110000</td>\n",
       "      <td>0.040000</td>\n",
       "      <td>0.030000</td>\n",
       "      <td>79.000000</td>\n",
       "    </tr>\n",
       "    <tr>\n",
       "      <th>max</th>\n",
       "      <td>2016.000000</td>\n",
       "      <td>41.360000</td>\n",
       "      <td>28.960000</td>\n",
       "      <td>10.220000</td>\n",
       "      <td>10.570000</td>\n",
       "      <td>98.000000</td>\n",
       "    </tr>\n",
       "  </tbody>\n",
       "</table>\n",
       "</div>"
      ],
      "text/plain": [
       "       Year_of_Release      NA_sales      EU_sales      JP_sales  \\\n",
       "count     16446.000000  16715.000000  16715.000000  16715.000000   \n",
       "mean       2006.484616      0.263377      0.145060      0.077617   \n",
       "std           5.877050      0.813604      0.503339      0.308853   \n",
       "min        1980.000000      0.000000      0.000000      0.000000   \n",
       "25%        2003.000000      0.000000      0.000000      0.000000   \n",
       "50%        2007.000000      0.080000      0.020000      0.000000   \n",
       "75%        2010.000000      0.240000      0.110000      0.040000   \n",
       "max        2016.000000     41.360000     28.960000     10.220000   \n",
       "\n",
       "        Other_sales  Critic_Score  \n",
       "count  16715.000000   8137.000000  \n",
       "mean       0.047342     68.967679  \n",
       "std        0.186731     13.938165  \n",
       "min        0.000000     13.000000  \n",
       "25%        0.000000     60.000000  \n",
       "50%        0.010000     71.000000  \n",
       "75%        0.030000     79.000000  \n",
       "max       10.570000     98.000000  "
      ]
     },
     "execution_count": 5,
     "metadata": {},
     "output_type": "execute_result"
    }
   ],
   "source": [
    "df.describe()"
   ]
  },
  {
   "cell_type": "markdown",
   "metadata": {},
   "source": [
    "## Подготовка данных"
   ]
  },
  {
   "cell_type": "markdown",
   "metadata": {},
   "source": [
    "Приведём к нижнему регистру названия столбцов:"
   ]
  },
  {
   "cell_type": "code",
   "execution_count": 6,
   "metadata": {},
   "outputs": [],
   "source": [
    "df.columns = map(str.lower, df.columns)"
   ]
  },
  {
   "cell_type": "markdown",
   "metadata": {},
   "source": [
    "Поменяем тип данных в столбце ['year_of_release']"
   ]
  },
  {
   "cell_type": "code",
   "execution_count": 7,
   "metadata": {},
   "outputs": [],
   "source": [
    "df['year_of_release'] = df['year_of_release'].astype('Int64')"
   ]
  },
  {
   "cell_type": "markdown",
   "metadata": {},
   "source": [
    "Посмотрим пропуски в столбцах:"
   ]
  },
  {
   "cell_type": "code",
   "execution_count": 9,
   "metadata": {},
   "outputs": [
    {
     "data": {
      "text/plain": [
       "name                  2\n",
       "platform              0\n",
       "year_of_release     269\n",
       "genre                 2\n",
       "na_sales              0\n",
       "eu_sales              0\n",
       "jp_sales              0\n",
       "other_sales           0\n",
       "critic_score       8578\n",
       "user_score         6701\n",
       "rating             6766\n",
       "dtype: int64"
      ]
     },
     "execution_count": 9,
     "metadata": {},
     "output_type": "execute_result"
    }
   ],
   "source": [
    "df.isnull().sum()"
   ]
  },
  {
   "cell_type": "markdown",
   "metadata": {},
   "source": [
    "Видим существенное количество пропусков в столбцах с оценками критиков, пользователей, а также в столбце с рейтингом ESRB.\n",
    "Также видим несущественное количество пропусков в столбце с годом выпуска игры, и несколько пропусков в столбцах с названием и жанром игры."
   ]
  },
  {
   "cell_type": "markdown",
   "metadata": {},
   "source": [
    "Начнём обрабатывать. Пропуски в оценках критиков и пользователей занимают существенную долю в датасете - поэтому удалять их нельзя, чтобы не исказить анализ. Поскольку зацепиться за какой-то другой параметр затруднительно, предлагаю заполнить пропуски заглушками:"
   ]
  },
  {
   "cell_type": "code",
   "execution_count": 10,
   "metadata": {},
   "outputs": [],
   "source": [
    "df['critic_score'] = df['critic_score'].fillna(-1)\n",
    "df['user_score'] = df['user_score'].fillna(-1)"
   ]
  },
  {
   "cell_type": "markdown",
   "metadata": {},
   "source": [
    "Также привлек внимание тип столбца ['user_score'] - object. Посмотрим, какие значения есть в этом столбце:"
   ]
  },
  {
   "cell_type": "code",
   "execution_count": 11,
   "metadata": {
    "scrolled": true
   },
   "outputs": [
    {
     "data": {
      "text/plain": [
       "array(['8', -1, '8.3', '8.5', '6.6', '8.4', '8.6', '7.7', '6.3', '7.4',\n",
       "       '8.2', '9', '7.9', '8.1', '8.7', '7.1', '3.4', '5.3', '4.8', '3.2',\n",
       "       '8.9', '6.4', '7.8', '7.5', '2.6', '7.2', '9.2', '7', '7.3', '4.3',\n",
       "       '7.6', '5.7', '5', '9.1', '6.5', 'tbd', '8.8', '6.9', '9.4', '6.8',\n",
       "       '6.1', '6.7', '5.4', '4', '4.9', '4.5', '9.3', '6.2', '4.2', '6',\n",
       "       '3.7', '4.1', '5.8', '5.6', '5.5', '4.4', '4.6', '5.9', '3.9',\n",
       "       '3.1', '2.9', '5.2', '3.3', '4.7', '5.1', '3.5', '2.5', '1.9', '3',\n",
       "       '2.7', '2.2', '2', '9.5', '2.1', '3.6', '2.8', '1.8', '3.8', '0',\n",
       "       '1.6', '9.6', '2.4', '1.7', '1.1', '0.3', '1.5', '0.7', '1.2',\n",
       "       '2.3', '0.5', '1.3', '0.2', '0.6', '1.4', '0.9', '1', '9.7'],\n",
       "      dtype=object)"
      ]
     },
     "execution_count": 11,
     "metadata": {},
     "output_type": "execute_result"
    }
   ],
   "source": [
    "df['user_score'].unique()"
   ]
  },
  {
   "cell_type": "markdown",
   "metadata": {},
   "source": [
    "В перечне значений фигурирует аббревиатура 'tbd', что означает \"To Be Determined\". Предлагаю также заменить это значение на заглушку."
   ]
  },
  {
   "cell_type": "code",
   "execution_count": 12,
   "metadata": {},
   "outputs": [],
   "source": [
    "df.loc[df['user_score']=='tbd','user_score'] = -1"
   ]
  },
  {
   "cell_type": "markdown",
   "metadata": {},
   "source": [
    "Поменяем тип данных в столбце ['user_score']"
   ]
  },
  {
   "cell_type": "code",
   "execution_count": 13,
   "metadata": {},
   "outputs": [],
   "source": [
    "df['user_score'] = df['user_score'].astype('float64')"
   ]
  },
  {
   "cell_type": "markdown",
   "metadata": {},
   "source": [
    "Теперь разберёмся с рейтингом ESRB. Допускаю, что рейтинг присваивается игре в целом, независимо от платформы, поэтому предлагаю попробовать заполнить пропуски в этом столбце рейтингом по совпадающим по названию играм. Вначале сделаем вспомогательный df с названием игры и рейтингом ESRB:"
   ]
  },
  {
   "cell_type": "code",
   "execution_count": 14,
   "metadata": {},
   "outputs": [],
   "source": [
    "df_support = df[df['rating'].notna()].groupby('name')['rating'].first()"
   ]
  },
  {
   "cell_type": "markdown",
   "metadata": {},
   "source": [
    "Теперь заполним пропуски ESRB по совпадающим играм:"
   ]
  },
  {
   "cell_type": "code",
   "execution_count": 15,
   "metadata": {},
   "outputs": [],
   "source": [
    "df['rating'] = df['rating'].fillna(df['name'].map(df_support))"
   ]
  },
  {
   "cell_type": "markdown",
   "metadata": {},
   "source": [
    "Оставшиеся пропуски заполним заглушкой:"
   ]
  },
  {
   "cell_type": "code",
   "execution_count": 16,
   "metadata": {},
   "outputs": [],
   "source": [
    "df['rating'] = df['rating'].fillna('unknown')"
   ]
  },
  {
   "cell_type": "markdown",
   "metadata": {},
   "source": [
    "Посмотрим какую долю занимают строчки с пропусками в ['year_of_release']:"
   ]
  },
  {
   "cell_type": "code",
   "execution_count": 17,
   "metadata": {},
   "outputs": [
    {
     "data": {
      "text/plain": [
       "1.609332934489979"
      ]
     },
     "execution_count": 17,
     "metadata": {},
     "output_type": "execute_result"
    }
   ],
   "source": [
    "len(df[df['year_of_release'].isna()]) / len(df) * 100"
   ]
  },
  {
   "cell_type": "markdown",
   "metadata": {},
   "source": [
    "Всего 1.6% датасета - некрититично, можно удалить. Также можно удалить четыре строчки с пропусками в названиях и жанрах."
   ]
  },
  {
   "cell_type": "code",
   "execution_count": 18,
   "metadata": {},
   "outputs": [],
   "source": [
    "df = df.dropna(subset=['name','genre','year_of_release'])"
   ]
  },
  {
   "cell_type": "markdown",
   "metadata": {},
   "source": [
    "Проверим, что все пропуски заполнились:"
   ]
  },
  {
   "cell_type": "code",
   "execution_count": 19,
   "metadata": {},
   "outputs": [
    {
     "data": {
      "text/plain": [
       "name               0\n",
       "platform           0\n",
       "year_of_release    0\n",
       "genre              0\n",
       "na_sales           0\n",
       "eu_sales           0\n",
       "jp_sales           0\n",
       "other_sales        0\n",
       "critic_score       0\n",
       "user_score         0\n",
       "rating             0\n",
       "dtype: int64"
      ]
     },
     "execution_count": 19,
     "metadata": {},
     "output_type": "execute_result"
    }
   ],
   "source": [
    "df.isnull().sum()"
   ]
  },
  {
   "cell_type": "markdown",
   "metadata": {},
   "source": [
    "Запишем в отдельный столбец суммарные продажи во всех регионах:"
   ]
  },
  {
   "cell_type": "code",
   "execution_count": 20,
   "metadata": {},
   "outputs": [],
   "source": [
    "df['total_games'] = df['na_sales']\\\n",
    "    + df['eu_sales']\\\n",
    "    + df['jp_sales']\\\n",
    "    + df['other_sales']"
   ]
  },
  {
   "cell_type": "code",
   "execution_count": 21,
   "metadata": {},
   "outputs": [
    {
     "data": {
      "text/html": [
       "<div>\n",
       "<style scoped>\n",
       "    .dataframe tbody tr th:only-of-type {\n",
       "        vertical-align: middle;\n",
       "    }\n",
       "\n",
       "    .dataframe tbody tr th {\n",
       "        vertical-align: top;\n",
       "    }\n",
       "\n",
       "    .dataframe thead th {\n",
       "        text-align: right;\n",
       "    }\n",
       "</style>\n",
       "<table border=\"1\" class=\"dataframe\">\n",
       "  <thead>\n",
       "    <tr style=\"text-align: right;\">\n",
       "      <th></th>\n",
       "      <th>name</th>\n",
       "      <th>platform</th>\n",
       "      <th>year_of_release</th>\n",
       "      <th>genre</th>\n",
       "      <th>na_sales</th>\n",
       "      <th>eu_sales</th>\n",
       "      <th>jp_sales</th>\n",
       "      <th>other_sales</th>\n",
       "      <th>critic_score</th>\n",
       "      <th>user_score</th>\n",
       "      <th>rating</th>\n",
       "      <th>total_games</th>\n",
       "    </tr>\n",
       "  </thead>\n",
       "  <tbody>\n",
       "    <tr>\n",
       "      <th>0</th>\n",
       "      <td>Wii Sports</td>\n",
       "      <td>Wii</td>\n",
       "      <td>2006</td>\n",
       "      <td>Sports</td>\n",
       "      <td>41.36</td>\n",
       "      <td>28.96</td>\n",
       "      <td>3.77</td>\n",
       "      <td>8.45</td>\n",
       "      <td>76.0</td>\n",
       "      <td>8.0</td>\n",
       "      <td>E</td>\n",
       "      <td>82.54</td>\n",
       "    </tr>\n",
       "    <tr>\n",
       "      <th>1</th>\n",
       "      <td>Super Mario Bros.</td>\n",
       "      <td>NES</td>\n",
       "      <td>1985</td>\n",
       "      <td>Platform</td>\n",
       "      <td>29.08</td>\n",
       "      <td>3.58</td>\n",
       "      <td>6.81</td>\n",
       "      <td>0.77</td>\n",
       "      <td>-1.0</td>\n",
       "      <td>-1.0</td>\n",
       "      <td>unknown</td>\n",
       "      <td>40.24</td>\n",
       "    </tr>\n",
       "    <tr>\n",
       "      <th>2</th>\n",
       "      <td>Mario Kart Wii</td>\n",
       "      <td>Wii</td>\n",
       "      <td>2008</td>\n",
       "      <td>Racing</td>\n",
       "      <td>15.68</td>\n",
       "      <td>12.76</td>\n",
       "      <td>3.79</td>\n",
       "      <td>3.29</td>\n",
       "      <td>82.0</td>\n",
       "      <td>8.3</td>\n",
       "      <td>E</td>\n",
       "      <td>35.52</td>\n",
       "    </tr>\n",
       "    <tr>\n",
       "      <th>3</th>\n",
       "      <td>Wii Sports Resort</td>\n",
       "      <td>Wii</td>\n",
       "      <td>2009</td>\n",
       "      <td>Sports</td>\n",
       "      <td>15.61</td>\n",
       "      <td>10.93</td>\n",
       "      <td>3.28</td>\n",
       "      <td>2.95</td>\n",
       "      <td>80.0</td>\n",
       "      <td>8.0</td>\n",
       "      <td>E</td>\n",
       "      <td>32.77</td>\n",
       "    </tr>\n",
       "    <tr>\n",
       "      <th>4</th>\n",
       "      <td>Pokemon Red/Pokemon Blue</td>\n",
       "      <td>GB</td>\n",
       "      <td>1996</td>\n",
       "      <td>Role-Playing</td>\n",
       "      <td>11.27</td>\n",
       "      <td>8.89</td>\n",
       "      <td>10.22</td>\n",
       "      <td>1.00</td>\n",
       "      <td>-1.0</td>\n",
       "      <td>-1.0</td>\n",
       "      <td>unknown</td>\n",
       "      <td>31.38</td>\n",
       "    </tr>\n",
       "    <tr>\n",
       "      <th>5</th>\n",
       "      <td>Tetris</td>\n",
       "      <td>GB</td>\n",
       "      <td>1989</td>\n",
       "      <td>Puzzle</td>\n",
       "      <td>23.20</td>\n",
       "      <td>2.26</td>\n",
       "      <td>4.22</td>\n",
       "      <td>0.58</td>\n",
       "      <td>-1.0</td>\n",
       "      <td>-1.0</td>\n",
       "      <td>unknown</td>\n",
       "      <td>30.26</td>\n",
       "    </tr>\n",
       "    <tr>\n",
       "      <th>6</th>\n",
       "      <td>New Super Mario Bros.</td>\n",
       "      <td>DS</td>\n",
       "      <td>2006</td>\n",
       "      <td>Platform</td>\n",
       "      <td>11.28</td>\n",
       "      <td>9.14</td>\n",
       "      <td>6.50</td>\n",
       "      <td>2.88</td>\n",
       "      <td>89.0</td>\n",
       "      <td>8.5</td>\n",
       "      <td>E</td>\n",
       "      <td>29.80</td>\n",
       "    </tr>\n",
       "    <tr>\n",
       "      <th>7</th>\n",
       "      <td>Wii Play</td>\n",
       "      <td>Wii</td>\n",
       "      <td>2006</td>\n",
       "      <td>Misc</td>\n",
       "      <td>13.96</td>\n",
       "      <td>9.18</td>\n",
       "      <td>2.93</td>\n",
       "      <td>2.84</td>\n",
       "      <td>58.0</td>\n",
       "      <td>6.6</td>\n",
       "      <td>E</td>\n",
       "      <td>28.91</td>\n",
       "    </tr>\n",
       "    <tr>\n",
       "      <th>8</th>\n",
       "      <td>New Super Mario Bros. Wii</td>\n",
       "      <td>Wii</td>\n",
       "      <td>2009</td>\n",
       "      <td>Platform</td>\n",
       "      <td>14.44</td>\n",
       "      <td>6.94</td>\n",
       "      <td>4.70</td>\n",
       "      <td>2.24</td>\n",
       "      <td>87.0</td>\n",
       "      <td>8.4</td>\n",
       "      <td>E</td>\n",
       "      <td>28.32</td>\n",
       "    </tr>\n",
       "    <tr>\n",
       "      <th>9</th>\n",
       "      <td>Duck Hunt</td>\n",
       "      <td>NES</td>\n",
       "      <td>1984</td>\n",
       "      <td>Shooter</td>\n",
       "      <td>26.93</td>\n",
       "      <td>0.63</td>\n",
       "      <td>0.28</td>\n",
       "      <td>0.47</td>\n",
       "      <td>-1.0</td>\n",
       "      <td>-1.0</td>\n",
       "      <td>unknown</td>\n",
       "      <td>28.31</td>\n",
       "    </tr>\n",
       "    <tr>\n",
       "      <th>10</th>\n",
       "      <td>Nintendogs</td>\n",
       "      <td>DS</td>\n",
       "      <td>2005</td>\n",
       "      <td>Simulation</td>\n",
       "      <td>9.05</td>\n",
       "      <td>10.95</td>\n",
       "      <td>1.93</td>\n",
       "      <td>2.74</td>\n",
       "      <td>-1.0</td>\n",
       "      <td>-1.0</td>\n",
       "      <td>unknown</td>\n",
       "      <td>24.67</td>\n",
       "    </tr>\n",
       "    <tr>\n",
       "      <th>11</th>\n",
       "      <td>Mario Kart DS</td>\n",
       "      <td>DS</td>\n",
       "      <td>2005</td>\n",
       "      <td>Racing</td>\n",
       "      <td>9.71</td>\n",
       "      <td>7.47</td>\n",
       "      <td>4.13</td>\n",
       "      <td>1.90</td>\n",
       "      <td>91.0</td>\n",
       "      <td>8.6</td>\n",
       "      <td>E</td>\n",
       "      <td>23.21</td>\n",
       "    </tr>\n",
       "    <tr>\n",
       "      <th>12</th>\n",
       "      <td>Pokemon Gold/Pokemon Silver</td>\n",
       "      <td>GB</td>\n",
       "      <td>1999</td>\n",
       "      <td>Role-Playing</td>\n",
       "      <td>9.00</td>\n",
       "      <td>6.18</td>\n",
       "      <td>7.20</td>\n",
       "      <td>0.71</td>\n",
       "      <td>-1.0</td>\n",
       "      <td>-1.0</td>\n",
       "      <td>unknown</td>\n",
       "      <td>23.09</td>\n",
       "    </tr>\n",
       "    <tr>\n",
       "      <th>13</th>\n",
       "      <td>Wii Fit</td>\n",
       "      <td>Wii</td>\n",
       "      <td>2007</td>\n",
       "      <td>Sports</td>\n",
       "      <td>8.92</td>\n",
       "      <td>8.03</td>\n",
       "      <td>3.60</td>\n",
       "      <td>2.15</td>\n",
       "      <td>80.0</td>\n",
       "      <td>7.7</td>\n",
       "      <td>E</td>\n",
       "      <td>22.70</td>\n",
       "    </tr>\n",
       "    <tr>\n",
       "      <th>14</th>\n",
       "      <td>Kinect Adventures!</td>\n",
       "      <td>X360</td>\n",
       "      <td>2010</td>\n",
       "      <td>Misc</td>\n",
       "      <td>15.00</td>\n",
       "      <td>4.89</td>\n",
       "      <td>0.24</td>\n",
       "      <td>1.69</td>\n",
       "      <td>61.0</td>\n",
       "      <td>6.3</td>\n",
       "      <td>E</td>\n",
       "      <td>21.82</td>\n",
       "    </tr>\n",
       "  </tbody>\n",
       "</table>\n",
       "</div>"
      ],
      "text/plain": [
       "                           name platform  year_of_release         genre  \\\n",
       "0                    Wii Sports      Wii             2006        Sports   \n",
       "1             Super Mario Bros.      NES             1985      Platform   \n",
       "2                Mario Kart Wii      Wii             2008        Racing   \n",
       "3             Wii Sports Resort      Wii             2009        Sports   \n",
       "4      Pokemon Red/Pokemon Blue       GB             1996  Role-Playing   \n",
       "5                        Tetris       GB             1989        Puzzle   \n",
       "6         New Super Mario Bros.       DS             2006      Platform   \n",
       "7                      Wii Play      Wii             2006          Misc   \n",
       "8     New Super Mario Bros. Wii      Wii             2009      Platform   \n",
       "9                     Duck Hunt      NES             1984       Shooter   \n",
       "10                   Nintendogs       DS             2005    Simulation   \n",
       "11                Mario Kart DS       DS             2005        Racing   \n",
       "12  Pokemon Gold/Pokemon Silver       GB             1999  Role-Playing   \n",
       "13                      Wii Fit      Wii             2007        Sports   \n",
       "14           Kinect Adventures!     X360             2010          Misc   \n",
       "\n",
       "    na_sales  eu_sales  jp_sales  other_sales  critic_score  user_score  \\\n",
       "0      41.36     28.96      3.77         8.45          76.0         8.0   \n",
       "1      29.08      3.58      6.81         0.77          -1.0        -1.0   \n",
       "2      15.68     12.76      3.79         3.29          82.0         8.3   \n",
       "3      15.61     10.93      3.28         2.95          80.0         8.0   \n",
       "4      11.27      8.89     10.22         1.00          -1.0        -1.0   \n",
       "5      23.20      2.26      4.22         0.58          -1.0        -1.0   \n",
       "6      11.28      9.14      6.50         2.88          89.0         8.5   \n",
       "7      13.96      9.18      2.93         2.84          58.0         6.6   \n",
       "8      14.44      6.94      4.70         2.24          87.0         8.4   \n",
       "9      26.93      0.63      0.28         0.47          -1.0        -1.0   \n",
       "10      9.05     10.95      1.93         2.74          -1.0        -1.0   \n",
       "11      9.71      7.47      4.13         1.90          91.0         8.6   \n",
       "12      9.00      6.18      7.20         0.71          -1.0        -1.0   \n",
       "13      8.92      8.03      3.60         2.15          80.0         7.7   \n",
       "14     15.00      4.89      0.24         1.69          61.0         6.3   \n",
       "\n",
       "     rating  total_games  \n",
       "0         E        82.54  \n",
       "1   unknown        40.24  \n",
       "2         E        35.52  \n",
       "3         E        32.77  \n",
       "4   unknown        31.38  \n",
       "5   unknown        30.26  \n",
       "6         E        29.80  \n",
       "7         E        28.91  \n",
       "8         E        28.32  \n",
       "9   unknown        28.31  \n",
       "10  unknown        24.67  \n",
       "11        E        23.21  \n",
       "12  unknown        23.09  \n",
       "13        E        22.70  \n",
       "14        E        21.82  "
      ]
     },
     "execution_count": 21,
     "metadata": {},
     "output_type": "execute_result"
    }
   ],
   "source": [
    "df.head(15)"
   ]
  },
  {
   "cell_type": "markdown",
   "metadata": {},
   "source": [
    "## Исследовательский анализ данных"
   ]
  },
  {
   "cell_type": "markdown",
   "metadata": {},
   "source": [
    "Посмотрим на общую динамику продаж по годам:"
   ]
  },
  {
   "cell_type": "code",
   "execution_count": 22,
   "metadata": {},
   "outputs": [
    {
     "data": {
      "image/png": "[encoded data removed]",
      "text/plain": [
       "<Figure size 1296x360 with 1 Axes>"
      ]
     },
     "metadata": {
      "needs_background": "light"
     },
     "output_type": "display_data"
    }
   ],
   "source": [
    "pivot_year = df.pivot_table(index='year_of_release',\\\n",
    "                                values='total_games',\\\n",
    "                                aggfunc='sum').reset_index()\n",
    "plt.figure(figsize = (18,5))\n",
    "sns.barplot(x='year_of_release',y='total_games',data=pivot_year)\n",
    "plt.show()"
   ]
  },
  {
   "cell_type": "markdown",
   "metadata": {},
   "source": [
    "**Краткий вывод**\n",
    "\n",
    "График показывает, что бурный рост в выпуске компьютерных игр начался с 1996 года, и активно продолжался до 2008-2009 годов. С 2010 года начался спад, в 2012-2013 года были относительно стабильные, с 2014 года снижение продолжилось.\n",
    "\n",
    "За актуальный период возьмём данные **с 2012 года**, т.к. на графике видно, что вернуться к объёмам реализации 2008-2009 годов уже не получится по причине поступления на рынок мобильных игр."
   ]
  },
  {
   "cell_type": "markdown",
   "metadata": {},
   "source": [
    " "
   ]
  },
  {
   "cell_type": "markdown",
   "metadata": {},
   "source": [
    "Посмотрим, как менялись продажи по платформам. Выберем платформы с наибольшими суммарными продажами и построим распределение по годам."
   ]
  },
  {
   "cell_type": "markdown",
   "metadata": {},
   "source": [
    "Для начала определим топ платформ по продажам:"
   ]
  },
  {
   "cell_type": "code",
   "execution_count": 23,
   "metadata": {},
   "outputs": [],
   "source": [
    "# делаю пивот по платформам и суммарным продажам, сортирую по убыванию, создаю список из топ 6\n",
    "top_platforms = (\n",
    "    df.pivot_table\n",
    "    (index='platform',\n",
    "     values='total_games',\n",
    "     aggfunc='sum')\n",
    "    .sort_values(by='total_games', ascending=False)\n",
    "    .head(6)\n",
    "    .reset_index()\n",
    ")\n",
    "top_platforms = top_platforms['platform'].tolist()"
   ]
  },
  {
   "cell_type": "markdown",
   "metadata": {},
   "source": [
    "Теперь сделаем пивот по топ платформам для графика:"
   ]
  },
  {
   "cell_type": "code",
   "execution_count": 24,
   "metadata": {},
   "outputs": [
    {
     "data": {
      "text/html": [
       "<div>\n",
       "<style scoped>\n",
       "    .dataframe tbody tr th:only-of-type {\n",
       "        vertical-align: middle;\n",
       "    }\n",
       "\n",
       "    .dataframe tbody tr th {\n",
       "        vertical-align: top;\n",
       "    }\n",
       "\n",
       "    .dataframe thead th {\n",
       "        text-align: right;\n",
       "    }\n",
       "</style>\n",
       "<table border=\"1\" class=\"dataframe\">\n",
       "  <thead>\n",
       "    <tr style=\"text-align: right;\">\n",
       "      <th></th>\n",
       "      <th>platform</th>\n",
       "      <th>year_of_release</th>\n",
       "      <th>total_games</th>\n",
       "    </tr>\n",
       "  </thead>\n",
       "  <tbody>\n",
       "    <tr>\n",
       "      <th>0</th>\n",
       "      <td>DS</td>\n",
       "      <td>1985</td>\n",
       "      <td>0.02</td>\n",
       "    </tr>\n",
       "    <tr>\n",
       "      <th>1</th>\n",
       "      <td>DS</td>\n",
       "      <td>2004</td>\n",
       "      <td>17.27</td>\n",
       "    </tr>\n",
       "    <tr>\n",
       "      <th>2</th>\n",
       "      <td>DS</td>\n",
       "      <td>2005</td>\n",
       "      <td>130.14</td>\n",
       "    </tr>\n",
       "    <tr>\n",
       "      <th>3</th>\n",
       "      <td>DS</td>\n",
       "      <td>2006</td>\n",
       "      <td>119.81</td>\n",
       "    </tr>\n",
       "    <tr>\n",
       "      <th>4</th>\n",
       "      <td>DS</td>\n",
       "      <td>2007</td>\n",
       "      <td>146.94</td>\n",
       "    </tr>\n",
       "    <tr>\n",
       "      <th>...</th>\n",
       "      <td>...</td>\n",
       "      <td>...</td>\n",
       "      <td>...</td>\n",
       "    </tr>\n",
       "    <tr>\n",
       "      <th>62</th>\n",
       "      <td>X360</td>\n",
       "      <td>2012</td>\n",
       "      <td>99.74</td>\n",
       "    </tr>\n",
       "    <tr>\n",
       "      <th>63</th>\n",
       "      <td>X360</td>\n",
       "      <td>2013</td>\n",
       "      <td>88.58</td>\n",
       "    </tr>\n",
       "    <tr>\n",
       "      <th>64</th>\n",
       "      <td>X360</td>\n",
       "      <td>2014</td>\n",
       "      <td>34.74</td>\n",
       "    </tr>\n",
       "    <tr>\n",
       "      <th>65</th>\n",
       "      <td>X360</td>\n",
       "      <td>2015</td>\n",
       "      <td>11.96</td>\n",
       "    </tr>\n",
       "    <tr>\n",
       "      <th>66</th>\n",
       "      <td>X360</td>\n",
       "      <td>2016</td>\n",
       "      <td>1.52</td>\n",
       "    </tr>\n",
       "  </tbody>\n",
       "</table>\n",
       "<p>67 rows × 3 columns</p>\n",
       "</div>"
      ],
      "text/plain": [
       "   platform  year_of_release  total_games\n",
       "0        DS             1985         0.02\n",
       "1        DS             2004        17.27\n",
       "2        DS             2005       130.14\n",
       "3        DS             2006       119.81\n",
       "4        DS             2007       146.94\n",
       "..      ...              ...          ...\n",
       "62     X360             2012        99.74\n",
       "63     X360             2013        88.58\n",
       "64     X360             2014        34.74\n",
       "65     X360             2015        11.96\n",
       "66     X360             2016         1.52\n",
       "\n",
       "[67 rows x 3 columns]"
      ]
     },
     "execution_count": 24,
     "metadata": {},
     "output_type": "execute_result"
    }
   ],
   "source": [
    "pivot_platform = df[df['platform'].isin(top_platforms)].pivot_table(index=['platform','year_of_release'],\\\n",
    "                                                            values='total_games',\\\n",
    "                                                           aggfunc='sum').reset_index()\n",
    "pivot_platform"
   ]
  },
  {
   "cell_type": "markdown",
   "metadata": {},
   "source": [
    "Построим распределение продаж на топ платформах по годам:"
   ]
  },
  {
   "cell_type": "code",
   "execution_count": 25,
   "metadata": {},
   "outputs": [
    {
     "data": {
      "image/png": "[encoded data removed]",
      "text/plain": [
       "<Figure size 1296x360 with 1 Axes>"
      ]
     },
     "metadata": {
      "needs_background": "light"
     },
     "output_type": "display_data"
    }
   ],
   "source": [
    "plt.figure(figsize = (18,5))\n",
    "sns.barplot(x='year_of_release',y='total_games',hue='platform',data=pivot_platform)\n",
    "plt.show()"
   ]
  },
  {
   "cell_type": "markdown",
   "metadata": {},
   "source": [
    "**Краткий вывод**\n",
    "\n",
    "График показывает, что характерный срок, за который появляются новые и исчезают старые платформы примерно 7-10 лет. Также на графике наглядно видно, как более новые версии PS заменяют старые: продажи игр на PS стартуют в 1994, затем в 2000-2001 годах PS2 заменяет PS, затем в 2008 году PS3 обновляет PS2. При этом с 2006-2010 годов растут продажи на X360 и Wii. Также с 2005 по 2008 годов существенную долю в продажах занимали игры на платформе DS. С 2010 рынок поделили 2 явных лидера - PS3 и X360, этот год также был пиком продаж для данных двух платформ, однако с 2011 виден постепенный спад продаж. В 2014 году продали в 2 раза меньше, чем год назад - дела у играх на консолях совсем стали плохи, а в 2015 и 2016 годах объемы продаж упали до 1994 года."
   ]
  },
  {
   "cell_type": "markdown",
   "metadata": {},
   "source": [
    " "
   ]
  },
  {
   "cell_type": "markdown",
   "metadata": {},
   "source": [
    "На основе предыдущих выводов сформируем отдельный **good_df** с реализациями игр начиная с 2012 года:"
   ]
  },
  {
   "cell_type": "code",
   "execution_count": 26,
   "metadata": {},
   "outputs": [],
   "source": [
    "good_df = df[df['year_of_release']>= 2012]"
   ]
  },
  {
   "cell_type": "markdown",
   "metadata": {},
   "source": [
    "Теперь посмотрим еще раз на лидеров рынка конкретно за исследуемый период:"
   ]
  },
  {
   "cell_type": "code",
   "execution_count": 27,
   "metadata": {},
   "outputs": [
    {
     "data": {
      "image/png": "[encoded data removed]",
      "text/plain": [
       "<Figure size 1296x360 with 1 Axes>"
      ]
     },
     "metadata": {
      "needs_background": "light"
     },
     "output_type": "display_data"
    }
   ],
   "source": [
    "pivot_platform = good_df.pivot_table(index=['platform','year_of_release'],\\\n",
    "                                                            values='total_games',\\\n",
    "                                                           aggfunc='sum').reset_index()\n",
    "plt.figure(figsize = (18,5))\n",
    "sns.barplot(x='year_of_release',y='total_games',hue='platform',data=pivot_platform)\n",
    "plt.show()"
   ]
  },
  {
   "cell_type": "markdown",
   "metadata": {},
   "source": [
    "В 2012 - 2013 годах явными лидерами рынка были PS3 и X360. Еще можно отметить платформу 3DS - с 2012 по 2014 у данной консоли тоже была определенная доля на рынке. С 2014 по 2016 года самой популярной приставкой являлась PS4, а также XOne - у данной приставки тоже были свои фанаты. У остальных платформ доля на рынке гораздо меньше.\n",
    "\n",
    "**Краткий вывод**\n",
    "\n",
    "Самые популярные платформы за исследуемый период: 'PS3', 'X360', '3DS', 'PS4', 'XOne'."
   ]
  },
  {
   "cell_type": "code",
   "execution_count": 28,
   "metadata": {},
   "outputs": [],
   "source": [
    "most_popular_platform = ['PS3', 'X360', '3DS', 'PS4', 'XOne']"
   ]
  },
  {
   "cell_type": "markdown",
   "metadata": {},
   "source": [
    "Построим график «ящик с усами» по глобальным продажам игр в разбивке по топ платформам:"
   ]
  },
  {
   "cell_type": "code",
   "execution_count": 29,
   "metadata": {},
   "outputs": [
    {
     "data": {
      "image/png": "[encoded data removed]",
      "text/plain": [
       "<Figure size 1080x360 with 1 Axes>"
      ]
     },
     "metadata": {
      "needs_background": "light"
     },
     "output_type": "display_data"
    }
   ],
   "source": [
    "plt.figure(figsize = (15,5))\n",
    "sns.boxplot(data=good_df.query('platform == @most_popular_platform'), x='platform', y='total_games')\n",
    "plt.ylim(0,5)\n",
    "plt.show()"
   ]
  },
  {
   "cell_type": "markdown",
   "metadata": {},
   "source": [
    "На графике хорошо видно, что для всех платформ типовой размер реализации игр (тут имею ввиду межквартильный размах 3Q) лежит примерно до 2 млн. С 2 до 4 млн. - жирные хвосты, игры, которые \"выстрелили\" и были супер-популярными. Дальше уже начинаются выбросы - особо редкие наблюдения, их по несколько штук на каждой платформе. Построим гистограмму, чтоб посмотреть немного под иным углом:"
   ]
  },
  {
   "cell_type": "code",
   "execution_count": 30,
   "metadata": {},
   "outputs": [
    {
     "data": {
      "image/png": "[encoded data removed]",
      "text/plain": [
       "<Figure size 432x288 with 1 Axes>"
      ]
     },
     "metadata": {
      "needs_background": "light"
     },
     "output_type": "display_data"
    }
   ],
   "source": [
    "good_df.query('platform == \"PS4\"')['total_games'].hist()\n",
    "plt.xlabel('Миллионы проданных копий')\n",
    "plt.show()"
   ]
  },
  {
   "cell_type": "markdown",
   "metadata": {},
   "source": [
    "Гистограмма подтверждает, что основное распределение реализации игр лежит до 2 млн. Но также есть определённый набор игр до 4 млн. - дальше уже идут редкие, выбивающиеся значения."
   ]
  },
  {
   "cell_type": "markdown",
   "metadata": {},
   "source": [
    "Теперь посмотрим, как влияют на продажи игр на PS4 отзывы пользователей и критиков. Построим диаграмму рассеяния и посчитаем корреляцию между отзывами пользователей и продажами. Возьмём только игры с мировыми продажами до 4 млн."
   ]
  },
  {
   "cell_type": "code",
   "execution_count": 31,
   "metadata": {},
   "outputs": [
    {
     "data": {
      "image/png": "[encoded data removed]",
      "text/plain": [
       "<Figure size 432x288 with 1 Axes>"
      ]
     },
     "metadata": {
      "needs_background": "light"
     },
     "output_type": "display_data"
    }
   ],
   "source": [
    "sns.scatterplot(data=good_df.query('platform==\"PS4\" and user_score > 0 and total_games < 4'),\n",
    "                x=\"user_score\",\n",
    "                y=\"total_games\")\n",
    "plt.show()"
   ]
  },
  {
   "cell_type": "markdown",
   "metadata": {},
   "source": [
    "Диаграмма рассеяния показывает, связи между оценкой пользователя и мировыми продажами практически нет. Несмотря на то, что в левой верхней части прямоугольника нет наблюдений (т.е. нет игр с низкими оценками, но высокими продажами), в правой части есть наблюдения и снизу, и сверху - т.е. есть игры с высокими оценками снизкими продажами, так и с высокими продажами. Посчитаем коэффициент корреляции:"
   ]
  },
  {
   "cell_type": "code",
   "execution_count": 32,
   "metadata": {
    "scrolled": true
   },
   "outputs": [
    {
     "data": {
      "text/plain": [
       "0.018066258359616935"
      ]
     },
     "execution_count": 32,
     "metadata": {},
     "output_type": "execute_result"
    }
   ],
   "source": [
    "good_df.query('platform==\"PS4\" and user_score > 0 and total_games < 4')['total_games']\\\n",
    ".corr(good_df.query('platform==\"PS4\" and user_score > 0 and total_games < 4')['user_score'])"
   ]
  },
  {
   "cell_type": "markdown",
   "metadata": {},
   "source": [
    "Коэффициент подтверждает, что связи никакой нет. Теперь проверим связь между оценкой критиков и продажами."
   ]
  },
  {
   "cell_type": "code",
   "execution_count": 33,
   "metadata": {
    "scrolled": true
   },
   "outputs": [
    {
     "data": {
      "image/png": "[encoded data removed]",
      "text/plain": [
       "<Figure size 432x288 with 1 Axes>"
      ]
     },
     "metadata": {
      "needs_background": "light"
     },
     "output_type": "display_data"
    }
   ],
   "source": [
    "sns.scatterplot(data=good_df.query('platform==\"PS4\" and critic_score > 0 and total_games < 4'),\n",
    "                x=\"critic_score\",\n",
    "                y=\"total_games\")\n",
    "\n",
    "plt.show()"
   ]
  },
  {
   "cell_type": "markdown",
   "metadata": {},
   "source": [
    "Ситуация схожа с оценками пользователей - есть игры с высокими оценками критиков с низкими продажами и высокими продажами. Посчитаем коэффициент корреляции:"
   ]
  },
  {
   "cell_type": "code",
   "execution_count": 34,
   "metadata": {},
   "outputs": [
    {
     "data": {
      "text/plain": [
       "0.38870967969534787"
      ]
     },
     "execution_count": 34,
     "metadata": {},
     "output_type": "execute_result"
    }
   ],
   "source": [
    "good_df.query('platform==\"PS4\" and critic_score > 0 and total_games < 4')['total_games']\\\n",
    ".corr(good_df.query('platform==\"PS4\" and critic_score > 0 and total_games < 4')['critic_score'])"
   ]
  },
  {
   "cell_type": "markdown",
   "metadata": {},
   "source": [
    "Корреляция чуть выше, чем с оценками пользователей, но всё равно связь несущественная."
   ]
  },
  {
   "cell_type": "markdown",
   "metadata": {},
   "source": [
    "Построим такие же графики для других платформ, и посчитаем для них коэффициенты корреляции:"
   ]
  },
  {
   "cell_type": "code",
   "execution_count": 35,
   "metadata": {
    "scrolled": true
   },
   "outputs": [
    {
     "data": {
      "image/png": "[encoded data removed]",
      "text/plain": [
       "<Figure size 1440x216 with 4 Axes>"
      ]
     },
     "metadata": {
      "needs_background": "light"
     },
     "output_type": "display_data"
    }
   ],
   "source": [
    "fig, ax = plt.subplots(nrows=1, ncols=4, sharey=True, figsize=(20,3))\n",
    "\n",
    "ax[0].scatter(data=good_df.query('platform==\"X360\" and user_score > 0 and total_games < 4'), x='user_score',y='total_games')\n",
    "ax[1].scatter(data=good_df.query('platform==\"PS3\" and user_score > 0 and total_games < 4'), x='user_score',y='total_games')\n",
    "ax[2].scatter(data=good_df.query('platform==\"3DS\" and user_score > 0 and total_games < 4'), x='user_score',y='total_games')\n",
    "ax[3].scatter(data=good_df.query('platform==\"XOne\" and user_score > 0 and total_games < 4'), x='user_score',y='total_games')\n",
    "for item in range(0,4):\n",
    "    ax[item].set_ylabel('Мировые продажи')\n",
    "    ax[item].set_xlabel('User score')\n",
    "    \n",
    "ax[0].set_title('X360')\n",
    "ax[1].set_title('PS3')\n",
    "ax[2].set_title('3DS')\n",
    "ax[3].set_title('XOne')\n",
    "plt.show()"
   ]
  },
  {
   "cell_type": "code",
   "execution_count": 36,
   "metadata": {},
   "outputs": [
    {
     "name": "stdout",
     "output_type": "stream",
     "text": [
      "Корреляция между оценками пользователей и мировыми продажами:\n",
      "\n",
      "Коэффициент кореляции на PS3 равен 0.07933051364487355\n",
      "Коэффициент кореляции на X360 равен 0.12388193743999627\n",
      "Коэффициент кореляции на 3DS равен 0.22564973886704512\n",
      "Коэффициент кореляции на PS4 равен 0.018066258359616935\n",
      "Коэффициент кореляции на XOne равен -0.08698831966398428\n"
     ]
    }
   ],
   "source": [
    "print('Корреляция между оценками пользователей и мировыми продажами:\\n')\n",
    "for item in most_popular_platform:\n",
    "    print(\n",
    "        'Коэффициент кореляции на', item, 'равен',\\\n",
    "        good_df.query('platform==@item and user_score > 0 and total_games < 4')['total_games']\\\n",
    "        .corr(good_df.query('platform==@item and user_score > 0 and total_games < 4')['user_score'])\n",
    "    )"
   ]
  },
  {
   "cell_type": "markdown",
   "metadata": {},
   "source": [
    "Как видно на графиках, оценка пользователей несущественно влияет на продажи и на других платформах. В одном можно быть точно уверенным - не бывает игр с низкими оценками, но высокими продажами. Коэффициенты корреляции также низкие, что подтверждает слабую связь."
   ]
  },
  {
   "cell_type": "markdown",
   "metadata": {},
   "source": [
    "Сделаем такой же анализ с оценками критиков:"
   ]
  },
  {
   "cell_type": "code",
   "execution_count": 37,
   "metadata": {},
   "outputs": [
    {
     "data": {
      "image/png": "[encoded data removed]",
      "text/plain": [
       "<Figure size 1440x216 with 4 Axes>"
      ]
     },
     "metadata": {
      "needs_background": "light"
     },
     "output_type": "display_data"
    }
   ],
   "source": [
    "fig, ax = plt.subplots(nrows=1, ncols=4, sharey=True, figsize=(20,3))\n",
    "\n",
    "ax[0].scatter(data=good_df.query('platform==\"X360\" and critic_score > 0 and total_games < 4'), x='critic_score',y='total_games')\n",
    "ax[1].scatter(data=good_df.query('platform==\"PS3\" and critic_score > 0 and total_games < 4'), x='critic_score',y='total_games')\n",
    "ax[2].scatter(data=good_df.query('platform==\"3DS\" and critic_score > 0 and total_games < 4'), x='critic_score',y='total_games')\n",
    "ax[3].scatter(data=good_df.query('platform==\"XOne\" and critic_score > 0 and total_games < 4'), x='critic_score',y='total_games')\n",
    "for item in range(0,4):\n",
    "    ax[item].set_ylabel('Мировые продажи')\n",
    "    ax[item].set_xlabel('Critic score')\n",
    "    \n",
    "ax[0].set_title('X360')\n",
    "ax[1].set_title('PS3')\n",
    "ax[2].set_title('3DS')\n",
    "ax[3].set_title('XOne')\n",
    "plt.show()"
   ]
  },
  {
   "cell_type": "code",
   "execution_count": 38,
   "metadata": {},
   "outputs": [
    {
     "name": "stdout",
     "output_type": "stream",
     "text": [
      "Корреляция между оценками критиков и мировыми продажами:\n",
      "\n",
      "Коэффициент кореляции на  PS3 равен 0.4552955677850093\n",
      "Коэффициент кореляции на  X360 равен 0.4950969220466902\n",
      "Коэффициент кореляции на  3DS равен 0.33902437993862006\n",
      "Коэффициент кореляции на  PS4 равен 0.38870967969534787\n",
      "Коэффициент кореляции на  XOne равен 0.40247317540796707\n"
     ]
    }
   ],
   "source": [
    "print('Корреляция между оценками критиков и мировыми продажами:\\n')\n",
    "for item in most_popular_platform:\n",
    "    print(\n",
    "        'Коэффициент кореляции на ', item, 'равен',\\\n",
    "        good_df.query('platform==@item and critic_score > 0 and total_games < 4')['total_games']\\\n",
    "        .corr(good_df.query('platform==@item and critic_score > 0 and total_games < 4')['critic_score'])\n",
    "    )"
   ]
  },
  {
   "cell_type": "markdown",
   "metadata": {},
   "source": [
    "Как и с оценками пользователей, смотря на графики выше нельзя быть уверенным, что мировые продажи зависят от оценок критиков. Есть игры с высокими продажами, так и с небольшими продажами, но с высокой оценкой. При этом нет игр с низкими оценками, но высокими продажами. Коэффициенты корреляции выше, чем в оценках пользователей, но тем не менее всё еще недостаточные, чтобы говорить о сильной связи."
   ]
  },
  {
   "cell_type": "markdown",
   "metadata": {},
   "source": [
    "Посмотрим на общее распределение игр по жанрам. Cформируем пивот и построим по ней график."
   ]
  },
  {
   "cell_type": "code",
   "execution_count": 39,
   "metadata": {},
   "outputs": [
    {
     "data": {
      "image/png": "[encoded data removed]",
      "text/plain": [
       "<Figure size 1080x360 with 1 Axes>"
      ]
     },
     "metadata": {
      "needs_background": "light"
     },
     "output_type": "display_data"
    }
   ],
   "source": [
    "pivot_jenre = good_df.pivot_table(index='genre',\n",
    "                                  values='total_games',\n",
    "                                  aggfunc='sum').reset_index().sort_values(by='total_games', ascending=False)\n",
    "plt.figure(figsize = (15,5))\n",
    "sns.barplot(data=pivot_jenre,x='genre',y='total_games')\n",
    "plt.show()"
   ]
  },
  {
   "cell_type": "markdown",
   "metadata": {},
   "source": [
    "Самый прибыльный жанр - Action. На втором месте Shooter. 3 место делят между собой Role-Playing и Sports. Остальные жанры существенно отстают по прибыльности."
   ]
  },
  {
   "cell_type": "markdown",
   "metadata": {},
   "source": [
    "## Портрет пользователя каждого региона"
   ]
  },
  {
   "cell_type": "markdown",
   "metadata": {},
   "source": [
    "Посмотрим, как распределяются продажи в разрезе самых популярных (топ-5) платформ в каждом регионе. В качестве agg используем медиану, как менее зависимую от выбросов величину."
   ]
  },
  {
   "cell_type": "code",
   "execution_count": 40,
   "metadata": {},
   "outputs": [
    {
     "data": {
      "image/png": "[encoded data removed]",
      "text/plain": [
       "<Figure size 576x216 with 1 Axes>"
      ]
     },
     "metadata": {
      "needs_background": "light"
     },
     "output_type": "display_data"
    },
    {
     "data": {
      "image/png": "[encoded data removed]",
      "text/plain": [
       "<Figure size 576x216 with 1 Axes>"
      ]
     },
     "metadata": {
      "needs_background": "light"
     },
     "output_type": "display_data"
    },
    {
     "data": {
      "image/png": "[encoded data removed]",
      "text/plain": [
       "<Figure size 576x216 with 1 Axes>"
      ]
     },
     "metadata": {
      "needs_background": "light"
     },
     "output_type": "display_data"
    }
   ],
   "source": [
    "columns = ['na_sales', 'eu_sales', 'jp_sales']\n",
    "for i in columns:\n",
    "    pivot_platform = good_df.pivot_table(index='platform',\n",
    "                                         values=i,\n",
    "                                        aggfunc='median').reset_index().sort_values(by=i,ascending=False).head(5)\n",
    "    plt.figure(figsize = (8,3))\n",
    "    sns.barplot(x='platform',y=i,data=pivot_platform)\n",
    "    plt.show()"
   ]
  },
  {
   "cell_type": "markdown",
   "metadata": {},
   "source": [
    "В Северной Америке и Европе самая популярная платформа - X360. Второе место в Европе занимает PS4, в то время как в Америке на втором месте XOne. На 3 месте в Америке и Европе WiiU. В Японии самая популярная платформа - 3DS. Второе место поделили между собой PS3, PSP и PSV. X360 и XOne не пользуются популярностью в Японии вовсе.\n"
   ]
  },
  {
   "cell_type": "markdown",
   "metadata": {},
   "source": [
    "Посмотрим, как распределяются продажи в разрезе самых популярных (топ-5) жанров в каждом регионе. В качестве agg используем медиану, как менее зависимую от выбросов величину."
   ]
  },
  {
   "cell_type": "code",
   "execution_count": 41,
   "metadata": {},
   "outputs": [
    {
     "data": {
      "image/png": "[encoded data removed]",
      "text/plain": [
       "<Figure size 576x216 with 1 Axes>"
      ]
     },
     "metadata": {
      "needs_background": "light"
     },
     "output_type": "display_data"
    },
    {
     "data": {
      "image/png": "[encoded data removed]",
      "text/plain": [
       "<Figure size 576x216 with 1 Axes>"
      ]
     },
     "metadata": {
      "needs_background": "light"
     },
     "output_type": "display_data"
    },
    {
     "data": {
      "image/png": "[encoded data removed]",
      "text/plain": [
       "<Figure size 576x216 with 1 Axes>"
      ]
     },
     "metadata": {
      "needs_background": "light"
     },
     "output_type": "display_data"
    }
   ],
   "source": [
    "columns = ['na_sales', 'eu_sales', 'jp_sales']\n",
    "for i in columns:\n",
    "    pivot_genre = good_df.pivot_table(index='genre',\n",
    "                                         values=i,\n",
    "                                        aggfunc='median').reset_index().sort_values(by=i,ascending=False).head(5)\n",
    "    plt.figure(figsize = (8,3))\n",
    "    sns.barplot(x='genre',y=i,data=pivot_genre)\n",
    "    plt.show()"
   ]
  },
  {
   "cell_type": "markdown",
   "metadata": {},
   "source": [
    "В Северной Америке и Европе самый популярный жанр - Shooter. На втором месте в Америке жанр Platform, в Европе он на 3 месте по популярности, немного отставая от Racing. А вот в Америке Racing на 5 месте. Также в Америке пользуется популярностью жанр Fighting, в то время как в Европе этого жанра нет в топ-5 по жанрам. В Японии Shooting отсутствует в топ-5 жанрах. Допускаю, что это связано с ограничениями на жестокие сцены в играх. Самым популярным жанром является Role_Playing, на 2 месте Fighting."
   ]
  },
  {
   "cell_type": "markdown",
   "metadata": {},
   "source": [
    "Теперь посмотрим, влияет рейтинг ESRB на продажи в каждом регионе. Сформируем сводную таблицу в разрезе рейтингов и регионов по медианам продаж. Подсветим самые существенные позиции."
   ]
  },
  {
   "cell_type": "code",
   "execution_count": 42,
   "metadata": {},
   "outputs": [
    {
     "data": {
      "text/html": [
       "<style  type=\"text/css\" >\n",
       "#T_615c5_row0_col0,#T_615c5_row0_col2,#T_615c5_row4_col1{\n",
       "            background-color:  #023858;\n",
       "            color:  #f1f1f1;\n",
       "        }#T_615c5_row0_col1,#T_615c5_row1_col1,#T_615c5_row2_col1,#T_615c5_row4_col0,#T_615c5_row4_col2{\n",
       "            background-color:  #fff7fb;\n",
       "            color:  #000000;\n",
       "        }#T_615c5_row1_col0{\n",
       "            background-color:  #045f95;\n",
       "            color:  #f1f1f1;\n",
       "        }#T_615c5_row1_col2{\n",
       "            background-color:  #034b76;\n",
       "            color:  #f1f1f1;\n",
       "        }#T_615c5_row2_col0{\n",
       "            background-color:  #83afd3;\n",
       "            color:  #000000;\n",
       "        }#T_615c5_row2_col2{\n",
       "            background-color:  #73a9cf;\n",
       "            color:  #000000;\n",
       "        }#T_615c5_row3_col0{\n",
       "            background-color:  #bdc8e1;\n",
       "            color:  #000000;\n",
       "        }#T_615c5_row3_col1{\n",
       "            background-color:  #2685bb;\n",
       "            color:  #000000;\n",
       "        }#T_615c5_row3_col2{\n",
       "            background-color:  #acc0dd;\n",
       "            color:  #000000;\n",
       "        }</style><table id=\"T_615c5_\" ><thead>    <tr>        <th class=\"blank level0\" ></th>        <th class=\"col_heading level0 col0\" >eu_sales</th>        <th class=\"col_heading level0 col1\" >jp_sales</th>        <th class=\"col_heading level0 col2\" >na_sales</th>    </tr>    <tr>        <th class=\"index_name level0\" >rating</th>        <th class=\"blank\" ></th>        <th class=\"blank\" ></th>        <th class=\"blank\" ></th>    </tr></thead><tbody>\n",
       "                <tr>\n",
       "                        <th id=\"T_615c5_level0_row0\" class=\"row_heading level0 row0\" >M</th>\n",
       "                        <td id=\"T_615c5_row0_col0\" class=\"data row0 col0\" >0.130000</td>\n",
       "                        <td id=\"T_615c5_row0_col1\" class=\"data row0 col1\" >0.000000</td>\n",
       "                        <td id=\"T_615c5_row0_col2\" class=\"data row0 col2\" >0.140000</td>\n",
       "            </tr>\n",
       "            <tr>\n",
       "                        <th id=\"T_615c5_level0_row1\" class=\"row_heading level0 row1\" >E10+</th>\n",
       "                        <td id=\"T_615c5_row1_col0\" class=\"data row1 col0\" >0.110000</td>\n",
       "                        <td id=\"T_615c5_row1_col1\" class=\"data row1 col1\" >0.000000</td>\n",
       "                        <td id=\"T_615c5_row1_col2\" class=\"data row1 col2\" >0.130000</td>\n",
       "            </tr>\n",
       "            <tr>\n",
       "                        <th id=\"T_615c5_level0_row2\" class=\"row_heading level0 row2\" >E</th>\n",
       "                        <td id=\"T_615c5_row2_col0\" class=\"data row2 col0\" >0.060000</td>\n",
       "                        <td id=\"T_615c5_row2_col1\" class=\"data row2 col1\" >0.000000</td>\n",
       "                        <td id=\"T_615c5_row2_col2\" class=\"data row2 col2\" >0.070000</td>\n",
       "            </tr>\n",
       "            <tr>\n",
       "                        <th id=\"T_615c5_level0_row3\" class=\"row_heading level0 row3\" >T</th>\n",
       "                        <td id=\"T_615c5_row3_col0\" class=\"data row3 col0\" >0.040000</td>\n",
       "                        <td id=\"T_615c5_row3_col1\" class=\"data row3 col1\" >0.020000</td>\n",
       "                        <td id=\"T_615c5_row3_col2\" class=\"data row3 col2\" >0.050000</td>\n",
       "            </tr>\n",
       "            <tr>\n",
       "                        <th id=\"T_615c5_level0_row4\" class=\"row_heading level0 row4\" >unknown</th>\n",
       "                        <td id=\"T_615c5_row4_col0\" class=\"data row4 col0\" >0.000000</td>\n",
       "                        <td id=\"T_615c5_row4_col1\" class=\"data row4 col1\" >0.030000</td>\n",
       "                        <td id=\"T_615c5_row4_col2\" class=\"data row4 col2\" >0.000000</td>\n",
       "            </tr>\n",
       "    </tbody></table>"
      ],
      "text/plain": [
       "<pandas.io.formats.style.Styler at 0x7f8a225b7400>"
      ]
     },
     "execution_count": 42,
     "metadata": {},
     "output_type": "execute_result"
    }
   ],
   "source": [
    "good_df.pivot_table(index='rating',values=columns,aggfunc='median')\\\n",
    ".sort_values(by='eu_sales',ascending=False)\\\n",
    ".style.background_gradient()"
   ]
  },
  {
   "cell_type": "markdown",
   "metadata": {},
   "source": [
    "По таблице выше можно сделать вывод, что в Европе и Северной Америке самые продаваемые игры с рейтингом \"Mature\" и \"Everyone 10 and older\". В Японии больше всего продаётся игр с рейтингом \"Teen\" - продукты для лиц от 13 лет."
   ]
  },
  {
   "cell_type": "markdown",
   "metadata": {},
   "source": [
    "## Проверка гипотез"
   ]
  },
  {
   "cell_type": "markdown",
   "metadata": {},
   "source": [
    "Проверим следующие гипотезы:\n",
    "\n",
    "Нулевая гипотеза: средние пользовательские рейтинги платформ Xbox One и PC одинаковые;\n",
    "\n",
    "Альтернативная гипотеза: средние пользовательские рейтинги платформ Xbox One и PC различаются."
   ]
  },
  {
   "cell_type": "markdown",
   "metadata": {},
   "source": [
    "Воспользуемся специальным методом для проверки гипотезы о равенстве среднего двух генеральных совокупностей по взятым из них выборкам: scipy.ttest_ind.\n",
    "Также, т.к. скорей всего выборки разного размера и можно предположить, что дисперсии у генеральных совокупностей разные — укажем equal_var = False в данном методе, чтобы тест посчитал дисперсии выборок по отдельности."
   ]
  },
  {
   "cell_type": "code",
   "execution_count": 44,
   "metadata": {},
   "outputs": [
    {
     "name": "stdout",
     "output_type": "stream",
     "text": [
      "p-значение: 0.5489537965134912\n",
      "Не получилось отвергнуть нулевую гипотезу\n"
     ]
    }
   ],
   "source": [
    "df_xbox = good_df.query('platform==\"XOne\" and user_score>0')['user_score']\n",
    "df_pc = good_df.query('platform==\"PC\" and user_score>0')['user_score']\n",
    "\n",
    "alpha = .01 # зададим критический уровень статистической значимости\n",
    "\n",
    "results = st.ttest_ind(df_xbox, df_pc, equal_var=False) # проверим гипотезу о равенстве средних двух независимых совокупностей\n",
    "\n",
    "print('p-значение:', results.pvalue) # выведем на экран получившееся p-значение\n",
    "\n",
    "if results.pvalue < alpha: # сравним получившееся p-значение с заданным уровнем статистической значимости :\n",
    "    print(\"Отвергаем нулевую гипотезу\")\n",
    "else:\n",
    "    print(\"Не получилось отвергнуть нулевую гипотезу\")"
   ]
  },
  {
   "cell_type": "markdown",
   "metadata": {},
   "source": [
    "Значение p-value 0.55 - это означает, что вероятность получить наблюдаемый или еще более далекий от предполагаемого результат при условии, что нулевая гипотеза верна, составляет 55%. Чем ближе выборочное среднее от значения, предполагаемого в нулевой гипотезе, тем p-value больше. Мы получили значение, гораздо больше критического уровня статистической значимости, а значит отвергнуть нулевую гипотезу не получилось."
   ]
  },
  {
   "cell_type": "markdown",
   "metadata": {},
   "source": [
    "Проверим следующие гипотезы:\n",
    "\n",
    "Нулевая гипотеза: средние пользовательские рейтинги жанров Action (англ. «действие», экшен-игры) и Sports (англ. «спортивные соревнования») одинаковые;\n",
    "\n",
    "Альтернативная гипотеза: средние пользовательские рейтинги жанров Action (англ. «действие», экшен-игры) и Sports (англ. «спортивные соревнования») разные;"
   ]
  },
  {
   "cell_type": "markdown",
   "metadata": {},
   "source": [
    "Воспользуемся специальным методом для проверки гипотезы о равенстве среднего двух генеральных совокупностей по взятым из них выборкам: scipy.ttest_ind.\n",
    "Также, т.к. скорей всего выборки разного размера и можно предположить, что дисперсии у генеральных совокупностей разные — укажем equal_var = False в данном методе, чтобы тест посчитал дисперсии выборок по отдельности."
   ]
  },
  {
   "cell_type": "code",
   "execution_count": 45,
   "metadata": {},
   "outputs": [
    {
     "name": "stdout",
     "output_type": "stream",
     "text": [
      "p-значение: 4.24307776572644e-20\n",
      "Отвергаем нулевую гипотезу\n"
     ]
    }
   ],
   "source": [
    "df_action = good_df.query('genre==\"Action\" and user_score>0')['user_score']\n",
    "df_sports = good_df.query('genre==\"Sports\" and user_score>0')['user_score']\n",
    "\n",
    "alpha = .01 # зададим критический уровень статистической значимости\n",
    "\n",
    "results = st.ttest_ind(df_action, df_sports, equal_var=False) # проверим гипотезу о равенстве средних двух независимых совокупностей\n",
    "\n",
    "print('p-значение:', results.pvalue) # выведем на экран получившееся p-значение\n",
    "\n",
    "if results.pvalue < alpha: # сравним получившееся p-значение с заданным уровнем статистической значимости :\n",
    "    print(\"Отвергаем нулевую гипотезу\")\n",
    "else:\n",
    "    print(\"Не получилось отвергнуть нулевую гипотезу\")"
   ]
  },
  {
   "cell_type": "markdown",
   "metadata": {},
   "source": [
    "Чем дальше выборочное среднее от значения, предполагаемого в нулевой гипотезе, тем p-value меньше. Мы получили значение, гораздо меньше критического уровня статистической значимости, а значит отвергнули нулевую гипотезу."
   ]
  },
  {
   "cell_type": "markdown",
   "metadata": {},
   "source": [
    "## Общий вывод"
   ]
  },
  {
   "cell_type": "markdown",
   "metadata": {},
   "source": [
    "### Какая работа была проделана:"
   ]
  },
  {
   "cell_type": "markdown",
   "metadata": {},
   "source": [
    "Мы провели подготовку данных: замените названия столбцов - привели к нижнему регистру, преобразовали данные в нужные типы, обработали пропуски, посчитали суммарные продажи во всех регионах и записали их в отдельный столбец.\n",
    "\n",
    "Затем мы провели исследовательский анализ данных: посмотрели, сколько игр выпускалось в разные годы, как менялись продажи по платформам. Затем выбрали платформы с наибольшими суммарными продажами и построили распределение по годам. Затем определили актуальный период для построения прогноза на 2017 год. Выбрали несколько потенциально прибыльных платформ. После этого мы построили график «ящик с усами» по глобальным продажам игр в разбивке по платформам. Посмотрели, как влияют на продажи внутри PS4 отзывы пользователей и критиков. Построили диаграмму рассеяния и посчитали корреляцию между отзывами и продажами. Провели аналогичный анализ по продажам игр на других платформах. Также мы посмотрели на общее распределение игр по жанрам.\n",
    "\n",
    "Дальше мы составили портрет пользователя каждого региона. Мы определили для пользователя каждого региона (NA, EU, JP):\n",
    "\n",
    "1. Самые популярные платформы (топ-5).\n",
    "2. Самые популярные жанры (топ-5).\n",
    "3. Влияение рейтинга ESRB на продажи в отдельном регионе.\n",
    "\n",
    "Затем мы проверьте следующие гипотезы:\n",
    "1. Средние пользовательские рейтинги платформ Xbox One и PC одинаковые;\n",
    "2. Средние пользовательские рейтинги жанров Action (англ. «действие», экшен-игры) и Sports (англ. «спортивные соревнования») однаковы.\n"
   ]
  },
  {
   "cell_type": "markdown",
   "metadata": {},
   "source": [
    "### Поставленные задачи:"
   ]
  },
  {
   "cell_type": "markdown",
   "metadata": {},
   "source": [
    "Перед нами стояла задачи выявить определяющие успешность игры закономерности. Это позволит сделать ставку на потенциально популярный продукт и спланировать рекламные кампании."
   ]
  },
  {
   "cell_type": "markdown",
   "metadata": {},
   "source": [
    "### Общий вывод:"
   ]
  },
  {
   "cell_type": "markdown",
   "metadata": {},
   "source": [
    "Бурный рост в выпуске компьютерных игр начался с 1996 года, и активно продолжался до 2008-2009 годов. С 2010 года начался спад, в 2012-2013 года были относительно стабильные, с 2014 года снижение продолжилось.\n",
    "\n",
    "За актуальный период взяли данные **с 2012 года**, т.к. вернуться к объёмам реализации 2008-2009 годов уже не получится по причине поступления на рынок мобильных игр.\n",
    "\n",
    "Характерный срок, за который появляются новые и исчезают старые платформы примерно 7-10 лет. Более новые версии PS заменяют старые: продажи игр на PS стартуют в 1994, затем в 2000-2001 годах PS2 заменяет PS, затем в 2008 году PS3 обновляет PS2. При этом с 2006-2010 годов растут продажи на X360 и Wii. Также с 2005 по 2008 годов существенную долю в продажах занимали игры на платформе DS. С 2010 рынок поделили 2 явных лидера - PS3 и X360, этот год также был пиком продаж для данных двух платформ, однако с 2011 был постепенный спад продаж. В 2014 году продали в 2 раза меньше, чем год назад - дела у играх на консолях совсем стали плохи, а в 2015 и 2016 годах объемы продаж упали до 1994 года.\n",
    "В 2012 - 2013 годах явными лидерами рынка были PS3 и X360. Еще можно отметить платформу 3DS - с 2012 по 2014 у данной консоли тоже была определенная доля на рынке. С 2014 по 2016 года самой популярной приставкой являлась PS4, а также XOne - у данной приставки тоже были свои фанаты. У остальных платформ доля на рынке гораздо меньше. Самые популярные платформы за исследуемый период: 'PS3', 'X360', '3DS', 'PS4', 'XOne'.\n",
    "\n",
    "Основное распределение реализации игр лежит до 2 млн. Но также есть определённый набор игр до 4 млн. - дальше уже идут редкие, выбивающиеся значения.\n",
    "\n",
    "Оценка пользователей несущественно влияет на продажи и на других платформах. В одном можно быть точно уверенным - не бывает игр с низкими оценками, но высокими продажами. Коэффициенты корреляции также низкие, что подтверждает слабую связь. Как и с оценками пользователей, мировые продажи слабо зависят от оценок критиков. Есть игры с высокими продажами, так и с небольшими продажами, но с высокой оценкой. При этом нет игр с низкими оценками, но высокими продажами. Коэффициенты корреляции выше, чем в оценках пользователей, но тем не менее всё еще недостаточные, чтобы говорить о сильной связи.\n",
    "\n",
    "Самый прибыльный жанр - Action. На втором месте Shooter. 3 место делят между собой Role-Playing и Sports. Остальные жанры существенно отстают по прибыльности.\n",
    "\n",
    "В Северной Америке и Европе самая популярная платформа - X360. Второе место в Европе занимает PS4, в то время как в Америке на втором месте XOne. На 3 месте в Америке и Европе WiiU. В Японии самая популярная платформа - 3DS. Второе место поделили между собой PS3, PSP и PSV. X360 и XOne не пользуются популярностью в Японии вовсе.\n",
    "\n",
    "В Северной Америке и Европе самый популярный жанр - Shooter. На втором месте в Америке жанр Platform, в Европе он на 3 месте по популярности, немного отставая от Racing. А вот в Америке Racing на 5 месте. Также в Америке пользуется популярностью жанр Fighting, в то время как в Европе этого жанра нет в топ-5 по жанрам. В Японии Shooting отсутствует в топ-5 жанрах. Допускаю, что это связано с ограничениями на жестокие сцены в играх. Самым популярным жанром является Role_Playing, на 2 месте Fighting.\n",
    "\n",
    "В Европе и Северной Америке самые продаваемые игры с рейтингом \"Mature\" и \"Everyone 10 and older\". В Японии больше всего продаётся игр с рейтингом \"Teen\" - продукты для лиц от 13 лет.\n",
    "\n",
    "Подтвердили гипотезу: средние пользовательские рейтинги платформ Xbox One и PC одинаковые;\n",
    "\n",
    "Отвергли гипотезу: средние пользовательские рейтинги жанров Action (англ. «действие», экшен-игры) и Sports (англ. «спортивные соревнования») одинаковые."
   ]
  }
 ],
 "metadata": {
  "ExecuteTimeLog": [
   {
    "duration": 388,
    "start_time": "2022-09-05T20:39:21.082Z"
   },
   {
    "duration": 107,
    "start_time": "2022-09-05T20:40:27.227Z"
   },
   {
    "duration": 87,
    "start_time": "2022-09-05T20:40:36.769Z"
   },
   {
    "duration": 21,
    "start_time": "2022-09-05T20:40:57.493Z"
   },
   {
    "duration": 15,
    "start_time": "2022-09-05T20:41:05.125Z"
   },
   {
    "duration": 27,
    "start_time": "2022-09-05T20:41:13.062Z"
   },
   {
    "duration": 20,
    "start_time": "2022-09-05T20:44:26.564Z"
   },
   {
    "duration": 2,
    "start_time": "2022-09-05T20:53:36.764Z"
   },
   {
    "duration": 25,
    "start_time": "2022-09-05T20:53:44.456Z"
   },
   {
    "duration": 16,
    "start_time": "2022-09-05T20:56:02.334Z"
   },
   {
    "duration": 17,
    "start_time": "2022-09-05T20:56:11.713Z"
   },
   {
    "duration": 12,
    "start_time": "2022-09-05T20:56:45.979Z"
   },
   {
    "duration": 14,
    "start_time": "2022-09-05T20:56:48.927Z"
   },
   {
    "duration": 12,
    "start_time": "2022-09-05T20:56:58.049Z"
   },
   {
    "duration": 7,
    "start_time": "2022-09-05T20:57:10.963Z"
   },
   {
    "duration": 5,
    "start_time": "2022-09-05T20:59:52.965Z"
   },
   {
    "duration": 11,
    "start_time": "2022-09-05T21:00:20.669Z"
   },
   {
    "duration": 13,
    "start_time": "2022-09-05T21:02:47.794Z"
   },
   {
    "duration": 7,
    "start_time": "2022-09-05T21:03:21.452Z"
   },
   {
    "duration": 20,
    "start_time": "2022-09-05T21:03:29.984Z"
   },
   {
    "duration": 5,
    "start_time": "2022-09-05T21:06:07.267Z"
   },
   {
    "duration": 40,
    "start_time": "2022-09-05T21:06:13.520Z"
   },
   {
    "duration": 20,
    "start_time": "2022-09-05T21:06:16.856Z"
   },
   {
    "duration": 9,
    "start_time": "2022-09-05T21:09:50.210Z"
   },
   {
    "duration": 5,
    "start_time": "2022-09-05T21:10:12.379Z"
   },
   {
    "duration": 23,
    "start_time": "2022-09-05T21:10:14.560Z"
   },
   {
    "duration": 3,
    "start_time": "2022-09-05T21:10:30.340Z"
   },
   {
    "duration": 81,
    "start_time": "2022-09-05T21:10:30.346Z"
   },
   {
    "duration": 14,
    "start_time": "2022-09-05T21:10:30.429Z"
   },
   {
    "duration": 40,
    "start_time": "2022-09-05T21:10:30.444Z"
   },
   {
    "duration": 49,
    "start_time": "2022-09-05T21:10:30.486Z"
   },
   {
    "duration": 3,
    "start_time": "2022-09-05T21:10:30.537Z"
   },
   {
    "duration": 22,
    "start_time": "2022-09-05T21:10:30.542Z"
   },
   {
    "duration": 51,
    "start_time": "2022-09-05T21:10:30.567Z"
   },
   {
    "duration": 6,
    "start_time": "2022-09-05T21:10:58.208Z"
   },
   {
    "duration": 26,
    "start_time": "2022-09-05T21:11:00.434Z"
   },
   {
    "duration": 3,
    "start_time": "2022-09-05T21:11:12.712Z"
   },
   {
    "duration": 82,
    "start_time": "2022-09-05T21:11:12.717Z"
   },
   {
    "duration": 16,
    "start_time": "2022-09-05T21:11:12.801Z"
   },
   {
    "duration": 16,
    "start_time": "2022-09-05T21:11:12.819Z"
   },
   {
    "duration": 29,
    "start_time": "2022-09-05T21:11:12.840Z"
   },
   {
    "duration": 15,
    "start_time": "2022-09-05T21:11:12.871Z"
   },
   {
    "duration": 18,
    "start_time": "2022-09-05T21:11:16.197Z"
   },
   {
    "duration": 4,
    "start_time": "2022-09-05T21:14:31.451Z"
   },
   {
    "duration": 17,
    "start_time": "2022-09-05T21:14:33.946Z"
   },
   {
    "duration": 11,
    "start_time": "2022-09-05T21:15:07.366Z"
   },
   {
    "duration": 17,
    "start_time": "2022-09-05T21:15:09.903Z"
   },
   {
    "duration": 2,
    "start_time": "2022-09-05T21:15:17.496Z"
   },
   {
    "duration": 64,
    "start_time": "2022-09-05T21:15:17.500Z"
   },
   {
    "duration": 13,
    "start_time": "2022-09-05T21:15:17.566Z"
   },
   {
    "duration": 23,
    "start_time": "2022-09-05T21:15:17.581Z"
   },
   {
    "duration": 42,
    "start_time": "2022-09-05T21:15:17.606Z"
   },
   {
    "duration": 2,
    "start_time": "2022-09-05T21:15:17.650Z"
   },
   {
    "duration": 22,
    "start_time": "2022-09-05T21:15:17.654Z"
   },
   {
    "duration": 37,
    "start_time": "2022-09-05T21:15:17.678Z"
   },
   {
    "duration": 51,
    "start_time": "2022-09-06T20:54:31.440Z"
   },
   {
    "duration": 340,
    "start_time": "2022-09-06T20:54:36.816Z"
   },
   {
    "duration": 176,
    "start_time": "2022-09-06T20:54:37.158Z"
   },
   {
    "duration": 23,
    "start_time": "2022-09-06T20:54:37.335Z"
   },
   {
    "duration": 14,
    "start_time": "2022-09-06T20:54:37.360Z"
   },
   {
    "duration": 28,
    "start_time": "2022-09-06T20:54:37.376Z"
   },
   {
    "duration": 3,
    "start_time": "2022-09-06T20:54:37.405Z"
   },
   {
    "duration": 8,
    "start_time": "2022-09-06T20:54:37.410Z"
   },
   {
    "duration": 21,
    "start_time": "2022-09-06T20:54:37.420Z"
   },
   {
    "duration": 36,
    "start_time": "2022-09-06T20:54:37.442Z"
   },
   {
    "duration": 33,
    "start_time": "2022-09-06T20:54:39.464Z"
   },
   {
    "duration": 20,
    "start_time": "2022-09-06T20:54:48.890Z"
   },
   {
    "duration": 33,
    "start_time": "2022-09-06T20:55:03.686Z"
   },
   {
    "duration": 10,
    "start_time": "2022-09-06T20:55:24.573Z"
   },
   {
    "duration": 8,
    "start_time": "2022-09-06T20:55:32.040Z"
   },
   {
    "duration": 6,
    "start_time": "2022-09-06T20:55:41.587Z"
   },
   {
    "duration": 6,
    "start_time": "2022-09-06T20:56:34.021Z"
   },
   {
    "duration": 4,
    "start_time": "2022-09-06T20:56:50.018Z"
   },
   {
    "duration": 14,
    "start_time": "2022-09-06T21:13:44.378Z"
   },
   {
    "duration": 14,
    "start_time": "2022-09-06T21:13:59.171Z"
   },
   {
    "duration": 14,
    "start_time": "2022-09-06T21:14:14.535Z"
   },
   {
    "duration": 5,
    "start_time": "2022-09-06T21:17:12.071Z"
   },
   {
    "duration": 46,
    "start_time": "2022-09-07T09:25:27.693Z"
   },
   {
    "duration": 358,
    "start_time": "2022-09-07T09:25:31.351Z"
   },
   {
    "duration": 98,
    "start_time": "2022-09-07T09:25:31.712Z"
   },
   {
    "duration": 20,
    "start_time": "2022-09-07T09:25:31.811Z"
   },
   {
    "duration": 15,
    "start_time": "2022-09-07T09:25:31.833Z"
   },
   {
    "duration": 44,
    "start_time": "2022-09-07T09:25:31.849Z"
   },
   {
    "duration": 3,
    "start_time": "2022-09-07T09:25:31.895Z"
   },
   {
    "duration": 25,
    "start_time": "2022-09-07T09:25:31.899Z"
   },
   {
    "duration": 35,
    "start_time": "2022-09-07T09:25:31.926Z"
   },
   {
    "duration": 30,
    "start_time": "2022-09-07T09:25:31.963Z"
   },
   {
    "duration": 35,
    "start_time": "2022-09-07T09:25:31.994Z"
   },
   {
    "duration": 14,
    "start_time": "2022-09-07T09:25:32.031Z"
   },
   {
    "duration": 17,
    "start_time": "2022-09-07T09:25:33.611Z"
   },
   {
    "duration": 28,
    "start_time": "2022-09-07T09:26:34.512Z"
   },
   {
    "duration": 25,
    "start_time": "2022-09-07T09:27:42.686Z"
   },
   {
    "duration": 31,
    "start_time": "2022-09-07T09:28:46.768Z"
   },
   {
    "duration": 15,
    "start_time": "2022-09-07T09:28:51.390Z"
   },
   {
    "duration": 14,
    "start_time": "2022-09-07T09:29:03.677Z"
   },
   {
    "duration": 17,
    "start_time": "2022-09-07T09:30:06.972Z"
   },
   {
    "duration": 71,
    "start_time": "2022-09-07T09:30:13.207Z"
   },
   {
    "duration": 55,
    "start_time": "2022-09-07T09:30:29.002Z"
   },
   {
    "duration": 31,
    "start_time": "2022-09-07T09:30:39.134Z"
   },
   {
    "duration": 23,
    "start_time": "2022-09-07T09:31:18.760Z"
   },
   {
    "duration": 5,
    "start_time": "2022-09-07T09:31:57.221Z"
   },
   {
    "duration": 4,
    "start_time": "2022-09-07T09:32:06.670Z"
   },
   {
    "duration": 19,
    "start_time": "2022-09-07T09:32:08.360Z"
   },
   {
    "duration": 65,
    "start_time": "2022-09-07T09:34:33.978Z"
   },
   {
    "duration": 24,
    "start_time": "2022-09-07T09:35:00.323Z"
   },
   {
    "duration": 55,
    "start_time": "2022-09-07T09:35:40.826Z"
   },
   {
    "duration": 7,
    "start_time": "2022-09-07T09:35:58.431Z"
   },
   {
    "duration": 24,
    "start_time": "2022-09-07T09:36:01.418Z"
   },
   {
    "duration": 3,
    "start_time": "2022-09-07T09:38:16.686Z"
   },
   {
    "duration": 4,
    "start_time": "2022-09-07T09:38:21.531Z"
   },
   {
    "duration": 3,
    "start_time": "2022-09-07T09:38:43.952Z"
   },
   {
    "duration": 205,
    "start_time": "2022-09-07T09:39:03.323Z"
   },
   {
    "duration": 41,
    "start_time": "2022-09-07T09:39:13.675Z"
   },
   {
    "duration": 29,
    "start_time": "2022-09-07T09:39:46.941Z"
   },
   {
    "duration": 891,
    "start_time": "2022-09-07T09:41:07.769Z"
   },
   {
    "duration": 4,
    "start_time": "2022-09-07T09:41:24.310Z"
   },
   {
    "duration": 9,
    "start_time": "2022-09-07T09:41:29.553Z"
   },
   {
    "duration": 12,
    "start_time": "2022-09-07T09:42:08.075Z"
   },
   {
    "duration": 10,
    "start_time": "2022-09-07T09:42:16.891Z"
   },
   {
    "duration": 9,
    "start_time": "2022-09-07T09:42:38.918Z"
   },
   {
    "duration": 9,
    "start_time": "2022-09-07T09:42:48.621Z"
   },
   {
    "duration": 16,
    "start_time": "2022-09-07T09:42:53.675Z"
   },
   {
    "duration": 31,
    "start_time": "2022-09-07T09:43:09.794Z"
   },
   {
    "duration": 30,
    "start_time": "2022-09-07T09:43:41.773Z"
   },
   {
    "duration": 25,
    "start_time": "2022-09-07T09:44:10.977Z"
   },
   {
    "duration": 25,
    "start_time": "2022-09-07T09:44:17.850Z"
   },
   {
    "duration": 29,
    "start_time": "2022-09-07T09:44:26.001Z"
   },
   {
    "duration": 14,
    "start_time": "2022-09-07T09:44:52.513Z"
   },
   {
    "duration": 25,
    "start_time": "2022-09-07T09:45:04.077Z"
   },
   {
    "duration": 28,
    "start_time": "2022-09-07T09:45:29.650Z"
   },
   {
    "duration": 86,
    "start_time": "2022-09-07T09:45:51.720Z"
   },
   {
    "duration": 13,
    "start_time": "2022-09-07T09:45:58.545Z"
   },
   {
    "duration": 15,
    "start_time": "2022-09-07T09:46:01.474Z"
   },
   {
    "duration": 16,
    "start_time": "2022-09-07T09:46:34.856Z"
   },
   {
    "duration": 17,
    "start_time": "2022-09-07T09:47:40.083Z"
   },
   {
    "duration": 22,
    "start_time": "2022-09-07T09:49:33.788Z"
   },
   {
    "duration": 22,
    "start_time": "2022-09-07T09:50:10.547Z"
   },
   {
    "duration": 7,
    "start_time": "2022-09-07T09:50:24.261Z"
   },
   {
    "duration": 6,
    "start_time": "2022-09-07T09:50:39.082Z"
   },
   {
    "duration": 1273,
    "start_time": "2022-09-07T09:51:01.383Z"
   },
   {
    "duration": 23,
    "start_time": "2022-09-07T09:52:04.208Z"
   },
   {
    "duration": 3,
    "start_time": "2022-09-07T09:52:24.887Z"
   },
   {
    "duration": 8,
    "start_time": "2022-09-07T09:52:49.747Z"
   },
   {
    "duration": 6,
    "start_time": "2022-09-07T09:52:58.842Z"
   },
   {
    "duration": 2,
    "start_time": "2022-09-07T09:53:13.126Z"
   },
   {
    "duration": 5,
    "start_time": "2022-09-07T09:53:20.007Z"
   },
   {
    "duration": 24,
    "start_time": "2022-09-07T09:55:04.382Z"
   },
   {
    "duration": 2,
    "start_time": "2022-09-07T09:55:10.509Z"
   },
   {
    "duration": 26,
    "start_time": "2022-09-07T09:55:12.422Z"
   },
   {
    "duration": 9,
    "start_time": "2022-09-07T09:55:50.191Z"
   },
   {
    "duration": 9,
    "start_time": "2022-09-07T09:56:10.884Z"
   },
   {
    "duration": 15,
    "start_time": "2022-09-07T10:02:11.595Z"
   },
   {
    "duration": 21,
    "start_time": "2022-09-07T10:02:33.102Z"
   },
   {
    "duration": 29,
    "start_time": "2022-09-07T10:03:42.229Z"
   },
   {
    "duration": 19,
    "start_time": "2022-09-07T10:24:08.742Z"
   },
   {
    "duration": 22,
    "start_time": "2022-09-07T10:27:13.696Z"
   },
   {
    "duration": 2,
    "start_time": "2022-09-07T10:27:36.796Z"
   },
   {
    "duration": 49,
    "start_time": "2022-09-07T10:27:36.807Z"
   },
   {
    "duration": 14,
    "start_time": "2022-09-07T10:27:36.858Z"
   },
   {
    "duration": 14,
    "start_time": "2022-09-07T10:27:36.874Z"
   },
   {
    "duration": 26,
    "start_time": "2022-09-07T10:27:36.889Z"
   },
   {
    "duration": 2,
    "start_time": "2022-09-07T10:27:36.917Z"
   },
   {
    "duration": 10,
    "start_time": "2022-09-07T10:27:36.920Z"
   },
   {
    "duration": 21,
    "start_time": "2022-09-07T10:27:36.931Z"
   },
   {
    "duration": 24,
    "start_time": "2022-09-07T10:27:36.954Z"
   },
   {
    "duration": 11,
    "start_time": "2022-09-07T10:27:36.979Z"
   },
   {
    "duration": 5,
    "start_time": "2022-09-07T10:27:36.992Z"
   },
   {
    "duration": 34,
    "start_time": "2022-09-07T10:27:36.999Z"
   },
   {
    "duration": 18,
    "start_time": "2022-09-07T10:27:37.034Z"
   },
   {
    "duration": 23,
    "start_time": "2022-09-07T10:27:37.053Z"
   },
   {
    "duration": 11,
    "start_time": "2022-09-07T10:27:37.078Z"
   },
   {
    "duration": 19,
    "start_time": "2022-09-07T10:52:06.022Z"
   },
   {
    "duration": 14,
    "start_time": "2022-09-07T10:52:19.241Z"
   },
   {
    "duration": 6,
    "start_time": "2022-09-07T10:52:26.982Z"
   },
   {
    "duration": 8,
    "start_time": "2022-09-07T11:21:28.643Z"
   },
   {
    "duration": 114,
    "start_time": "2022-09-07T11:21:36.758Z"
   },
   {
    "duration": 15,
    "start_time": "2022-09-07T11:21:41.507Z"
   },
   {
    "duration": 15,
    "start_time": "2022-09-07T11:22:11.220Z"
   },
   {
    "duration": 22,
    "start_time": "2022-09-07T11:22:55.006Z"
   },
   {
    "duration": 24,
    "start_time": "2022-09-07T11:23:01.415Z"
   },
   {
    "duration": 20,
    "start_time": "2022-09-07T11:23:22.714Z"
   },
   {
    "duration": 13,
    "start_time": "2022-09-07T11:23:36.979Z"
   },
   {
    "duration": 6,
    "start_time": "2022-09-07T11:23:39.508Z"
   },
   {
    "duration": 16,
    "start_time": "2022-09-07T11:24:22.629Z"
   },
   {
    "duration": 9,
    "start_time": "2022-09-07T11:24:25.467Z"
   },
   {
    "duration": 7,
    "start_time": "2022-09-07T11:25:35.010Z"
   },
   {
    "duration": 9,
    "start_time": "2022-09-07T11:25:37.586Z"
   },
   {
    "duration": 3,
    "start_time": "2022-09-07T11:26:23.823Z"
   },
   {
    "duration": 85,
    "start_time": "2022-09-07T11:26:23.828Z"
   },
   {
    "duration": 13,
    "start_time": "2022-09-07T11:26:23.915Z"
   },
   {
    "duration": 18,
    "start_time": "2022-09-07T11:26:23.930Z"
   },
   {
    "duration": 31,
    "start_time": "2022-09-07T11:26:23.950Z"
   },
   {
    "duration": 2,
    "start_time": "2022-09-07T11:26:23.983Z"
   },
   {
    "duration": 17,
    "start_time": "2022-09-07T11:26:23.986Z"
   },
   {
    "duration": 24,
    "start_time": "2022-09-07T11:26:24.005Z"
   },
   {
    "duration": 20,
    "start_time": "2022-09-07T11:26:24.031Z"
   },
   {
    "duration": 13,
    "start_time": "2022-09-07T11:26:24.053Z"
   },
   {
    "duration": 5,
    "start_time": "2022-09-07T11:26:24.067Z"
   },
   {
    "duration": 32,
    "start_time": "2022-09-07T11:26:24.074Z"
   },
   {
    "duration": 19,
    "start_time": "2022-09-07T11:26:24.108Z"
   },
   {
    "duration": 11,
    "start_time": "2022-09-07T11:26:24.130Z"
   },
   {
    "duration": 6,
    "start_time": "2022-09-07T11:26:24.142Z"
   },
   {
    "duration": 9,
    "start_time": "2022-09-07T11:26:24.149Z"
   },
   {
    "duration": 11,
    "start_time": "2022-09-07T11:26:24.160Z"
   },
   {
    "duration": 3,
    "start_time": "2022-09-07T11:27:47.485Z"
   },
   {
    "duration": 61,
    "start_time": "2022-09-07T11:27:47.490Z"
   },
   {
    "duration": 16,
    "start_time": "2022-09-07T11:27:47.552Z"
   },
   {
    "duration": 20,
    "start_time": "2022-09-07T11:27:47.569Z"
   },
   {
    "duration": 27,
    "start_time": "2022-09-07T11:27:47.591Z"
   },
   {
    "duration": 2,
    "start_time": "2022-09-07T11:27:47.620Z"
   },
   {
    "duration": 13,
    "start_time": "2022-09-07T11:27:47.623Z"
   },
   {
    "duration": 19,
    "start_time": "2022-09-07T11:27:47.637Z"
   },
   {
    "duration": 17,
    "start_time": "2022-09-07T11:27:47.657Z"
   },
   {
    "duration": 14,
    "start_time": "2022-09-07T11:27:47.676Z"
   },
   {
    "duration": 18,
    "start_time": "2022-09-07T11:27:47.691Z"
   },
   {
    "duration": 31,
    "start_time": "2022-09-07T11:27:47.711Z"
   },
   {
    "duration": 20,
    "start_time": "2022-09-07T11:27:47.744Z"
   },
   {
    "duration": 13,
    "start_time": "2022-09-07T11:27:47.767Z"
   },
   {
    "duration": 32,
    "start_time": "2022-09-07T11:27:47.781Z"
   },
   {
    "duration": 16,
    "start_time": "2022-09-07T11:27:47.815Z"
   },
   {
    "duration": 14,
    "start_time": "2022-09-07T11:27:47.832Z"
   },
   {
    "duration": 9,
    "start_time": "2022-09-07T11:27:52.295Z"
   },
   {
    "duration": 7,
    "start_time": "2022-09-07T11:29:45.787Z"
   },
   {
    "duration": 23,
    "start_time": "2022-09-07T11:34:58.794Z"
   },
   {
    "duration": 10,
    "start_time": "2022-09-07T11:35:26.848Z"
   },
   {
    "duration": 47,
    "start_time": "2022-09-07T11:35:38.098Z"
   },
   {
    "duration": 20,
    "start_time": "2022-09-07T11:35:40.785Z"
   },
   {
    "duration": 9,
    "start_time": "2022-09-07T11:35:56.211Z"
   },
   {
    "duration": 6,
    "start_time": "2022-09-07T11:36:19.789Z"
   },
   {
    "duration": 8,
    "start_time": "2022-09-07T11:36:22.478Z"
   },
   {
    "duration": 6,
    "start_time": "2022-09-07T11:36:29.534Z"
   },
   {
    "duration": 21,
    "start_time": "2022-09-07T11:36:39.346Z"
   },
   {
    "duration": 9,
    "start_time": "2022-09-07T11:37:21.738Z"
   },
   {
    "duration": 5,
    "start_time": "2022-09-07T11:37:56.992Z"
   },
   {
    "duration": 5,
    "start_time": "2022-09-07T11:38:00.907Z"
   },
   {
    "duration": 8,
    "start_time": "2022-09-07T11:38:15.333Z"
   },
   {
    "duration": 20,
    "start_time": "2022-09-07T11:38:18.580Z"
   },
   {
    "duration": 22,
    "start_time": "2022-09-07T11:39:22.122Z"
   },
   {
    "duration": 20,
    "start_time": "2022-09-07T11:39:34.597Z"
   },
   {
    "duration": 10,
    "start_time": "2022-09-07T11:39:58.848Z"
   },
   {
    "duration": 8,
    "start_time": "2022-09-07T11:40:19.034Z"
   },
   {
    "duration": 12,
    "start_time": "2022-09-07T11:40:25.218Z"
   },
   {
    "duration": 9,
    "start_time": "2022-09-07T11:40:41.245Z"
   },
   {
    "duration": 10,
    "start_time": "2022-09-07T11:42:16.398Z"
   },
   {
    "duration": 8,
    "start_time": "2022-09-07T11:42:27.219Z"
   },
   {
    "duration": 9,
    "start_time": "2022-09-07T11:42:45.183Z"
   },
   {
    "duration": 8,
    "start_time": "2022-09-07T11:43:47.682Z"
   },
   {
    "duration": 8,
    "start_time": "2022-09-07T12:04:39.142Z"
   },
   {
    "duration": 3,
    "start_time": "2022-09-07T12:05:47.151Z"
   },
   {
    "duration": 4,
    "start_time": "2022-09-07T12:06:03.745Z"
   },
   {
    "duration": 4,
    "start_time": "2022-09-07T12:06:17.645Z"
   },
   {
    "duration": 5,
    "start_time": "2022-09-07T12:06:35.681Z"
   },
   {
    "duration": 2,
    "start_time": "2022-09-07T12:06:44.389Z"
   },
   {
    "duration": 58,
    "start_time": "2022-09-07T12:06:44.393Z"
   },
   {
    "duration": 14,
    "start_time": "2022-09-07T12:06:44.453Z"
   },
   {
    "duration": 18,
    "start_time": "2022-09-07T12:06:44.468Z"
   },
   {
    "duration": 25,
    "start_time": "2022-09-07T12:06:44.488Z"
   },
   {
    "duration": 3,
    "start_time": "2022-09-07T12:06:44.514Z"
   },
   {
    "duration": 8,
    "start_time": "2022-09-07T12:06:44.518Z"
   },
   {
    "duration": 18,
    "start_time": "2022-09-07T12:06:44.527Z"
   },
   {
    "duration": 8,
    "start_time": "2022-09-07T12:06:44.547Z"
   },
   {
    "duration": 4,
    "start_time": "2022-09-07T12:06:47.903Z"
   },
   {
    "duration": 6,
    "start_time": "2022-09-07T12:08:26.915Z"
   },
   {
    "duration": 5,
    "start_time": "2022-09-07T12:08:44.334Z"
   },
   {
    "duration": 5,
    "start_time": "2022-09-07T12:08:48.372Z"
   },
   {
    "duration": 6,
    "start_time": "2022-09-07T12:08:53.595Z"
   },
   {
    "duration": 7,
    "start_time": "2022-09-07T12:14:02.481Z"
   },
   {
    "duration": 15,
    "start_time": "2022-09-07T12:14:12.670Z"
   },
   {
    "duration": 22,
    "start_time": "2022-09-07T12:16:05.737Z"
   },
   {
    "duration": 31,
    "start_time": "2022-09-07T12:16:13.795Z"
   },
   {
    "duration": 8,
    "start_time": "2022-09-07T12:16:39.283Z"
   },
   {
    "duration": 8,
    "start_time": "2022-09-07T12:16:44.900Z"
   },
   {
    "duration": 11,
    "start_time": "2022-09-07T12:17:10.618Z"
   },
   {
    "duration": 3,
    "start_time": "2022-09-07T12:17:14.611Z"
   },
   {
    "duration": 66,
    "start_time": "2022-09-07T12:17:14.616Z"
   },
   {
    "duration": 15,
    "start_time": "2022-09-07T12:17:14.684Z"
   },
   {
    "duration": 23,
    "start_time": "2022-09-07T12:17:14.701Z"
   },
   {
    "duration": 29,
    "start_time": "2022-09-07T12:17:14.726Z"
   },
   {
    "duration": 3,
    "start_time": "2022-09-07T12:17:14.757Z"
   },
   {
    "duration": 15,
    "start_time": "2022-09-07T12:17:14.761Z"
   },
   {
    "duration": 20,
    "start_time": "2022-09-07T12:17:14.777Z"
   },
   {
    "duration": 20,
    "start_time": "2022-09-07T12:17:14.799Z"
   },
   {
    "duration": 15,
    "start_time": "2022-09-07T12:17:14.821Z"
   },
   {
    "duration": 16,
    "start_time": "2022-09-07T12:17:14.838Z"
   },
   {
    "duration": 3,
    "start_time": "2022-09-07T12:17:14.857Z"
   },
   {
    "duration": 12,
    "start_time": "2022-09-07T12:17:14.862Z"
   },
   {
    "duration": 5,
    "start_time": "2022-09-07T12:17:14.876Z"
   },
   {
    "duration": 37,
    "start_time": "2022-09-07T12:17:14.883Z"
   },
   {
    "duration": 22,
    "start_time": "2022-09-07T12:17:14.922Z"
   },
   {
    "duration": 6,
    "start_time": "2022-09-07T12:17:49.573Z"
   },
   {
    "duration": 2,
    "start_time": "2022-09-07T12:18:54.651Z"
   },
   {
    "duration": 79,
    "start_time": "2022-09-07T12:18:54.655Z"
   },
   {
    "duration": 18,
    "start_time": "2022-09-07T12:18:54.736Z"
   },
   {
    "duration": 25,
    "start_time": "2022-09-07T12:18:54.755Z"
   },
   {
    "duration": 51,
    "start_time": "2022-09-07T12:18:54.783Z"
   },
   {
    "duration": 3,
    "start_time": "2022-09-07T12:18:54.837Z"
   },
   {
    "duration": 18,
    "start_time": "2022-09-07T12:18:54.842Z"
   },
   {
    "duration": 54,
    "start_time": "2022-09-07T12:18:54.862Z"
   },
   {
    "duration": 38,
    "start_time": "2022-09-07T12:18:54.917Z"
   },
   {
    "duration": 11,
    "start_time": "2022-09-07T12:18:54.957Z"
   },
   {
    "duration": 12,
    "start_time": "2022-09-07T12:19:01.752Z"
   },
   {
    "duration": 6,
    "start_time": "2022-09-07T12:19:03.470Z"
   },
   {
    "duration": 24,
    "start_time": "2022-09-07T12:19:42.199Z"
   },
   {
    "duration": 5,
    "start_time": "2022-09-07T12:20:13.987Z"
   },
   {
    "duration": 6,
    "start_time": "2022-09-07T12:22:25.932Z"
   },
   {
    "duration": 3,
    "start_time": "2022-09-07T12:23:26.670Z"
   },
   {
    "duration": 88,
    "start_time": "2022-09-07T12:23:26.676Z"
   },
   {
    "duration": 16,
    "start_time": "2022-09-07T12:23:26.765Z"
   },
   {
    "duration": 32,
    "start_time": "2022-09-07T12:23:26.782Z"
   },
   {
    "duration": 79,
    "start_time": "2022-09-07T12:23:26.822Z"
   },
   {
    "duration": 3,
    "start_time": "2022-09-07T12:23:26.903Z"
   },
   {
    "duration": 25,
    "start_time": "2022-09-07T12:23:26.908Z"
   },
   {
    "duration": 30,
    "start_time": "2022-09-07T12:23:26.934Z"
   },
   {
    "duration": 23,
    "start_time": "2022-09-07T12:23:26.965Z"
   },
   {
    "duration": 17,
    "start_time": "2022-09-07T12:23:26.989Z"
   },
   {
    "duration": 28,
    "start_time": "2022-09-07T12:23:27.010Z"
   },
   {
    "duration": 18,
    "start_time": "2022-09-07T12:23:27.040Z"
   },
   {
    "duration": 16,
    "start_time": "2022-09-07T12:23:27.060Z"
   },
   {
    "duration": 19,
    "start_time": "2022-09-07T12:23:27.078Z"
   },
   {
    "duration": 31,
    "start_time": "2022-09-07T12:23:27.098Z"
   },
   {
    "duration": 18,
    "start_time": "2022-09-07T12:23:27.130Z"
   },
   {
    "duration": 7,
    "start_time": "2022-09-07T12:24:03.491Z"
   },
   {
    "duration": 8,
    "start_time": "2022-09-07T12:24:08.196Z"
   },
   {
    "duration": 6,
    "start_time": "2022-09-07T12:25:31.249Z"
   },
   {
    "duration": 3,
    "start_time": "2022-09-07T12:26:05.551Z"
   },
   {
    "duration": 65,
    "start_time": "2022-09-07T12:26:05.556Z"
   },
   {
    "duration": 15,
    "start_time": "2022-09-07T12:26:05.623Z"
   },
   {
    "duration": 24,
    "start_time": "2022-09-07T12:26:05.640Z"
   },
   {
    "duration": 27,
    "start_time": "2022-09-07T12:26:05.666Z"
   },
   {
    "duration": 3,
    "start_time": "2022-09-07T12:26:05.695Z"
   },
   {
    "duration": 32,
    "start_time": "2022-09-07T12:26:05.699Z"
   },
   {
    "duration": 21,
    "start_time": "2022-09-07T12:26:05.733Z"
   },
   {
    "duration": 12,
    "start_time": "2022-09-07T12:26:05.755Z"
   },
   {
    "duration": 5,
    "start_time": "2022-09-07T12:26:05.769Z"
   },
   {
    "duration": 11,
    "start_time": "2022-09-07T12:26:05.775Z"
   },
   {
    "duration": 9,
    "start_time": "2022-09-07T12:26:05.787Z"
   },
   {
    "duration": 18,
    "start_time": "2022-09-07T12:26:05.798Z"
   },
   {
    "duration": 17,
    "start_time": "2022-09-07T12:26:05.818Z"
   },
   {
    "duration": 11,
    "start_time": "2022-09-07T12:26:05.837Z"
   },
   {
    "duration": 2,
    "start_time": "2022-09-07T12:27:13.754Z"
   },
   {
    "duration": 74,
    "start_time": "2022-09-07T12:27:13.758Z"
   },
   {
    "duration": 18,
    "start_time": "2022-09-07T12:27:13.834Z"
   },
   {
    "duration": 22,
    "start_time": "2022-09-07T12:27:13.853Z"
   },
   {
    "duration": 35,
    "start_time": "2022-09-07T12:27:13.877Z"
   },
   {
    "duration": 8,
    "start_time": "2022-09-07T12:27:13.917Z"
   },
   {
    "duration": 10,
    "start_time": "2022-09-07T12:27:13.926Z"
   },
   {
    "duration": 21,
    "start_time": "2022-09-07T12:27:13.938Z"
   },
   {
    "duration": 11,
    "start_time": "2022-09-07T12:27:13.961Z"
   },
   {
    "duration": 7,
    "start_time": "2022-09-07T12:27:13.973Z"
   },
   {
    "duration": 28,
    "start_time": "2022-09-07T12:27:13.983Z"
   },
   {
    "duration": 8,
    "start_time": "2022-09-07T12:27:14.017Z"
   },
   {
    "duration": 2,
    "start_time": "2022-09-07T12:27:22.752Z"
   },
   {
    "duration": 92,
    "start_time": "2022-09-07T12:27:22.756Z"
   },
   {
    "duration": 15,
    "start_time": "2022-09-07T12:27:22.849Z"
   },
   {
    "duration": 23,
    "start_time": "2022-09-07T12:27:22.866Z"
   },
   {
    "duration": 49,
    "start_time": "2022-09-07T12:27:22.891Z"
   },
   {
    "duration": 3,
    "start_time": "2022-09-07T12:27:22.942Z"
   },
   {
    "duration": 14,
    "start_time": "2022-09-07T12:27:22.946Z"
   },
   {
    "duration": 32,
    "start_time": "2022-09-07T12:27:22.962Z"
   },
   {
    "duration": 16,
    "start_time": "2022-09-07T12:27:22.996Z"
   },
   {
    "duration": 23,
    "start_time": "2022-09-07T12:27:23.013Z"
   },
   {
    "duration": 6,
    "start_time": "2022-09-07T12:27:23.039Z"
   },
   {
    "duration": 13,
    "start_time": "2022-09-07T12:27:23.047Z"
   },
   {
    "duration": 11,
    "start_time": "2022-09-07T12:27:23.062Z"
   },
   {
    "duration": 15,
    "start_time": "2022-09-07T12:27:23.075Z"
   },
   {
    "duration": 11,
    "start_time": "2022-09-07T12:27:23.092Z"
   },
   {
    "duration": 6,
    "start_time": "2022-09-07T12:30:10.026Z"
   },
   {
    "duration": 6,
    "start_time": "2022-09-07T12:30:25.873Z"
   },
   {
    "duration": 77,
    "start_time": "2022-09-07T12:30:25.882Z"
   },
   {
    "duration": 21,
    "start_time": "2022-09-07T12:30:25.962Z"
   },
   {
    "duration": 26,
    "start_time": "2022-09-07T12:30:25.985Z"
   },
   {
    "duration": 62,
    "start_time": "2022-09-07T12:30:26.013Z"
   },
   {
    "duration": 3,
    "start_time": "2022-09-07T12:30:26.078Z"
   },
   {
    "duration": 14,
    "start_time": "2022-09-07T12:30:26.083Z"
   },
   {
    "duration": 42,
    "start_time": "2022-09-07T12:30:26.099Z"
   },
   {
    "duration": 15,
    "start_time": "2022-09-07T12:30:26.142Z"
   },
   {
    "duration": 9,
    "start_time": "2022-09-07T12:30:26.159Z"
   },
   {
    "duration": 9,
    "start_time": "2022-09-07T12:30:26.170Z"
   },
   {
    "duration": 10,
    "start_time": "2022-09-07T12:30:26.181Z"
   },
   {
    "duration": 11,
    "start_time": "2022-09-07T12:30:26.193Z"
   },
   {
    "duration": 6,
    "start_time": "2022-09-07T12:30:26.206Z"
   },
   {
    "duration": 27,
    "start_time": "2022-09-07T12:30:26.214Z"
   },
   {
    "duration": 12,
    "start_time": "2022-09-07T12:30:26.243Z"
   },
   {
    "duration": 3,
    "start_time": "2022-09-07T14:16:58.323Z"
   },
   {
    "duration": 2,
    "start_time": "2022-09-07T14:17:28.665Z"
   },
   {
    "duration": 77,
    "start_time": "2022-09-07T14:17:28.670Z"
   },
   {
    "duration": 15,
    "start_time": "2022-09-07T14:17:28.749Z"
   },
   {
    "duration": 36,
    "start_time": "2022-09-07T14:17:28.766Z"
   },
   {
    "duration": 58,
    "start_time": "2022-09-07T14:17:28.805Z"
   },
   {
    "duration": 3,
    "start_time": "2022-09-07T14:17:28.864Z"
   },
   {
    "duration": 24,
    "start_time": "2022-09-07T14:17:28.868Z"
   },
   {
    "duration": 45,
    "start_time": "2022-09-07T14:17:28.894Z"
   },
   {
    "duration": 20,
    "start_time": "2022-09-07T14:17:28.941Z"
   },
   {
    "duration": 29,
    "start_time": "2022-09-07T14:17:28.963Z"
   },
   {
    "duration": 38,
    "start_time": "2022-09-07T14:17:28.994Z"
   },
   {
    "duration": 26,
    "start_time": "2022-09-07T14:17:29.034Z"
   },
   {
    "duration": 18,
    "start_time": "2022-09-07T14:17:29.062Z"
   },
   {
    "duration": 20,
    "start_time": "2022-09-07T14:17:29.082Z"
   },
   {
    "duration": 37,
    "start_time": "2022-09-07T14:17:29.103Z"
   },
   {
    "duration": 34,
    "start_time": "2022-09-07T14:17:29.142Z"
   },
   {
    "duration": 7,
    "start_time": "2022-09-07T14:18:12.899Z"
   },
   {
    "duration": 2,
    "start_time": "2022-09-07T14:18:33.249Z"
   },
   {
    "duration": 3,
    "start_time": "2022-09-07T14:18:36.842Z"
   },
   {
    "duration": 57,
    "start_time": "2022-09-07T14:18:36.847Z"
   },
   {
    "duration": 27,
    "start_time": "2022-09-07T14:18:36.906Z"
   },
   {
    "duration": 24,
    "start_time": "2022-09-07T14:18:36.935Z"
   },
   {
    "duration": 28,
    "start_time": "2022-09-07T14:18:36.961Z"
   },
   {
    "duration": 24,
    "start_time": "2022-09-07T14:18:36.990Z"
   },
   {
    "duration": 19,
    "start_time": "2022-09-07T14:18:37.015Z"
   },
   {
    "duration": 22,
    "start_time": "2022-09-07T14:18:37.036Z"
   },
   {
    "duration": 10,
    "start_time": "2022-09-07T14:18:37.060Z"
   },
   {
    "duration": 6,
    "start_time": "2022-09-07T14:18:37.072Z"
   },
   {
    "duration": 10,
    "start_time": "2022-09-07T14:18:37.080Z"
   },
   {
    "duration": 24,
    "start_time": "2022-09-07T14:18:37.092Z"
   },
   {
    "duration": 20,
    "start_time": "2022-09-07T14:18:37.118Z"
   },
   {
    "duration": 7,
    "start_time": "2022-09-07T14:18:37.141Z"
   },
   {
    "duration": 7,
    "start_time": "2022-09-07T14:18:37.149Z"
   },
   {
    "duration": 14,
    "start_time": "2022-09-07T14:18:37.158Z"
   },
   {
    "duration": 5,
    "start_time": "2022-09-07T14:19:00.068Z"
   },
   {
    "duration": 20,
    "start_time": "2022-09-07T14:19:11.060Z"
   },
   {
    "duration": 6,
    "start_time": "2022-09-07T14:19:24.923Z"
   },
   {
    "duration": 3,
    "start_time": "2022-09-07T14:19:38.825Z"
   },
   {
    "duration": 119,
    "start_time": "2022-09-07T14:19:38.831Z"
   },
   {
    "duration": 15,
    "start_time": "2022-09-07T14:19:38.952Z"
   },
   {
    "duration": 72,
    "start_time": "2022-09-07T14:19:38.969Z"
   },
   {
    "duration": 52,
    "start_time": "2022-09-07T14:19:39.044Z"
   },
   {
    "duration": 8,
    "start_time": "2022-09-07T14:19:39.098Z"
   },
   {
    "duration": 37,
    "start_time": "2022-09-07T14:19:39.108Z"
   },
   {
    "duration": 90,
    "start_time": "2022-09-07T14:19:39.147Z"
   },
   {
    "duration": 56,
    "start_time": "2022-09-07T14:19:39.239Z"
   },
   {
    "duration": 59,
    "start_time": "2022-09-07T14:19:39.297Z"
   },
   {
    "duration": 40,
    "start_time": "2022-09-07T14:19:39.358Z"
   },
   {
    "duration": 48,
    "start_time": "2022-09-07T14:19:39.400Z"
   },
   {
    "duration": 53,
    "start_time": "2022-09-07T14:19:39.450Z"
   },
   {
    "duration": 35,
    "start_time": "2022-09-07T14:19:39.505Z"
   },
   {
    "duration": 43,
    "start_time": "2022-09-07T14:19:39.541Z"
   },
   {
    "duration": 9,
    "start_time": "2022-09-07T14:19:43.097Z"
   },
   {
    "duration": 5,
    "start_time": "2022-09-07T14:20:44.473Z"
   },
   {
    "duration": 7,
    "start_time": "2022-09-07T14:20:51.917Z"
   },
   {
    "duration": 7,
    "start_time": "2022-09-07T14:21:16.722Z"
   },
   {
    "duration": 20,
    "start_time": "2022-09-07T14:21:28.919Z"
   },
   {
    "duration": 20,
    "start_time": "2022-09-07T14:23:15.606Z"
   },
   {
    "duration": 15,
    "start_time": "2022-09-07T14:23:20.395Z"
   },
   {
    "duration": 5,
    "start_time": "2022-09-07T14:23:36.115Z"
   },
   {
    "duration": 5,
    "start_time": "2022-09-07T14:24:03.540Z"
   },
   {
    "duration": 8,
    "start_time": "2022-09-07T14:24:16.279Z"
   },
   {
    "duration": 5,
    "start_time": "2022-09-07T14:24:25.513Z"
   },
   {
    "duration": 6,
    "start_time": "2022-09-07T14:25:46.069Z"
   },
   {
    "duration": 3,
    "start_time": "2022-09-07T14:26:00.206Z"
   },
   {
    "duration": 65,
    "start_time": "2022-09-07T14:26:00.211Z"
   },
   {
    "duration": 14,
    "start_time": "2022-09-07T14:26:00.278Z"
   },
   {
    "duration": 19,
    "start_time": "2022-09-07T14:26:00.293Z"
   },
   {
    "duration": 32,
    "start_time": "2022-09-07T14:26:00.314Z"
   },
   {
    "duration": 3,
    "start_time": "2022-09-07T14:26:00.348Z"
   },
   {
    "duration": 23,
    "start_time": "2022-09-07T14:26:00.352Z"
   },
   {
    "duration": 29,
    "start_time": "2022-09-07T14:26:00.376Z"
   },
   {
    "duration": 22,
    "start_time": "2022-09-07T14:26:00.406Z"
   },
   {
    "duration": 14,
    "start_time": "2022-09-07T14:26:00.429Z"
   },
   {
    "duration": 25,
    "start_time": "2022-09-07T14:26:00.444Z"
   },
   {
    "duration": 29,
    "start_time": "2022-09-07T14:26:00.470Z"
   },
   {
    "duration": 57,
    "start_time": "2022-09-07T14:26:00.500Z"
   },
   {
    "duration": 18,
    "start_time": "2022-09-07T14:26:00.559Z"
   },
   {
    "duration": 40,
    "start_time": "2022-09-07T14:26:00.578Z"
   },
   {
    "duration": 9,
    "start_time": "2022-09-07T14:26:00.619Z"
   },
   {
    "duration": 72,
    "start_time": "2022-09-07T14:26:00.630Z"
   },
   {
    "duration": 10,
    "start_time": "2022-09-07T14:26:08.782Z"
   },
   {
    "duration": 64,
    "start_time": "2022-09-07T14:34:38.043Z"
   },
   {
    "duration": 83,
    "start_time": "2022-09-07T14:34:48.888Z"
   },
   {
    "duration": 162,
    "start_time": "2022-09-07T14:35:02.680Z"
   },
   {
    "duration": 55,
    "start_time": "2022-09-07T14:40:18.671Z"
   },
   {
    "duration": 57,
    "start_time": "2022-09-07T14:40:26.004Z"
   },
   {
    "duration": 233,
    "start_time": "2022-09-07T14:40:36.337Z"
   },
   {
    "duration": 59,
    "start_time": "2022-09-07T14:41:58.626Z"
   },
   {
    "duration": 57,
    "start_time": "2022-09-07T14:42:24.086Z"
   },
   {
    "duration": 4,
    "start_time": "2022-09-07T14:42:31.079Z"
   },
   {
    "duration": 21,
    "start_time": "2022-09-07T14:42:39.920Z"
   },
   {
    "duration": 13,
    "start_time": "2022-09-07T14:47:34.837Z"
   },
   {
    "duration": 14,
    "start_time": "2022-09-07T14:47:48.025Z"
   },
   {
    "duration": 509,
    "start_time": "2022-09-07T14:52:14.594Z"
   },
   {
    "duration": 16,
    "start_time": "2022-09-07T14:52:37.984Z"
   },
   {
    "duration": 1496,
    "start_time": "2022-09-07T14:56:59.374Z"
   },
   {
    "duration": 51,
    "start_time": "2022-09-07T14:58:16.886Z"
   },
   {
    "duration": 842,
    "start_time": "2022-09-07T14:58:25.656Z"
   },
   {
    "duration": 1021,
    "start_time": "2022-09-07T14:58:38.169Z"
   },
   {
    "duration": 12,
    "start_time": "2022-09-07T15:02:04.742Z"
   },
   {
    "duration": 2,
    "start_time": "2022-09-07T15:03:51.546Z"
   },
   {
    "duration": 51,
    "start_time": "2022-09-07T17:50:57.649Z"
   },
   {
    "duration": 1432,
    "start_time": "2022-09-07T17:51:02.161Z"
   },
   {
    "duration": 464,
    "start_time": "2022-09-07T17:51:03.595Z"
   },
   {
    "duration": 18,
    "start_time": "2022-09-07T17:51:05.600Z"
   },
   {
    "duration": 80,
    "start_time": "2022-09-07T19:29:30.274Z"
   },
   {
    "duration": 1267,
    "start_time": "2022-09-07T19:32:26.623Z"
   },
   {
    "duration": 1492,
    "start_time": "2022-09-07T19:33:18.357Z"
   },
   {
    "duration": 1176,
    "start_time": "2022-09-07T19:33:37.191Z"
   },
   {
    "duration": 6,
    "start_time": "2022-09-07T19:33:46.473Z"
   },
   {
    "duration": 60,
    "start_time": "2022-09-07T19:33:46.481Z"
   },
   {
    "duration": 18,
    "start_time": "2022-09-07T19:33:46.543Z"
   },
   {
    "duration": 26,
    "start_time": "2022-09-07T19:33:46.564Z"
   },
   {
    "duration": 35,
    "start_time": "2022-09-07T19:33:46.593Z"
   },
   {
    "duration": 4,
    "start_time": "2022-09-07T19:33:46.630Z"
   },
   {
    "duration": 10,
    "start_time": "2022-09-07T19:33:46.636Z"
   },
   {
    "duration": 27,
    "start_time": "2022-09-07T19:33:46.648Z"
   },
   {
    "duration": 5,
    "start_time": "2022-09-07T19:33:49.308Z"
   },
   {
    "duration": 21,
    "start_time": "2022-09-07T19:33:52.451Z"
   },
   {
    "duration": 9,
    "start_time": "2022-09-07T19:34:55.247Z"
   },
   {
    "duration": 27,
    "start_time": "2022-09-07T19:35:09.208Z"
   },
   {
    "duration": 8,
    "start_time": "2022-09-07T19:35:11.637Z"
   },
   {
    "duration": 10,
    "start_time": "2022-09-07T19:35:18.178Z"
   },
   {
    "duration": 2,
    "start_time": "2022-09-07T19:35:26.061Z"
   },
   {
    "duration": 70,
    "start_time": "2022-09-07T19:35:26.065Z"
   },
   {
    "duration": 19,
    "start_time": "2022-09-07T19:35:26.137Z"
   },
   {
    "duration": 16,
    "start_time": "2022-09-07T19:35:26.158Z"
   },
   {
    "duration": 29,
    "start_time": "2022-09-07T19:35:26.176Z"
   },
   {
    "duration": 3,
    "start_time": "2022-09-07T19:35:26.206Z"
   },
   {
    "duration": 5,
    "start_time": "2022-09-07T19:35:26.211Z"
   },
   {
    "duration": 10,
    "start_time": "2022-09-07T19:35:26.218Z"
   },
   {
    "duration": 5,
    "start_time": "2022-09-07T19:35:26.230Z"
   },
   {
    "duration": 52,
    "start_time": "2022-09-07T19:35:26.237Z"
   },
   {
    "duration": 11,
    "start_time": "2022-09-07T19:35:26.291Z"
   },
   {
    "duration": 13,
    "start_time": "2022-09-07T19:35:32.560Z"
   },
   {
    "duration": 4,
    "start_time": "2022-09-07T19:41:00.690Z"
   },
   {
    "duration": 6,
    "start_time": "2022-09-07T19:41:46.973Z"
   },
   {
    "duration": 17,
    "start_time": "2022-09-07T19:41:49.816Z"
   },
   {
    "duration": 11,
    "start_time": "2022-09-07T19:42:02.151Z"
   },
   {
    "duration": 10,
    "start_time": "2022-09-07T19:42:19.311Z"
   },
   {
    "duration": 10,
    "start_time": "2022-09-07T19:42:22.759Z"
   },
   {
    "duration": 5,
    "start_time": "2022-09-07T19:42:39.465Z"
   },
   {
    "duration": 7,
    "start_time": "2022-09-07T19:42:44.360Z"
   },
   {
    "duration": 6,
    "start_time": "2022-09-07T19:42:57.833Z"
   },
   {
    "duration": 7,
    "start_time": "2022-09-07T19:43:28.935Z"
   },
   {
    "duration": 3,
    "start_time": "2022-09-07T19:43:49.386Z"
   },
   {
    "duration": 57,
    "start_time": "2022-09-07T19:43:49.391Z"
   },
   {
    "duration": 17,
    "start_time": "2022-09-07T19:43:49.449Z"
   },
   {
    "duration": 44,
    "start_time": "2022-09-07T19:43:49.468Z"
   },
   {
    "duration": 57,
    "start_time": "2022-09-07T19:43:49.515Z"
   },
   {
    "duration": 2,
    "start_time": "2022-09-07T19:43:49.574Z"
   },
   {
    "duration": 21,
    "start_time": "2022-09-07T19:43:49.578Z"
   },
   {
    "duration": 19,
    "start_time": "2022-09-07T19:43:49.600Z"
   },
   {
    "duration": 15,
    "start_time": "2022-09-07T19:43:49.620Z"
   },
   {
    "duration": 21,
    "start_time": "2022-09-07T19:43:49.636Z"
   },
   {
    "duration": 7,
    "start_time": "2022-09-07T19:43:49.659Z"
   },
   {
    "duration": 5,
    "start_time": "2022-09-07T19:43:49.668Z"
   },
   {
    "duration": 9,
    "start_time": "2022-09-07T19:43:49.674Z"
   },
   {
    "duration": 9,
    "start_time": "2022-09-07T19:43:54.633Z"
   },
   {
    "duration": 17,
    "start_time": "2022-09-07T19:44:19.537Z"
   },
   {
    "duration": 6,
    "start_time": "2022-09-07T19:44:28.016Z"
   },
   {
    "duration": 12,
    "start_time": "2022-09-07T19:48:40.163Z"
   },
   {
    "duration": 9,
    "start_time": "2022-09-07T19:49:23.535Z"
   },
   {
    "duration": 9,
    "start_time": "2022-09-07T19:49:34.168Z"
   },
   {
    "duration": 6,
    "start_time": "2022-09-07T19:51:33.483Z"
   },
   {
    "duration": 69,
    "start_time": "2022-09-07T19:51:37.518Z"
   },
   {
    "duration": 14,
    "start_time": "2022-09-07T19:51:40.187Z"
   },
   {
    "duration": 8,
    "start_time": "2022-09-07T19:51:48.310Z"
   },
   {
    "duration": 6,
    "start_time": "2022-09-07T19:53:28.682Z"
   },
   {
    "duration": 5,
    "start_time": "2022-09-07T19:54:08.182Z"
   },
   {
    "duration": 5,
    "start_time": "2022-09-07T19:54:16.067Z"
   },
   {
    "duration": 19,
    "start_time": "2022-09-07T19:54:34.590Z"
   },
   {
    "duration": 5,
    "start_time": "2022-09-07T19:54:36.137Z"
   },
   {
    "duration": 3,
    "start_time": "2022-09-07T19:54:40.586Z"
   },
   {
    "duration": 54,
    "start_time": "2022-09-07T19:54:40.591Z"
   },
   {
    "duration": 15,
    "start_time": "2022-09-07T19:54:40.647Z"
   },
   {
    "duration": 20,
    "start_time": "2022-09-07T19:54:40.664Z"
   },
   {
    "duration": 38,
    "start_time": "2022-09-07T19:54:40.686Z"
   },
   {
    "duration": 3,
    "start_time": "2022-09-07T19:54:40.725Z"
   },
   {
    "duration": 10,
    "start_time": "2022-09-07T19:54:40.730Z"
   },
   {
    "duration": 28,
    "start_time": "2022-09-07T19:54:40.742Z"
   },
   {
    "duration": 9,
    "start_time": "2022-09-07T19:54:40.771Z"
   },
   {
    "duration": 6,
    "start_time": "2022-09-07T19:57:23.081Z"
   },
   {
    "duration": 2,
    "start_time": "2022-09-07T19:57:26.791Z"
   },
   {
    "duration": 66,
    "start_time": "2022-09-07T19:57:26.795Z"
   },
   {
    "duration": 15,
    "start_time": "2022-09-07T19:57:26.862Z"
   },
   {
    "duration": 15,
    "start_time": "2022-09-07T19:57:26.878Z"
   },
   {
    "duration": 27,
    "start_time": "2022-09-07T19:57:26.895Z"
   },
   {
    "duration": 3,
    "start_time": "2022-09-07T19:57:26.923Z"
   },
   {
    "duration": 7,
    "start_time": "2022-09-07T19:57:26.927Z"
   },
   {
    "duration": 33,
    "start_time": "2022-09-07T19:57:26.936Z"
   },
   {
    "duration": 6,
    "start_time": "2022-09-07T19:57:26.971Z"
   },
   {
    "duration": 12,
    "start_time": "2022-09-07T20:06:06.372Z"
   },
   {
    "duration": 8,
    "start_time": "2022-09-07T20:06:55.998Z"
   },
   {
    "duration": 10,
    "start_time": "2022-09-07T20:07:04.568Z"
   },
   {
    "duration": 6,
    "start_time": "2022-09-07T21:06:05.022Z"
   },
   {
    "duration": 102,
    "start_time": "2022-09-07T21:07:01.097Z"
   },
   {
    "duration": 6,
    "start_time": "2022-09-07T21:07:07.410Z"
   },
   {
    "duration": 5,
    "start_time": "2022-09-07T21:20:23.101Z"
   },
   {
    "duration": 5,
    "start_time": "2022-09-07T21:23:26.723Z"
   },
   {
    "duration": 2,
    "start_time": "2022-09-07T21:32:44.679Z"
   },
   {
    "duration": 56,
    "start_time": "2022-09-07T21:32:44.685Z"
   },
   {
    "duration": 14,
    "start_time": "2022-09-07T21:32:44.742Z"
   },
   {
    "duration": 23,
    "start_time": "2022-09-07T21:32:44.757Z"
   },
   {
    "duration": 28,
    "start_time": "2022-09-07T21:32:44.782Z"
   },
   {
    "duration": 2,
    "start_time": "2022-09-07T21:32:44.812Z"
   },
   {
    "duration": 6,
    "start_time": "2022-09-07T21:32:44.816Z"
   },
   {
    "duration": 9,
    "start_time": "2022-09-07T21:32:44.824Z"
   },
   {
    "duration": 4,
    "start_time": "2022-09-07T21:32:44.835Z"
   },
   {
    "duration": 6,
    "start_time": "2022-09-07T21:32:44.841Z"
   },
   {
    "duration": 7,
    "start_time": "2022-09-07T21:32:44.872Z"
   },
   {
    "duration": 15,
    "start_time": "2022-09-07T21:32:44.881Z"
   },
   {
    "duration": 7,
    "start_time": "2022-09-07T21:32:44.898Z"
   },
   {
    "duration": 9,
    "start_time": "2022-09-07T21:32:44.908Z"
   },
   {
    "duration": 6,
    "start_time": "2022-09-07T21:32:44.918Z"
   },
   {
    "duration": 8,
    "start_time": "2022-09-07T21:32:44.926Z"
   },
   {
    "duration": 9,
    "start_time": "2022-09-07T21:32:44.936Z"
   },
   {
    "duration": 27,
    "start_time": "2022-09-07T21:32:44.953Z"
   },
   {
    "duration": 112,
    "start_time": "2022-09-07T21:41:13.397Z"
   },
   {
    "duration": 15,
    "start_time": "2022-09-07T21:41:21.364Z"
   },
   {
    "duration": 900,
    "start_time": "2022-09-07T21:41:30.964Z"
   },
   {
    "duration": 9,
    "start_time": "2022-09-07T21:42:09.228Z"
   },
   {
    "duration": 181,
    "start_time": "2022-09-07T21:42:26.665Z"
   },
   {
    "duration": 23,
    "start_time": "2022-09-07T21:45:35.756Z"
   },
   {
    "duration": 126,
    "start_time": "2022-09-07T21:45:46.886Z"
   },
   {
    "duration": 3,
    "start_time": "2022-09-07T21:51:03.598Z"
   },
   {
    "duration": 145,
    "start_time": "2022-09-07T21:51:15.076Z"
   },
   {
    "duration": 173,
    "start_time": "2022-09-07T21:51:39.821Z"
   },
   {
    "duration": 179,
    "start_time": "2022-09-07T21:51:46.023Z"
   },
   {
    "duration": 153,
    "start_time": "2022-09-07T21:51:51.862Z"
   },
   {
    "duration": 160,
    "start_time": "2022-09-07T21:51:59.451Z"
   },
   {
    "duration": 161,
    "start_time": "2022-09-07T21:52:04.113Z"
   },
   {
    "duration": 237,
    "start_time": "2022-09-07T21:52:15.512Z"
   },
   {
    "duration": 15,
    "start_time": "2022-09-07T21:54:26.819Z"
   },
   {
    "duration": 11,
    "start_time": "2022-09-07T21:54:42.797Z"
   },
   {
    "duration": 1043,
    "start_time": "2022-09-07T21:55:06.857Z"
   },
   {
    "duration": 1075,
    "start_time": "2022-09-07T21:55:15.692Z"
   },
   {
    "duration": 1099,
    "start_time": "2022-09-07T21:55:21.427Z"
   },
   {
    "duration": 161,
    "start_time": "2022-09-07T21:56:22.175Z"
   },
   {
    "duration": 4,
    "start_time": "2022-09-07T22:05:33.615Z"
   },
   {
    "duration": 3,
    "start_time": "2022-09-07T22:06:04.803Z"
   },
   {
    "duration": 8,
    "start_time": "2022-09-07T22:06:40.149Z"
   },
   {
    "duration": 7,
    "start_time": "2022-09-07T22:07:14.384Z"
   },
   {
    "duration": 8,
    "start_time": "2022-09-07T22:07:25.645Z"
   },
   {
    "duration": 7,
    "start_time": "2022-09-07T22:07:44.375Z"
   },
   {
    "duration": 17,
    "start_time": "2022-09-07T22:08:07.946Z"
   },
   {
    "duration": 8,
    "start_time": "2022-09-07T22:08:50.767Z"
   },
   {
    "duration": 10,
    "start_time": "2022-09-07T22:08:59.346Z"
   },
   {
    "duration": 8,
    "start_time": "2022-09-07T22:09:09.669Z"
   },
   {
    "duration": 8,
    "start_time": "2022-09-07T22:09:26.625Z"
   },
   {
    "duration": 8,
    "start_time": "2022-09-07T22:09:33.479Z"
   },
   {
    "duration": 9,
    "start_time": "2022-09-07T22:09:38.232Z"
   },
   {
    "duration": 9,
    "start_time": "2022-09-07T22:10:04.670Z"
   },
   {
    "duration": 8,
    "start_time": "2022-09-07T22:10:20.506Z"
   },
   {
    "duration": 8,
    "start_time": "2022-09-07T22:10:47.513Z"
   },
   {
    "duration": 7,
    "start_time": "2022-09-07T22:13:27.622Z"
   },
   {
    "duration": 9,
    "start_time": "2022-09-07T22:48:32.058Z"
   },
   {
    "duration": 11,
    "start_time": "2022-09-07T22:48:48.436Z"
   },
   {
    "duration": 16,
    "start_time": "2022-09-07T22:49:45.624Z"
   },
   {
    "duration": 13,
    "start_time": "2022-09-07T22:50:12.210Z"
   },
   {
    "duration": 17,
    "start_time": "2022-09-07T22:50:23.165Z"
   },
   {
    "duration": 8,
    "start_time": "2022-09-07T22:50:51.685Z"
   },
   {
    "duration": 8,
    "start_time": "2022-09-07T22:51:14.363Z"
   },
   {
    "duration": 5,
    "start_time": "2022-09-07T22:54:51.813Z"
   },
   {
    "duration": 4,
    "start_time": "2022-09-07T22:55:10.219Z"
   },
   {
    "duration": 5,
    "start_time": "2022-09-07T22:55:20.577Z"
   },
   {
    "duration": 5,
    "start_time": "2022-09-07T22:55:32.244Z"
   },
   {
    "duration": 6,
    "start_time": "2022-09-07T22:57:06.544Z"
   },
   {
    "duration": 4,
    "start_time": "2022-09-07T22:57:08.421Z"
   },
   {
    "duration": 14,
    "start_time": "2022-09-07T22:59:19.402Z"
   },
   {
    "duration": 15,
    "start_time": "2022-09-07T22:59:38.413Z"
   },
   {
    "duration": 13,
    "start_time": "2022-09-07T22:59:57.830Z"
   },
   {
    "duration": 11,
    "start_time": "2022-09-07T23:00:19.778Z"
   },
   {
    "duration": 10,
    "start_time": "2022-09-07T23:01:30.309Z"
   },
   {
    "duration": 7,
    "start_time": "2022-09-07T23:01:35.951Z"
   },
   {
    "duration": 1210,
    "start_time": "2022-09-07T23:02:49.801Z"
   },
   {
    "duration": 8,
    "start_time": "2022-09-07T23:03:36.943Z"
   },
   {
    "duration": 8,
    "start_time": "2022-09-07T23:04:12.935Z"
   },
   {
    "duration": 4,
    "start_time": "2022-09-07T23:04:37.948Z"
   },
   {
    "duration": 10,
    "start_time": "2022-09-07T23:04:48.921Z"
   },
   {
    "duration": 11,
    "start_time": "2022-09-07T23:05:19.146Z"
   },
   {
    "duration": 13,
    "start_time": "2022-09-07T23:05:27.994Z"
   },
   {
    "duration": 3043,
    "start_time": "2022-09-07T23:40:20.947Z"
   },
   {
    "duration": 23,
    "start_time": "2022-09-07T23:40:57.788Z"
   },
   {
    "duration": 21,
    "start_time": "2022-09-07T23:41:16.753Z"
   },
   {
    "duration": 9,
    "start_time": "2022-09-07T23:41:55.701Z"
   },
   {
    "duration": 12,
    "start_time": "2022-09-07T23:43:11.146Z"
   },
   {
    "duration": 13,
    "start_time": "2022-09-07T23:44:49.937Z"
   },
   {
    "duration": 11,
    "start_time": "2022-09-07T23:45:30.647Z"
   },
   {
    "duration": 5,
    "start_time": "2022-09-07T23:48:15.601Z"
   },
   {
    "duration": 663,
    "start_time": "2022-09-07T23:50:02.606Z"
   },
   {
    "duration": 11,
    "start_time": "2022-09-07T23:51:29.419Z"
   },
   {
    "duration": 13,
    "start_time": "2022-09-07T23:51:34.978Z"
   },
   {
    "duration": 10,
    "start_time": "2022-09-08T00:07:25.523Z"
   },
   {
    "duration": 530,
    "start_time": "2022-09-08T00:07:30.539Z"
   },
   {
    "duration": 120,
    "start_time": "2022-09-08T00:08:01.828Z"
   },
   {
    "duration": 15,
    "start_time": "2022-09-08T00:16:02.499Z"
   },
   {
    "duration": 24,
    "start_time": "2022-09-08T00:16:07.145Z"
   },
   {
    "duration": 436,
    "start_time": "2022-09-08T00:16:39.605Z"
   },
   {
    "duration": 22,
    "start_time": "2022-09-08T00:17:02.824Z"
   },
   {
    "duration": 588,
    "start_time": "2022-09-08T00:17:12.465Z"
   },
   {
    "duration": 15,
    "start_time": "2022-09-08T00:17:44.100Z"
   },
   {
    "duration": 13,
    "start_time": "2022-09-08T00:18:03.203Z"
   },
   {
    "duration": 41,
    "start_time": "2022-09-08T09:14:53.306Z"
   },
   {
    "duration": 5,
    "start_time": "2022-09-08T09:14:56.991Z"
   },
   {
    "duration": 0,
    "start_time": "2022-09-08T09:14:56.997Z"
   },
   {
    "duration": 0,
    "start_time": "2022-09-08T09:14:56.998Z"
   },
   {
    "duration": 0,
    "start_time": "2022-09-08T09:14:56.999Z"
   },
   {
    "duration": 0,
    "start_time": "2022-09-08T09:14:57.000Z"
   },
   {
    "duration": 0,
    "start_time": "2022-09-08T09:14:57.001Z"
   },
   {
    "duration": 0,
    "start_time": "2022-09-08T09:14:57.002Z"
   },
   {
    "duration": 0,
    "start_time": "2022-09-08T09:14:57.003Z"
   },
   {
    "duration": 1260,
    "start_time": "2022-09-08T09:15:13.802Z"
   },
   {
    "duration": 183,
    "start_time": "2022-09-08T09:15:15.065Z"
   },
   {
    "duration": 17,
    "start_time": "2022-09-08T09:15:15.250Z"
   },
   {
    "duration": 14,
    "start_time": "2022-09-08T09:15:15.268Z"
   },
   {
    "duration": 27,
    "start_time": "2022-09-08T09:15:15.284Z"
   },
   {
    "duration": 3,
    "start_time": "2022-09-08T09:15:15.312Z"
   },
   {
    "duration": 9,
    "start_time": "2022-09-08T09:15:15.316Z"
   },
   {
    "duration": 13,
    "start_time": "2022-09-08T09:15:15.326Z"
   },
   {
    "duration": 8,
    "start_time": "2022-09-08T09:15:15.340Z"
   },
   {
    "duration": 14,
    "start_time": "2022-09-08T09:15:15.349Z"
   },
   {
    "duration": 11,
    "start_time": "2022-09-08T09:15:15.365Z"
   },
   {
    "duration": 18,
    "start_time": "2022-09-08T09:15:15.378Z"
   },
   {
    "duration": 20,
    "start_time": "2022-09-08T09:15:15.398Z"
   },
   {
    "duration": 8,
    "start_time": "2022-09-08T09:15:15.421Z"
   },
   {
    "duration": 10,
    "start_time": "2022-09-08T09:15:15.430Z"
   },
   {
    "duration": 12,
    "start_time": "2022-09-08T09:15:15.441Z"
   },
   {
    "duration": 12,
    "start_time": "2022-09-08T09:15:15.454Z"
   },
   {
    "duration": 6,
    "start_time": "2022-09-08T09:15:15.467Z"
   },
   {
    "duration": 33,
    "start_time": "2022-09-08T09:15:15.474Z"
   },
   {
    "duration": 173,
    "start_time": "2022-09-08T09:15:15.509Z"
   },
   {
    "duration": 29,
    "start_time": "2022-09-08T09:15:15.683Z"
   },
   {
    "duration": 11,
    "start_time": "2022-09-08T09:15:15.713Z"
   },
   {
    "duration": 16,
    "start_time": "2022-09-08T09:15:15.726Z"
   },
   {
    "duration": 26,
    "start_time": "2022-09-08T09:15:22.108Z"
   },
   {
    "duration": 13,
    "start_time": "2022-09-08T09:16:02.110Z"
   },
   {
    "duration": 14,
    "start_time": "2022-09-08T09:16:04.058Z"
   },
   {
    "duration": 14,
    "start_time": "2022-09-08T09:16:08.631Z"
   },
   {
    "duration": 347,
    "start_time": "2022-09-08T09:17:07.928Z"
   },
   {
    "duration": 12,
    "start_time": "2022-09-08T09:18:46.353Z"
   },
   {
    "duration": 16,
    "start_time": "2022-09-08T09:18:48.412Z"
   },
   {
    "duration": 343,
    "start_time": "2022-09-08T09:18:54.908Z"
   },
   {
    "duration": 12,
    "start_time": "2022-09-08T09:19:00.190Z"
   },
   {
    "duration": 11,
    "start_time": "2022-09-08T09:19:02.182Z"
   },
   {
    "duration": 12,
    "start_time": "2022-09-08T09:19:11.782Z"
   },
   {
    "duration": 11,
    "start_time": "2022-09-08T09:19:13.796Z"
   },
   {
    "duration": 12,
    "start_time": "2022-09-08T09:20:06.859Z"
   },
   {
    "duration": 13,
    "start_time": "2022-09-08T09:20:11.711Z"
   },
   {
    "duration": 920,
    "start_time": "2022-09-08T09:21:54.799Z"
   },
   {
    "duration": 991,
    "start_time": "2022-09-08T09:22:21.325Z"
   },
   {
    "duration": 954,
    "start_time": "2022-09-08T09:22:29.114Z"
   },
   {
    "duration": 873,
    "start_time": "2022-09-08T09:22:36.427Z"
   },
   {
    "duration": 994,
    "start_time": "2022-09-08T09:22:48.663Z"
   },
   {
    "duration": 839,
    "start_time": "2022-09-08T09:23:52.752Z"
   },
   {
    "duration": 16,
    "start_time": "2022-09-08T09:25:04.404Z"
   },
   {
    "duration": 977,
    "start_time": "2022-09-08T09:25:06.511Z"
   },
   {
    "duration": 16,
    "start_time": "2022-09-08T10:18:45.871Z"
   },
   {
    "duration": 1218,
    "start_time": "2022-09-08T10:19:34.102Z"
   },
   {
    "duration": 16,
    "start_time": "2022-09-08T10:19:49.868Z"
   },
   {
    "duration": 11,
    "start_time": "2022-09-08T10:28:48.945Z"
   },
   {
    "duration": 14,
    "start_time": "2022-09-08T10:29:21.218Z"
   },
   {
    "duration": 14,
    "start_time": "2022-09-08T10:29:28.882Z"
   },
   {
    "duration": 1694,
    "start_time": "2022-09-08T10:30:04.251Z"
   },
   {
    "duration": 1249,
    "start_time": "2022-09-08T10:30:07.594Z"
   },
   {
    "duration": 11,
    "start_time": "2022-09-08T10:30:21.141Z"
   },
   {
    "duration": 7,
    "start_time": "2022-09-08T10:35:03.341Z"
   },
   {
    "duration": 15,
    "start_time": "2022-09-08T10:35:20.041Z"
   },
   {
    "duration": 11,
    "start_time": "2022-09-08T10:35:25.155Z"
   },
   {
    "duration": 12,
    "start_time": "2022-09-08T10:35:26.837Z"
   },
   {
    "duration": 872,
    "start_time": "2022-09-08T10:35:29.442Z"
   },
   {
    "duration": 508,
    "start_time": "2022-09-08T11:27:24.993Z"
   },
   {
    "duration": 19,
    "start_time": "2022-09-08T11:28:47.566Z"
   },
   {
    "duration": 594,
    "start_time": "2022-09-08T11:29:02.726Z"
   },
   {
    "duration": 462,
    "start_time": "2022-09-08T11:29:05.365Z"
   },
   {
    "duration": 994,
    "start_time": "2022-09-08T11:29:58.486Z"
   },
   {
    "duration": 20,
    "start_time": "2022-09-08T11:30:42.190Z"
   },
   {
    "duration": 16,
    "start_time": "2022-09-08T11:31:03.899Z"
   },
   {
    "duration": 10,
    "start_time": "2022-09-08T11:31:38.745Z"
   },
   {
    "duration": 1011,
    "start_time": "2022-09-08T11:31:52.747Z"
   },
   {
    "duration": 377,
    "start_time": "2022-09-08T11:31:59.973Z"
   },
   {
    "duration": 9,
    "start_time": "2022-09-08T11:33:13.626Z"
   },
   {
    "duration": 317,
    "start_time": "2022-09-08T11:33:15.321Z"
   },
   {
    "duration": 321,
    "start_time": "2022-09-08T11:35:09.202Z"
   },
   {
    "duration": 1392,
    "start_time": "2022-09-08T11:46:44.360Z"
   },
   {
    "duration": 4,
    "start_time": "2022-09-08T11:47:07.249Z"
   },
   {
    "duration": 20,
    "start_time": "2022-09-08T11:47:34.611Z"
   },
   {
    "duration": 351,
    "start_time": "2022-09-08T11:50:55.672Z"
   },
   {
    "duration": 4,
    "start_time": "2022-09-08T11:51:42.238Z"
   },
   {
    "duration": 13,
    "start_time": "2022-09-08T11:53:18.551Z"
   },
   {
    "duration": 14,
    "start_time": "2022-09-08T11:54:56.120Z"
   },
   {
    "duration": 15,
    "start_time": "2022-09-08T11:55:05.859Z"
   },
   {
    "duration": 14,
    "start_time": "2022-09-08T11:55:20.074Z"
   },
   {
    "duration": 14,
    "start_time": "2022-09-08T11:55:33.880Z"
   },
   {
    "duration": 17,
    "start_time": "2022-09-08T11:55:39.285Z"
   },
   {
    "duration": 19,
    "start_time": "2022-09-08T11:55:46.603Z"
   },
   {
    "duration": 15,
    "start_time": "2022-09-08T11:56:17.451Z"
   },
   {
    "duration": 22,
    "start_time": "2022-09-08T11:56:25.506Z"
   },
   {
    "duration": 13,
    "start_time": "2022-09-08T11:59:32.070Z"
   },
   {
    "duration": 11,
    "start_time": "2022-09-08T11:59:34.168Z"
   },
   {
    "duration": 20,
    "start_time": "2022-09-08T11:59:38.313Z"
   },
   {
    "duration": 1394,
    "start_time": "2022-09-08T11:59:40.954Z"
   },
   {
    "duration": 14,
    "start_time": "2022-09-08T11:59:58.410Z"
   },
   {
    "duration": 11,
    "start_time": "2022-09-08T12:00:39.199Z"
   },
   {
    "duration": 3,
    "start_time": "2022-09-08T12:00:45.336Z"
   },
   {
    "duration": 53,
    "start_time": "2022-09-08T12:00:45.341Z"
   },
   {
    "duration": 16,
    "start_time": "2022-09-08T12:00:45.396Z"
   },
   {
    "duration": 25,
    "start_time": "2022-09-08T12:00:45.414Z"
   },
   {
    "duration": 26,
    "start_time": "2022-09-08T12:00:45.441Z"
   },
   {
    "duration": 3,
    "start_time": "2022-09-08T12:00:45.468Z"
   },
   {
    "duration": 11,
    "start_time": "2022-09-08T12:00:45.472Z"
   },
   {
    "duration": 22,
    "start_time": "2022-09-08T12:00:45.485Z"
   },
   {
    "duration": 5,
    "start_time": "2022-09-08T12:00:45.509Z"
   },
   {
    "duration": 21,
    "start_time": "2022-09-08T12:00:45.516Z"
   },
   {
    "duration": 13,
    "start_time": "2022-09-08T12:00:45.539Z"
   },
   {
    "duration": 15,
    "start_time": "2022-09-08T12:00:45.553Z"
   },
   {
    "duration": 14,
    "start_time": "2022-09-08T12:00:45.569Z"
   },
   {
    "duration": 14,
    "start_time": "2022-09-08T12:00:45.585Z"
   },
   {
    "duration": 27,
    "start_time": "2022-09-08T12:00:45.601Z"
   },
   {
    "duration": 11,
    "start_time": "2022-09-08T12:00:45.631Z"
   },
   {
    "duration": 11,
    "start_time": "2022-09-08T12:00:45.643Z"
   },
   {
    "duration": 14,
    "start_time": "2022-09-08T12:00:45.656Z"
   },
   {
    "duration": 43,
    "start_time": "2022-09-08T12:00:45.672Z"
   },
   {
    "duration": 394,
    "start_time": "2022-09-08T12:00:45.717Z"
   },
   {
    "duration": 12,
    "start_time": "2022-09-08T12:00:46.113Z"
   },
   {
    "duration": 53,
    "start_time": "2022-09-08T12:00:46.127Z"
   },
   {
    "duration": 1587,
    "start_time": "2022-09-08T12:00:46.182Z"
   },
   {
    "duration": 10,
    "start_time": "2022-09-08T12:01:29.855Z"
   },
   {
    "duration": 2,
    "start_time": "2022-09-08T12:01:34.040Z"
   },
   {
    "duration": 73,
    "start_time": "2022-09-08T12:01:34.044Z"
   },
   {
    "duration": 18,
    "start_time": "2022-09-08T12:01:34.119Z"
   },
   {
    "duration": 33,
    "start_time": "2022-09-08T12:01:34.139Z"
   },
   {
    "duration": 41,
    "start_time": "2022-09-08T12:01:34.175Z"
   },
   {
    "duration": 5,
    "start_time": "2022-09-08T12:01:34.218Z"
   },
   {
    "duration": 10,
    "start_time": "2022-09-08T12:01:34.225Z"
   },
   {
    "duration": 11,
    "start_time": "2022-09-08T12:01:34.237Z"
   },
   {
    "duration": 6,
    "start_time": "2022-09-08T12:01:34.250Z"
   },
   {
    "duration": 5,
    "start_time": "2022-09-08T12:01:34.258Z"
   },
   {
    "duration": 7,
    "start_time": "2022-09-08T12:01:34.265Z"
   },
   {
    "duration": 40,
    "start_time": "2022-09-08T12:01:34.273Z"
   },
   {
    "duration": 13,
    "start_time": "2022-09-08T12:01:34.316Z"
   },
   {
    "duration": 10,
    "start_time": "2022-09-08T12:01:34.332Z"
   },
   {
    "duration": 9,
    "start_time": "2022-09-08T12:01:34.343Z"
   },
   {
    "duration": 10,
    "start_time": "2022-09-08T12:01:34.354Z"
   },
   {
    "duration": 10,
    "start_time": "2022-09-08T12:01:34.366Z"
   },
   {
    "duration": 5,
    "start_time": "2022-09-08T12:01:34.377Z"
   },
   {
    "duration": 42,
    "start_time": "2022-09-08T12:01:34.384Z"
   },
   {
    "duration": 399,
    "start_time": "2022-09-08T12:01:34.428Z"
   },
   {
    "duration": 13,
    "start_time": "2022-09-08T12:01:34.830Z"
   },
   {
    "duration": 19,
    "start_time": "2022-09-08T12:01:34.845Z"
   },
   {
    "duration": 1278,
    "start_time": "2022-09-08T12:01:34.867Z"
   },
   {
    "duration": 23,
    "start_time": "2022-09-08T12:03:30.051Z"
   },
   {
    "duration": 462,
    "start_time": "2022-09-08T12:03:45.915Z"
   },
   {
    "duration": 3,
    "start_time": "2022-09-08T12:17:14.183Z"
   },
   {
    "duration": 30,
    "start_time": "2022-09-08T12:17:55.309Z"
   },
   {
    "duration": 23,
    "start_time": "2022-09-08T12:18:06.341Z"
   },
   {
    "duration": 10,
    "start_time": "2022-09-08T12:18:33.217Z"
   },
   {
    "duration": 24,
    "start_time": "2022-09-08T12:18:45.736Z"
   },
   {
    "duration": 27,
    "start_time": "2022-09-08T12:19:56.821Z"
   },
   {
    "duration": 141,
    "start_time": "2022-09-08T12:20:09.803Z"
   },
   {
    "duration": 144,
    "start_time": "2022-09-08T12:21:23.023Z"
   },
   {
    "duration": 164,
    "start_time": "2022-09-08T12:21:32.462Z"
   },
   {
    "duration": 211,
    "start_time": "2022-09-08T12:22:13.364Z"
   },
   {
    "duration": 190,
    "start_time": "2022-09-08T12:22:43.524Z"
   },
   {
    "duration": 25,
    "start_time": "2022-09-08T12:25:02.906Z"
   },
   {
    "duration": 13,
    "start_time": "2022-09-08T12:25:50.102Z"
   },
   {
    "duration": 276,
    "start_time": "2022-09-08T12:34:55.866Z"
   },
   {
    "duration": 28,
    "start_time": "2022-09-08T12:35:56.490Z"
   },
   {
    "duration": 29,
    "start_time": "2022-09-08T12:36:44.296Z"
   },
   {
    "duration": 10,
    "start_time": "2022-09-08T12:49:13.219Z"
   },
   {
    "duration": 677,
    "start_time": "2022-09-08T12:49:47.956Z"
   },
   {
    "duration": 31,
    "start_time": "2022-09-08T13:01:33.785Z"
   },
   {
    "duration": 17,
    "start_time": "2022-09-08T13:01:45.594Z"
   },
   {
    "duration": 16,
    "start_time": "2022-09-08T13:01:57.527Z"
   },
   {
    "duration": 16,
    "start_time": "2022-09-08T13:02:06.540Z"
   },
   {
    "duration": 571,
    "start_time": "2022-09-08T13:02:10.995Z"
   },
   {
    "duration": 13,
    "start_time": "2022-09-08T13:02:49.040Z"
   },
   {
    "duration": 136,
    "start_time": "2022-09-08T13:03:00.228Z"
   },
   {
    "duration": 108,
    "start_time": "2022-09-08T13:03:38.604Z"
   },
   {
    "duration": 8,
    "start_time": "2022-09-08T13:04:18.877Z"
   },
   {
    "duration": 96,
    "start_time": "2022-09-08T13:04:24.919Z"
   },
   {
    "duration": 116,
    "start_time": "2022-09-08T13:04:31.116Z"
   },
   {
    "duration": 123,
    "start_time": "2022-09-08T13:10:21.923Z"
   },
   {
    "duration": 119,
    "start_time": "2022-09-08T13:10:41.937Z"
   },
   {
    "duration": 131,
    "start_time": "2022-09-08T13:10:50.997Z"
   },
   {
    "duration": 119,
    "start_time": "2022-09-08T13:10:54.848Z"
   },
   {
    "duration": 132,
    "start_time": "2022-09-08T13:15:42.911Z"
   },
   {
    "duration": 123,
    "start_time": "2022-09-08T13:17:27.547Z"
   },
   {
    "duration": 114,
    "start_time": "2022-09-08T13:17:47.385Z"
   },
   {
    "duration": 8,
    "start_time": "2022-09-08T13:46:57.135Z"
   },
   {
    "duration": 264,
    "start_time": "2022-09-08T13:48:30.725Z"
   },
   {
    "duration": 365,
    "start_time": "2022-09-08T13:49:01.615Z"
   },
   {
    "duration": 350,
    "start_time": "2022-09-08T13:51:29.459Z"
   },
   {
    "duration": 535,
    "start_time": "2022-09-08T13:52:39.396Z"
   },
   {
    "duration": 10,
    "start_time": "2022-09-08T13:53:36.292Z"
   },
   {
    "duration": 343,
    "start_time": "2022-09-08T13:54:29.759Z"
   },
   {
    "duration": 3,
    "start_time": "2022-09-08T13:54:45.738Z"
   },
   {
    "duration": 11,
    "start_time": "2022-09-08T13:54:54.218Z"
   },
   {
    "duration": 5,
    "start_time": "2022-09-08T13:56:08.157Z"
   },
   {
    "duration": 22,
    "start_time": "2022-09-08T13:56:31.778Z"
   },
   {
    "duration": 23,
    "start_time": "2022-09-08T14:02:05.687Z"
   },
   {
    "duration": 9,
    "start_time": "2022-09-08T14:03:19.950Z"
   },
   {
    "duration": 11,
    "start_time": "2022-09-08T14:03:44.101Z"
   },
   {
    "duration": 13,
    "start_time": "2022-09-08T14:03:46.140Z"
   },
   {
    "duration": 9,
    "start_time": "2022-09-08T14:04:07.699Z"
   },
   {
    "duration": 6,
    "start_time": "2022-09-08T14:05:16.562Z"
   },
   {
    "duration": 21,
    "start_time": "2022-09-08T14:05:24.399Z"
   },
   {
    "duration": 5,
    "start_time": "2022-09-08T14:05:54.398Z"
   },
   {
    "duration": 170,
    "start_time": "2022-09-08T14:09:06.594Z"
   },
   {
    "duration": 200,
    "start_time": "2022-09-08T14:09:13.145Z"
   },
   {
    "duration": 216,
    "start_time": "2022-09-08T14:09:19.200Z"
   },
   {
    "duration": 166,
    "start_time": "2022-09-08T14:09:24.317Z"
   },
   {
    "duration": 180,
    "start_time": "2022-09-08T14:09:33.120Z"
   },
   {
    "duration": 182,
    "start_time": "2022-09-08T14:09:41.056Z"
   },
   {
    "duration": 177,
    "start_time": "2022-09-08T14:09:55.296Z"
   },
   {
    "duration": 211,
    "start_time": "2022-09-08T14:09:58.988Z"
   },
   {
    "duration": 181,
    "start_time": "2022-09-08T14:10:04.861Z"
   },
   {
    "duration": 185,
    "start_time": "2022-09-08T14:11:05.282Z"
   },
   {
    "duration": 160,
    "start_time": "2022-09-08T14:11:08.191Z"
   },
   {
    "duration": 160,
    "start_time": "2022-09-08T14:11:15.478Z"
   },
   {
    "duration": 181,
    "start_time": "2022-09-08T14:11:20.925Z"
   },
   {
    "duration": 193,
    "start_time": "2022-09-08T14:11:27.041Z"
   },
   {
    "duration": 169,
    "start_time": "2022-09-08T14:11:39.980Z"
   },
   {
    "duration": 166,
    "start_time": "2022-09-08T14:11:45.470Z"
   },
   {
    "duration": 175,
    "start_time": "2022-09-08T14:11:51.636Z"
   },
   {
    "duration": 403,
    "start_time": "2022-09-08T14:11:56.735Z"
   },
   {
    "duration": 197,
    "start_time": "2022-09-08T14:11:59.979Z"
   },
   {
    "duration": 162,
    "start_time": "2022-09-08T14:12:41.524Z"
   },
   {
    "duration": 201,
    "start_time": "2022-09-08T14:12:49.261Z"
   },
   {
    "duration": 222,
    "start_time": "2022-09-08T14:12:56.879Z"
   },
   {
    "duration": 194,
    "start_time": "2022-09-08T14:12:59.979Z"
   },
   {
    "duration": 175,
    "start_time": "2022-09-08T14:13:52.737Z"
   },
   {
    "duration": 181,
    "start_time": "2022-09-08T14:14:12.197Z"
   },
   {
    "duration": 6,
    "start_time": "2022-09-08T14:15:18.203Z"
   },
   {
    "duration": 23,
    "start_time": "2022-09-08T14:15:24.897Z"
   },
   {
    "duration": 8,
    "start_time": "2022-09-08T14:16:12.103Z"
   },
   {
    "duration": 22,
    "start_time": "2022-09-08T15:33:53.569Z"
   },
   {
    "duration": 12,
    "start_time": "2022-09-08T15:37:24.884Z"
   },
   {
    "duration": 10,
    "start_time": "2022-09-08T15:38:10.281Z"
   },
   {
    "duration": 12,
    "start_time": "2022-09-08T15:39:01.438Z"
   },
   {
    "duration": 94,
    "start_time": "2022-09-08T15:39:46.576Z"
   },
   {
    "duration": 16,
    "start_time": "2022-09-08T15:39:59.290Z"
   },
   {
    "duration": 16,
    "start_time": "2022-09-08T15:41:25.989Z"
   },
   {
    "duration": 139,
    "start_time": "2022-09-08T15:41:36.986Z"
   },
   {
    "duration": 170,
    "start_time": "2022-09-08T15:42:11.698Z"
   },
   {
    "duration": 188,
    "start_time": "2022-09-08T15:42:19.446Z"
   },
   {
    "duration": 167,
    "start_time": "2022-09-08T15:42:25.514Z"
   },
   {
    "duration": 14,
    "start_time": "2022-09-08T15:42:45.789Z"
   },
   {
    "duration": 16,
    "start_time": "2022-09-08T15:42:57.329Z"
   },
   {
    "duration": 14,
    "start_time": "2022-09-08T15:43:44.317Z"
   },
   {
    "duration": 14,
    "start_time": "2022-09-08T15:43:48.560Z"
   },
   {
    "duration": 14,
    "start_time": "2022-09-08T15:43:55.685Z"
   },
   {
    "duration": 17,
    "start_time": "2022-09-08T15:44:02.071Z"
   },
   {
    "duration": 175,
    "start_time": "2022-09-08T15:44:06.180Z"
   },
   {
    "duration": 167,
    "start_time": "2022-09-08T15:44:13.762Z"
   },
   {
    "duration": 161,
    "start_time": "2022-09-08T17:14:06.932Z"
   },
   {
    "duration": 123,
    "start_time": "2022-09-08T17:24:34.026Z"
   },
   {
    "duration": 151,
    "start_time": "2022-09-08T17:35:59.422Z"
   },
   {
    "duration": 129,
    "start_time": "2022-09-08T17:37:08.511Z"
   },
   {
    "duration": 154,
    "start_time": "2022-09-08T17:38:04.997Z"
   },
   {
    "duration": 181,
    "start_time": "2022-09-08T17:38:27.041Z"
   },
   {
    "duration": 338,
    "start_time": "2022-09-08T17:44:01.519Z"
   },
   {
    "duration": 185,
    "start_time": "2022-09-08T17:44:11.918Z"
   },
   {
    "duration": 148,
    "start_time": "2022-09-08T17:48:56.659Z"
   },
   {
    "duration": 179,
    "start_time": "2022-09-08T17:49:15.995Z"
   },
   {
    "duration": 134,
    "start_time": "2022-09-08T17:49:20.843Z"
   },
   {
    "duration": 129,
    "start_time": "2022-09-08T17:49:28.324Z"
   },
   {
    "duration": 444,
    "start_time": "2022-09-08T17:56:16.135Z"
   },
   {
    "duration": 11,
    "start_time": "2022-09-08T17:56:22.342Z"
   },
   {
    "duration": 10,
    "start_time": "2022-09-08T17:56:37.853Z"
   },
   {
    "duration": 125,
    "start_time": "2022-09-08T17:59:18.089Z"
   },
   {
    "duration": 143,
    "start_time": "2022-09-08T17:59:35.688Z"
   },
   {
    "duration": 211,
    "start_time": "2022-09-08T18:00:46.720Z"
   },
   {
    "duration": 190,
    "start_time": "2022-09-08T18:01:03.093Z"
   },
   {
    "duration": 250,
    "start_time": "2022-09-08T18:01:11.925Z"
   },
   {
    "duration": 159,
    "start_time": "2022-09-08T18:01:59.247Z"
   },
   {
    "duration": 166,
    "start_time": "2022-09-08T18:02:09.910Z"
   },
   {
    "duration": 143,
    "start_time": "2022-09-08T18:02:22.478Z"
   },
   {
    "duration": 142,
    "start_time": "2022-09-08T18:02:26.535Z"
   },
   {
    "duration": 166,
    "start_time": "2022-09-08T18:02:31.791Z"
   },
   {
    "duration": 156,
    "start_time": "2022-09-08T18:02:36.440Z"
   },
   {
    "duration": 141,
    "start_time": "2022-09-08T18:02:48.997Z"
   },
   {
    "duration": 166,
    "start_time": "2022-09-08T18:08:38.072Z"
   },
   {
    "duration": 11,
    "start_time": "2022-09-08T18:18:27.832Z"
   },
   {
    "duration": 11,
    "start_time": "2022-09-08T18:21:29.744Z"
   },
   {
    "duration": 143,
    "start_time": "2022-09-08T18:21:53.303Z"
   },
   {
    "duration": 260,
    "start_time": "2022-09-08T18:21:58.689Z"
   },
   {
    "duration": 446,
    "start_time": "2022-09-08T18:22:07.287Z"
   },
   {
    "duration": 397,
    "start_time": "2022-09-08T18:22:14.550Z"
   },
   {
    "duration": 584,
    "start_time": "2022-09-08T18:22:33.894Z"
   },
   {
    "duration": 137,
    "start_time": "2022-09-08T18:22:48.957Z"
   },
   {
    "duration": 136,
    "start_time": "2022-09-08T18:22:52.287Z"
   },
   {
    "duration": 182,
    "start_time": "2022-09-08T18:33:45.830Z"
   },
   {
    "duration": 373,
    "start_time": "2022-09-08T18:34:35.266Z"
   },
   {
    "duration": 197,
    "start_time": "2022-09-08T18:34:40.785Z"
   },
   {
    "duration": 205,
    "start_time": "2022-09-08T18:34:49.910Z"
   },
   {
    "duration": 211,
    "start_time": "2022-09-08T18:35:11.269Z"
   },
   {
    "duration": 207,
    "start_time": "2022-09-08T18:35:19.091Z"
   },
   {
    "duration": 9,
    "start_time": "2022-09-08T18:36:46.731Z"
   },
   {
    "duration": 202,
    "start_time": "2022-09-08T18:37:00.170Z"
   },
   {
    "duration": 362,
    "start_time": "2022-09-08T18:37:13.395Z"
   },
   {
    "duration": 368,
    "start_time": "2022-09-08T18:37:22.004Z"
   },
   {
    "duration": 385,
    "start_time": "2022-09-08T18:37:28.556Z"
   },
   {
    "duration": 371,
    "start_time": "2022-09-08T18:37:33.629Z"
   },
   {
    "duration": 608,
    "start_time": "2022-09-08T18:37:41.799Z"
   },
   {
    "duration": 354,
    "start_time": "2022-09-08T18:38:07.536Z"
   },
   {
    "duration": 4,
    "start_time": "2022-09-08T18:56:09.250Z"
   },
   {
    "duration": 378,
    "start_time": "2022-09-08T18:56:29.650Z"
   },
   {
    "duration": 366,
    "start_time": "2022-09-08T18:56:45.809Z"
   },
   {
    "duration": 293,
    "start_time": "2022-09-08T18:56:51.889Z"
   },
   {
    "duration": 403,
    "start_time": "2022-09-08T18:57:15.925Z"
   },
   {
    "duration": 328,
    "start_time": "2022-09-08T18:57:22.833Z"
   },
   {
    "duration": 71,
    "start_time": "2022-09-08T18:57:37.912Z"
   },
   {
    "duration": 342,
    "start_time": "2022-09-08T18:57:41.713Z"
   },
   {
    "duration": 157,
    "start_time": "2022-09-08T19:01:38.851Z"
   },
   {
    "duration": 356,
    "start_time": "2022-09-08T19:01:46.320Z"
   },
   {
    "duration": 370,
    "start_time": "2022-09-08T19:02:02.284Z"
   },
   {
    "duration": 560,
    "start_time": "2022-09-08T19:02:08.268Z"
   },
   {
    "duration": 340,
    "start_time": "2022-09-08T19:02:32.355Z"
   },
   {
    "duration": 368,
    "start_time": "2022-09-08T19:03:13.610Z"
   },
   {
    "duration": 356,
    "start_time": "2022-09-08T19:03:27.368Z"
   },
   {
    "duration": 304,
    "start_time": "2022-09-08T19:03:43.325Z"
   },
   {
    "duration": 338,
    "start_time": "2022-09-08T19:03:55.375Z"
   },
   {
    "duration": 379,
    "start_time": "2022-09-08T19:04:38.679Z"
   },
   {
    "duration": 12,
    "start_time": "2022-09-08T19:06:39.797Z"
   },
   {
    "duration": 32,
    "start_time": "2022-09-08T19:08:31.420Z"
   },
   {
    "duration": 43,
    "start_time": "2022-09-08T19:08:56.186Z"
   },
   {
    "duration": 30,
    "start_time": "2022-09-08T19:11:17.360Z"
   },
   {
    "duration": 30,
    "start_time": "2022-09-08T19:11:28.651Z"
   },
   {
    "duration": 32,
    "start_time": "2022-09-08T19:11:34.501Z"
   },
   {
    "duration": 71,
    "start_time": "2022-09-08T19:12:54.521Z"
   },
   {
    "duration": 73,
    "start_time": "2022-09-08T19:13:32.834Z"
   },
   {
    "duration": 33,
    "start_time": "2022-09-08T19:13:43.736Z"
   },
   {
    "duration": 74,
    "start_time": "2022-09-08T19:13:59.191Z"
   },
   {
    "duration": 33,
    "start_time": "2022-09-08T19:14:04.858Z"
   },
   {
    "duration": 95,
    "start_time": "2022-09-08T19:16:40.997Z"
   },
   {
    "duration": 83,
    "start_time": "2022-09-08T19:16:48.891Z"
   },
   {
    "duration": 343,
    "start_time": "2022-09-08T19:17:09.358Z"
   },
   {
    "duration": 386,
    "start_time": "2022-09-08T19:17:57.548Z"
   },
   {
    "duration": 336,
    "start_time": "2022-09-08T19:18:03.963Z"
   },
   {
    "duration": 344,
    "start_time": "2022-09-08T19:18:18.776Z"
   },
   {
    "duration": 392,
    "start_time": "2022-09-08T19:19:35.739Z"
   },
   {
    "duration": 31,
    "start_time": "2022-09-08T19:20:51.238Z"
   },
   {
    "duration": 35,
    "start_time": "2022-09-08T19:20:59.921Z"
   },
   {
    "duration": 36,
    "start_time": "2022-09-08T19:21:19.605Z"
   },
   {
    "duration": 32,
    "start_time": "2022-09-08T19:21:25.416Z"
   },
   {
    "duration": 36,
    "start_time": "2022-09-08T19:23:03.758Z"
   },
   {
    "duration": 33,
    "start_time": "2022-09-08T19:24:19.398Z"
   },
   {
    "duration": 103,
    "start_time": "2022-09-08T19:28:47.013Z"
   },
   {
    "duration": 129,
    "start_time": "2022-09-08T19:29:00.298Z"
   },
   {
    "duration": 593,
    "start_time": "2022-09-08T19:29:58.889Z"
   },
   {
    "duration": 904,
    "start_time": "2022-09-08T19:30:06.489Z"
   },
   {
    "duration": 48,
    "start_time": "2022-09-08T19:31:36.171Z"
   },
   {
    "duration": 367,
    "start_time": "2022-09-08T19:39:44.087Z"
   },
   {
    "duration": 347,
    "start_time": "2022-09-08T19:40:20.362Z"
   },
   {
    "duration": 353,
    "start_time": "2022-09-08T19:58:56.551Z"
   },
   {
    "duration": 345,
    "start_time": "2022-09-08T20:00:05.368Z"
   },
   {
    "duration": 349,
    "start_time": "2022-09-08T20:00:41.451Z"
   },
   {
    "duration": 326,
    "start_time": "2022-09-08T20:04:49.119Z"
   },
   {
    "duration": 20,
    "start_time": "2022-09-08T20:08:05.960Z"
   },
   {
    "duration": 10,
    "start_time": "2022-09-08T20:08:29.900Z"
   },
   {
    "duration": 16,
    "start_time": "2022-09-08T20:08:40.006Z"
   },
   {
    "duration": 16,
    "start_time": "2022-09-08T20:09:43.604Z"
   },
   {
    "duration": 13,
    "start_time": "2022-09-08T20:10:03.644Z"
   },
   {
    "duration": 21,
    "start_time": "2022-09-08T20:10:41.895Z"
   },
   {
    "duration": 208,
    "start_time": "2022-09-08T20:11:12.640Z"
   },
   {
    "duration": 168,
    "start_time": "2022-09-08T20:14:48.166Z"
   },
   {
    "duration": 168,
    "start_time": "2022-09-08T20:14:54.367Z"
   },
   {
    "duration": 191,
    "start_time": "2022-09-08T20:14:57.557Z"
   },
   {
    "duration": 172,
    "start_time": "2022-09-08T20:15:05.677Z"
   },
   {
    "duration": 271,
    "start_time": "2022-09-08T20:18:47.642Z"
   },
   {
    "duration": 8,
    "start_time": "2022-09-08T20:19:23.564Z"
   },
   {
    "duration": 9,
    "start_time": "2022-09-08T20:19:33.511Z"
   },
   {
    "duration": 285,
    "start_time": "2022-09-08T20:19:38.303Z"
   },
   {
    "duration": 160,
    "start_time": "2022-09-08T20:20:17.417Z"
   },
   {
    "duration": 161,
    "start_time": "2022-09-08T20:20:22.149Z"
   },
   {
    "duration": 3,
    "start_time": "2022-09-08T20:21:30.135Z"
   },
   {
    "duration": 30,
    "start_time": "2022-09-08T20:23:02.150Z"
   },
   {
    "duration": 207,
    "start_time": "2022-09-08T20:25:13.246Z"
   },
   {
    "duration": 849,
    "start_time": "2022-09-08T20:26:12.377Z"
   },
   {
    "duration": 468,
    "start_time": "2022-09-08T20:26:30.368Z"
   },
   {
    "duration": 483,
    "start_time": "2022-09-08T20:26:36.348Z"
   },
   {
    "duration": 420,
    "start_time": "2022-09-08T20:27:47.469Z"
   },
   {
    "duration": 14,
    "start_time": "2022-09-08T21:24:07.710Z"
   },
   {
    "duration": 14,
    "start_time": "2022-09-08T21:24:36.687Z"
   },
   {
    "duration": 21,
    "start_time": "2022-09-08T21:24:44.163Z"
   },
   {
    "duration": 491,
    "start_time": "2022-09-08T21:25:12.811Z"
   },
   {
    "duration": 445,
    "start_time": "2022-09-08T21:25:24.140Z"
   },
   {
    "duration": 456,
    "start_time": "2022-09-08T21:25:37.791Z"
   },
   {
    "duration": 411,
    "start_time": "2022-09-08T21:25:50.952Z"
   },
   {
    "duration": 15,
    "start_time": "2022-09-08T21:35:23.697Z"
   },
   {
    "duration": 12,
    "start_time": "2022-09-08T21:36:34.556Z"
   },
   {
    "duration": 13,
    "start_time": "2022-09-08T21:36:46.648Z"
   },
   {
    "duration": 13,
    "start_time": "2022-09-08T21:38:07.687Z"
   },
   {
    "duration": 16,
    "start_time": "2022-09-08T21:39:19.377Z"
   },
   {
    "duration": 17,
    "start_time": "2022-09-08T21:39:34.467Z"
   },
   {
    "duration": 50,
    "start_time": "2022-09-08T21:40:44.754Z"
   },
   {
    "duration": 18,
    "start_time": "2022-09-08T21:41:22.753Z"
   },
   {
    "duration": 342,
    "start_time": "2022-09-08T22:01:06.569Z"
   },
   {
    "duration": 378,
    "start_time": "2022-09-08T22:01:59.117Z"
   },
   {
    "duration": 627,
    "start_time": "2022-09-08T22:02:04.312Z"
   },
   {
    "duration": 344,
    "start_time": "2022-09-08T22:02:19.707Z"
   },
   {
    "duration": 72,
    "start_time": "2022-09-08T22:02:44.456Z"
   },
   {
    "duration": 281,
    "start_time": "2022-09-08T22:03:09.418Z"
   },
   {
    "duration": 328,
    "start_time": "2022-09-08T22:03:20.978Z"
   },
   {
    "duration": 336,
    "start_time": "2022-09-08T22:03:27.642Z"
   },
   {
    "duration": 17,
    "start_time": "2022-09-08T22:22:20.324Z"
   },
   {
    "duration": 3,
    "start_time": "2022-09-08T23:23:19.520Z"
   },
   {
    "duration": 9,
    "start_time": "2022-09-08T23:33:22.352Z"
   },
   {
    "duration": 6,
    "start_time": "2022-09-08T23:33:27.343Z"
   },
   {
    "duration": 6,
    "start_time": "2022-09-08T23:34:17.935Z"
   },
   {
    "duration": 9,
    "start_time": "2022-09-08T23:34:31.754Z"
   },
   {
    "duration": 8,
    "start_time": "2022-09-08T23:35:49.455Z"
   },
   {
    "duration": 10,
    "start_time": "2022-09-08T23:36:50.213Z"
   },
   {
    "duration": 12,
    "start_time": "2022-09-08T23:45:36.179Z"
   },
   {
    "duration": 11,
    "start_time": "2022-09-09T00:19:32.921Z"
   },
   {
    "duration": 11,
    "start_time": "2022-09-09T00:19:40.662Z"
   },
   {
    "duration": 11,
    "start_time": "2022-09-09T00:19:46.229Z"
   },
   {
    "duration": 11,
    "start_time": "2022-09-09T00:57:11.200Z"
   },
   {
    "duration": 11,
    "start_time": "2022-09-09T00:57:22.779Z"
   },
   {
    "duration": 322,
    "start_time": "2022-09-09T01:11:19.650Z"
   },
   {
    "duration": 2,
    "start_time": "2022-09-09T01:14:41.972Z"
   },
   {
    "duration": 1217,
    "start_time": "2022-09-09T15:32:06.569Z"
   },
   {
    "duration": 137,
    "start_time": "2022-09-09T15:32:07.789Z"
   },
   {
    "duration": 21,
    "start_time": "2022-09-09T15:32:07.929Z"
   },
   {
    "duration": 57,
    "start_time": "2022-09-09T15:32:07.951Z"
   },
   {
    "duration": 52,
    "start_time": "2022-09-09T15:32:08.012Z"
   },
   {
    "duration": 5,
    "start_time": "2022-09-09T15:32:08.066Z"
   },
   {
    "duration": 20,
    "start_time": "2022-09-09T15:32:08.073Z"
   },
   {
    "duration": 120,
    "start_time": "2022-09-09T15:32:08.095Z"
   },
   {
    "duration": 0,
    "start_time": "2022-09-09T15:32:08.220Z"
   },
   {
    "duration": 0,
    "start_time": "2022-09-09T15:32:08.221Z"
   },
   {
    "duration": 0,
    "start_time": "2022-09-09T15:32:08.223Z"
   },
   {
    "duration": 0,
    "start_time": "2022-09-09T15:32:08.224Z"
   },
   {
    "duration": 0,
    "start_time": "2022-09-09T15:32:08.227Z"
   },
   {
    "duration": 0,
    "start_time": "2022-09-09T15:32:08.229Z"
   },
   {
    "duration": 0,
    "start_time": "2022-09-09T15:32:08.230Z"
   },
   {
    "duration": 0,
    "start_time": "2022-09-09T15:32:08.247Z"
   },
   {
    "duration": 0,
    "start_time": "2022-09-09T15:32:08.248Z"
   },
   {
    "duration": 0,
    "start_time": "2022-09-09T15:32:08.249Z"
   },
   {
    "duration": 0,
    "start_time": "2022-09-09T15:32:08.249Z"
   },
   {
    "duration": 0,
    "start_time": "2022-09-09T15:32:08.250Z"
   },
   {
    "duration": 0,
    "start_time": "2022-09-09T15:32:08.252Z"
   },
   {
    "duration": 0,
    "start_time": "2022-09-09T15:32:08.253Z"
   },
   {
    "duration": 0,
    "start_time": "2022-09-09T15:32:08.254Z"
   },
   {
    "duration": 0,
    "start_time": "2022-09-09T15:32:08.255Z"
   },
   {
    "duration": 0,
    "start_time": "2022-09-09T15:32:08.256Z"
   },
   {
    "duration": 0,
    "start_time": "2022-09-09T15:32:08.257Z"
   },
   {
    "duration": 0,
    "start_time": "2022-09-09T15:32:08.258Z"
   },
   {
    "duration": 0,
    "start_time": "2022-09-09T15:32:08.259Z"
   },
   {
    "duration": 0,
    "start_time": "2022-09-09T15:32:08.260Z"
   },
   {
    "duration": 0,
    "start_time": "2022-09-09T15:32:08.262Z"
   },
   {
    "duration": 0,
    "start_time": "2022-09-09T15:32:08.263Z"
   },
   {
    "duration": 0,
    "start_time": "2022-09-09T15:32:08.264Z"
   },
   {
    "duration": 0,
    "start_time": "2022-09-09T15:32:08.265Z"
   },
   {
    "duration": 0,
    "start_time": "2022-09-09T15:32:08.266Z"
   },
   {
    "duration": 0,
    "start_time": "2022-09-09T15:32:08.267Z"
   },
   {
    "duration": 0,
    "start_time": "2022-09-09T15:32:08.268Z"
   },
   {
    "duration": 0,
    "start_time": "2022-09-09T15:32:08.269Z"
   },
   {
    "duration": 0,
    "start_time": "2022-09-09T15:32:08.271Z"
   },
   {
    "duration": 0,
    "start_time": "2022-09-09T15:32:08.272Z"
   },
   {
    "duration": 1,
    "start_time": "2022-09-09T15:32:08.274Z"
   },
   {
    "duration": 0,
    "start_time": "2022-09-09T15:32:08.275Z"
   },
   {
    "duration": 0,
    "start_time": "2022-09-09T15:32:08.276Z"
   },
   {
    "duration": 0,
    "start_time": "2022-09-09T15:32:08.279Z"
   },
   {
    "duration": 0,
    "start_time": "2022-09-09T15:32:08.281Z"
   },
   {
    "duration": 1192,
    "start_time": "2022-09-09T15:33:29.009Z"
   },
   {
    "duration": 58,
    "start_time": "2022-09-09T15:33:30.203Z"
   },
   {
    "duration": 18,
    "start_time": "2022-09-09T15:33:30.263Z"
   },
   {
    "duration": 41,
    "start_time": "2022-09-09T15:33:30.283Z"
   },
   {
    "duration": 51,
    "start_time": "2022-09-09T15:33:30.326Z"
   },
   {
    "duration": 3,
    "start_time": "2022-09-09T15:33:30.380Z"
   },
   {
    "duration": 29,
    "start_time": "2022-09-09T15:33:30.385Z"
   },
   {
    "duration": 49,
    "start_time": "2022-09-09T15:33:30.416Z"
   },
   {
    "duration": 26,
    "start_time": "2022-09-09T15:33:30.467Z"
   },
   {
    "duration": 8,
    "start_time": "2022-09-09T15:33:30.496Z"
   },
   {
    "duration": 10,
    "start_time": "2022-09-09T15:33:30.506Z"
   },
   {
    "duration": 16,
    "start_time": "2022-09-09T15:33:30.518Z"
   },
   {
    "duration": 40,
    "start_time": "2022-09-09T15:33:30.536Z"
   },
   {
    "duration": 9,
    "start_time": "2022-09-09T15:33:30.578Z"
   },
   {
    "duration": 29,
    "start_time": "2022-09-09T15:33:30.589Z"
   },
   {
    "duration": 17,
    "start_time": "2022-09-09T15:33:30.620Z"
   },
   {
    "duration": 38,
    "start_time": "2022-09-09T15:33:30.639Z"
   },
   {
    "duration": 20,
    "start_time": "2022-09-09T15:33:30.679Z"
   },
   {
    "duration": 25,
    "start_time": "2022-09-09T15:33:30.701Z"
   },
   {
    "duration": 47,
    "start_time": "2022-09-09T15:33:30.728Z"
   },
   {
    "duration": 434,
    "start_time": "2022-09-09T15:33:30.777Z"
   },
   {
    "duration": 13,
    "start_time": "2022-09-09T15:33:31.213Z"
   },
   {
    "duration": 64,
    "start_time": "2022-09-09T15:33:31.228Z"
   },
   {
    "duration": 1039,
    "start_time": "2022-09-09T15:33:31.293Z"
   },
   {
    "duration": 14,
    "start_time": "2022-09-09T15:33:32.334Z"
   },
   {
    "duration": 418,
    "start_time": "2022-09-09T15:33:32.353Z"
   },
   {
    "duration": 3,
    "start_time": "2022-09-09T15:33:32.774Z"
   },
   {
    "duration": 269,
    "start_time": "2022-09-09T15:33:32.781Z"
   },
   {
    "duration": 147,
    "start_time": "2022-09-09T15:33:33.053Z"
   },
   {
    "duration": 413,
    "start_time": "2022-09-09T15:33:33.201Z"
   },
   {
    "duration": 0,
    "start_time": "2022-09-09T15:33:33.617Z"
   },
   {
    "duration": 0,
    "start_time": "2022-09-09T15:33:33.618Z"
   },
   {
    "duration": 0,
    "start_time": "2022-09-09T15:33:33.620Z"
   },
   {
    "duration": 0,
    "start_time": "2022-09-09T15:33:33.621Z"
   },
   {
    "duration": 0,
    "start_time": "2022-09-09T15:33:33.622Z"
   },
   {
    "duration": 0,
    "start_time": "2022-09-09T15:33:33.624Z"
   },
   {
    "duration": 0,
    "start_time": "2022-09-09T15:33:33.627Z"
   },
   {
    "duration": 0,
    "start_time": "2022-09-09T15:33:33.628Z"
   },
   {
    "duration": 0,
    "start_time": "2022-09-09T15:33:33.629Z"
   },
   {
    "duration": 0,
    "start_time": "2022-09-09T15:33:33.630Z"
   },
   {
    "duration": 0,
    "start_time": "2022-09-09T15:33:33.631Z"
   },
   {
    "duration": 0,
    "start_time": "2022-09-09T15:33:33.633Z"
   },
   {
    "duration": 0,
    "start_time": "2022-09-09T15:33:33.634Z"
   },
   {
    "duration": 0,
    "start_time": "2022-09-09T15:33:33.636Z"
   },
   {
    "duration": 6,
    "start_time": "2022-09-09T15:39:12.022Z"
   },
   {
    "duration": 243,
    "start_time": "2022-09-09T15:39:57.178Z"
   },
   {
    "duration": 225,
    "start_time": "2022-09-09T15:40:33.103Z"
   },
   {
    "duration": 165,
    "start_time": "2022-09-09T15:41:30.771Z"
   },
   {
    "duration": 1291,
    "start_time": "2022-09-09T16:12:38.850Z"
   },
   {
    "duration": 107,
    "start_time": "2022-09-09T16:12:40.144Z"
   },
   {
    "duration": 27,
    "start_time": "2022-09-09T16:12:40.253Z"
   },
   {
    "duration": 21,
    "start_time": "2022-09-09T16:12:40.283Z"
   },
   {
    "duration": 45,
    "start_time": "2022-09-09T16:12:40.307Z"
   },
   {
    "duration": 4,
    "start_time": "2022-09-09T16:12:40.354Z"
   },
   {
    "duration": 25,
    "start_time": "2022-09-09T16:12:40.360Z"
   },
   {
    "duration": 11,
    "start_time": "2022-09-09T16:12:40.387Z"
   },
   {
    "duration": 32,
    "start_time": "2022-09-09T16:12:40.400Z"
   },
   {
    "duration": 9,
    "start_time": "2022-09-09T16:12:40.434Z"
   },
   {
    "duration": 26,
    "start_time": "2022-09-09T16:12:40.445Z"
   },
   {
    "duration": 22,
    "start_time": "2022-09-09T16:12:40.473Z"
   },
   {
    "duration": 23,
    "start_time": "2022-09-09T16:12:40.498Z"
   },
   {
    "duration": 7,
    "start_time": "2022-09-09T16:12:40.526Z"
   },
   {
    "duration": 9,
    "start_time": "2022-09-09T16:12:40.534Z"
   },
   {
    "duration": 27,
    "start_time": "2022-09-09T16:12:40.545Z"
   },
   {
    "duration": 21,
    "start_time": "2022-09-09T16:12:40.574Z"
   },
   {
    "duration": 27,
    "start_time": "2022-09-09T16:12:40.597Z"
   },
   {
    "duration": 5,
    "start_time": "2022-09-09T16:12:40.626Z"
   },
   {
    "duration": 33,
    "start_time": "2022-09-09T16:12:40.633Z"
   },
   {
    "duration": 371,
    "start_time": "2022-09-09T16:12:40.668Z"
   },
   {
    "duration": 12,
    "start_time": "2022-09-09T16:12:41.040Z"
   },
   {
    "duration": 43,
    "start_time": "2022-09-09T16:12:41.053Z"
   },
   {
    "duration": 908,
    "start_time": "2022-09-09T16:12:41.098Z"
   },
   {
    "duration": 5,
    "start_time": "2022-09-09T16:12:42.008Z"
   },
   {
    "duration": 407,
    "start_time": "2022-09-09T16:12:42.015Z"
   },
   {
    "duration": 3,
    "start_time": "2022-09-09T16:12:42.424Z"
   },
   {
    "duration": 246,
    "start_time": "2022-09-09T16:12:42.429Z"
   },
   {
    "duration": 134,
    "start_time": "2022-09-09T16:12:42.677Z"
   },
   {
    "duration": 325,
    "start_time": "2022-09-09T16:12:42.813Z"
   },
   {
    "duration": 0,
    "start_time": "2022-09-09T16:12:43.141Z"
   },
   {
    "duration": 0,
    "start_time": "2022-09-09T16:12:43.142Z"
   },
   {
    "duration": 0,
    "start_time": "2022-09-09T16:12:43.143Z"
   },
   {
    "duration": 0,
    "start_time": "2022-09-09T16:12:43.144Z"
   },
   {
    "duration": 0,
    "start_time": "2022-09-09T16:12:43.146Z"
   },
   {
    "duration": 0,
    "start_time": "2022-09-09T16:12:43.147Z"
   },
   {
    "duration": 0,
    "start_time": "2022-09-09T16:12:43.147Z"
   },
   {
    "duration": 0,
    "start_time": "2022-09-09T16:12:43.149Z"
   },
   {
    "duration": 0,
    "start_time": "2022-09-09T16:12:43.150Z"
   },
   {
    "duration": 0,
    "start_time": "2022-09-09T16:12:43.151Z"
   },
   {
    "duration": 0,
    "start_time": "2022-09-09T16:12:43.152Z"
   },
   {
    "duration": 0,
    "start_time": "2022-09-09T16:12:43.153Z"
   },
   {
    "duration": 0,
    "start_time": "2022-09-09T16:12:43.154Z"
   },
   {
    "duration": 0,
    "start_time": "2022-09-09T16:12:43.155Z"
   },
   {
    "duration": 6,
    "start_time": "2022-09-09T16:13:27.266Z"
   },
   {
    "duration": 3,
    "start_time": "2022-09-09T16:13:35.895Z"
   },
   {
    "duration": 61,
    "start_time": "2022-09-09T16:13:35.900Z"
   },
   {
    "duration": 12,
    "start_time": "2022-09-09T16:13:35.963Z"
   },
   {
    "duration": 21,
    "start_time": "2022-09-09T16:13:35.977Z"
   },
   {
    "duration": 56,
    "start_time": "2022-09-09T16:13:35.999Z"
   },
   {
    "duration": 2,
    "start_time": "2022-09-09T16:13:36.057Z"
   },
   {
    "duration": 8,
    "start_time": "2022-09-09T16:13:36.061Z"
   },
   {
    "duration": 20,
    "start_time": "2022-09-09T16:13:36.071Z"
   },
   {
    "duration": 0,
    "start_time": "2022-09-09T16:13:36.093Z"
   },
   {
    "duration": 0,
    "start_time": "2022-09-09T16:13:36.094Z"
   },
   {
    "duration": 0,
    "start_time": "2022-09-09T16:13:36.095Z"
   },
   {
    "duration": 0,
    "start_time": "2022-09-09T16:13:36.096Z"
   },
   {
    "duration": 0,
    "start_time": "2022-09-09T16:13:36.099Z"
   },
   {
    "duration": 0,
    "start_time": "2022-09-09T16:13:36.100Z"
   },
   {
    "duration": 0,
    "start_time": "2022-09-09T16:13:36.102Z"
   },
   {
    "duration": 0,
    "start_time": "2022-09-09T16:13:36.103Z"
   },
   {
    "duration": 0,
    "start_time": "2022-09-09T16:13:36.138Z"
   },
   {
    "duration": 0,
    "start_time": "2022-09-09T16:13:36.139Z"
   },
   {
    "duration": 0,
    "start_time": "2022-09-09T16:13:36.141Z"
   },
   {
    "duration": 0,
    "start_time": "2022-09-09T16:13:36.142Z"
   },
   {
    "duration": 0,
    "start_time": "2022-09-09T16:13:36.143Z"
   },
   {
    "duration": 0,
    "start_time": "2022-09-09T16:13:36.144Z"
   },
   {
    "duration": 0,
    "start_time": "2022-09-09T16:13:36.145Z"
   },
   {
    "duration": 0,
    "start_time": "2022-09-09T16:13:36.147Z"
   },
   {
    "duration": 0,
    "start_time": "2022-09-09T16:13:36.148Z"
   },
   {
    "duration": 0,
    "start_time": "2022-09-09T16:13:36.149Z"
   },
   {
    "duration": 0,
    "start_time": "2022-09-09T16:13:36.150Z"
   },
   {
    "duration": 0,
    "start_time": "2022-09-09T16:13:36.151Z"
   },
   {
    "duration": 0,
    "start_time": "2022-09-09T16:13:36.152Z"
   },
   {
    "duration": 0,
    "start_time": "2022-09-09T16:13:36.154Z"
   },
   {
    "duration": 0,
    "start_time": "2022-09-09T16:13:36.155Z"
   },
   {
    "duration": 0,
    "start_time": "2022-09-09T16:13:36.156Z"
   },
   {
    "duration": 0,
    "start_time": "2022-09-09T16:13:36.158Z"
   },
   {
    "duration": 0,
    "start_time": "2022-09-09T16:13:36.159Z"
   },
   {
    "duration": 0,
    "start_time": "2022-09-09T16:13:36.161Z"
   },
   {
    "duration": 0,
    "start_time": "2022-09-09T16:13:36.162Z"
   },
   {
    "duration": 0,
    "start_time": "2022-09-09T16:13:36.163Z"
   },
   {
    "duration": 0,
    "start_time": "2022-09-09T16:13:36.165Z"
   },
   {
    "duration": 0,
    "start_time": "2022-09-09T16:13:36.166Z"
   },
   {
    "duration": 0,
    "start_time": "2022-09-09T16:13:36.168Z"
   },
   {
    "duration": 0,
    "start_time": "2022-09-09T16:13:36.169Z"
   },
   {
    "duration": 0,
    "start_time": "2022-09-09T16:13:36.170Z"
   },
   {
    "duration": 0,
    "start_time": "2022-09-09T16:13:36.171Z"
   },
   {
    "duration": 0,
    "start_time": "2022-09-09T16:13:36.172Z"
   },
   {
    "duration": 220,
    "start_time": "2022-09-09T16:13:48.977Z"
   },
   {
    "duration": 9,
    "start_time": "2022-09-09T16:16:26.900Z"
   },
   {
    "duration": 9,
    "start_time": "2022-09-09T16:16:52.696Z"
   },
   {
    "duration": 4,
    "start_time": "2022-09-09T16:17:20.759Z"
   },
   {
    "duration": 129,
    "start_time": "2022-09-09T16:17:20.765Z"
   },
   {
    "duration": 18,
    "start_time": "2022-09-09T16:17:20.896Z"
   },
   {
    "duration": 37,
    "start_time": "2022-09-09T16:17:20.916Z"
   },
   {
    "duration": 50,
    "start_time": "2022-09-09T16:17:20.957Z"
   },
   {
    "duration": 3,
    "start_time": "2022-09-09T16:17:21.009Z"
   },
   {
    "duration": 34,
    "start_time": "2022-09-09T16:17:21.013Z"
   },
   {
    "duration": 28,
    "start_time": "2022-09-09T16:17:21.049Z"
   },
   {
    "duration": 31,
    "start_time": "2022-09-09T16:17:21.079Z"
   },
   {
    "duration": 18,
    "start_time": "2022-09-09T16:17:21.112Z"
   },
   {
    "duration": 28,
    "start_time": "2022-09-09T16:17:21.132Z"
   },
   {
    "duration": 20,
    "start_time": "2022-09-09T16:17:21.162Z"
   },
   {
    "duration": 23,
    "start_time": "2022-09-09T16:17:21.184Z"
   },
   {
    "duration": 37,
    "start_time": "2022-09-09T16:17:21.211Z"
   },
   {
    "duration": 21,
    "start_time": "2022-09-09T16:17:21.250Z"
   },
   {
    "duration": 29,
    "start_time": "2022-09-09T16:17:21.273Z"
   },
   {
    "duration": 13,
    "start_time": "2022-09-09T16:17:21.304Z"
   },
   {
    "duration": 42,
    "start_time": "2022-09-09T16:17:21.319Z"
   },
   {
    "duration": 28,
    "start_time": "2022-09-09T16:17:21.363Z"
   },
   {
    "duration": 26,
    "start_time": "2022-09-09T16:17:21.393Z"
   },
   {
    "duration": 50,
    "start_time": "2022-09-09T16:17:21.421Z"
   },
   {
    "duration": 353,
    "start_time": "2022-09-09T16:17:21.473Z"
   },
   {
    "duration": 23,
    "start_time": "2022-09-09T16:17:21.827Z"
   },
   {
    "duration": 43,
    "start_time": "2022-09-09T16:17:21.852Z"
   },
   {
    "duration": 960,
    "start_time": "2022-09-09T16:17:21.897Z"
   },
   {
    "duration": 5,
    "start_time": "2022-09-09T16:17:22.859Z"
   },
   {
    "duration": 464,
    "start_time": "2022-09-09T16:17:22.865Z"
   },
   {
    "duration": 6,
    "start_time": "2022-09-09T16:17:23.331Z"
   },
   {
    "duration": 263,
    "start_time": "2022-09-09T16:17:23.339Z"
   },
   {
    "duration": 134,
    "start_time": "2022-09-09T16:17:23.604Z"
   },
   {
    "duration": 3,
    "start_time": "2022-09-09T16:17:29.510Z"
   },
   {
    "duration": 65,
    "start_time": "2022-09-09T16:17:29.515Z"
   },
   {
    "duration": 13,
    "start_time": "2022-09-09T16:17:29.582Z"
   },
   {
    "duration": 26,
    "start_time": "2022-09-09T16:17:29.597Z"
   },
   {
    "duration": 31,
    "start_time": "2022-09-09T16:17:29.626Z"
   },
   {
    "duration": 4,
    "start_time": "2022-09-09T16:17:29.659Z"
   },
   {
    "duration": 11,
    "start_time": "2022-09-09T16:17:29.665Z"
   },
   {
    "duration": 8,
    "start_time": "2022-09-09T16:17:29.678Z"
   },
   {
    "duration": 13,
    "start_time": "2022-09-09T16:17:29.688Z"
   },
   {
    "duration": 34,
    "start_time": "2022-09-09T16:17:29.704Z"
   },
   {
    "duration": 7,
    "start_time": "2022-09-09T16:17:29.740Z"
   },
   {
    "duration": 14,
    "start_time": "2022-09-09T16:17:29.748Z"
   },
   {
    "duration": 10,
    "start_time": "2022-09-09T16:17:29.764Z"
   },
   {
    "duration": 22,
    "start_time": "2022-09-09T16:17:29.778Z"
   },
   {
    "duration": 13,
    "start_time": "2022-09-09T16:17:29.802Z"
   },
   {
    "duration": 10,
    "start_time": "2022-09-09T16:17:29.838Z"
   },
   {
    "duration": 15,
    "start_time": "2022-09-09T16:17:29.851Z"
   },
   {
    "duration": 13,
    "start_time": "2022-09-09T16:17:29.868Z"
   },
   {
    "duration": 15,
    "start_time": "2022-09-09T16:17:29.884Z"
   },
   {
    "duration": 15,
    "start_time": "2022-09-09T16:17:29.901Z"
   },
   {
    "duration": 41,
    "start_time": "2022-09-09T16:17:29.918Z"
   },
   {
    "duration": 341,
    "start_time": "2022-09-09T16:17:29.961Z"
   },
   {
    "duration": 16,
    "start_time": "2022-09-09T16:17:30.305Z"
   },
   {
    "duration": 32,
    "start_time": "2022-09-09T16:17:30.337Z"
   },
   {
    "duration": 977,
    "start_time": "2022-09-09T16:17:30.372Z"
   },
   {
    "duration": 7,
    "start_time": "2022-09-09T16:17:31.351Z"
   },
   {
    "duration": 559,
    "start_time": "2022-09-09T16:17:31.361Z"
   },
   {
    "duration": 4,
    "start_time": "2022-09-09T16:17:31.922Z"
   },
   {
    "duration": 185,
    "start_time": "2022-09-09T16:17:31.928Z"
   },
   {
    "duration": 143,
    "start_time": "2022-09-09T16:17:32.115Z"
   },
   {
    "duration": 150,
    "start_time": "2022-09-09T16:17:32.260Z"
   },
   {
    "duration": 1094,
    "start_time": "2022-09-09T16:17:32.411Z"
   },
   {
    "duration": 0,
    "start_time": "2022-09-09T16:17:33.507Z"
   },
   {
    "duration": 0,
    "start_time": "2022-09-09T16:17:33.509Z"
   },
   {
    "duration": 0,
    "start_time": "2022-09-09T16:17:33.510Z"
   },
   {
    "duration": 0,
    "start_time": "2022-09-09T16:17:33.512Z"
   },
   {
    "duration": 0,
    "start_time": "2022-09-09T16:17:33.514Z"
   },
   {
    "duration": 0,
    "start_time": "2022-09-09T16:17:33.515Z"
   },
   {
    "duration": 0,
    "start_time": "2022-09-09T16:17:33.518Z"
   },
   {
    "duration": 0,
    "start_time": "2022-09-09T16:17:33.519Z"
   },
   {
    "duration": 0,
    "start_time": "2022-09-09T16:17:33.521Z"
   },
   {
    "duration": 0,
    "start_time": "2022-09-09T16:17:33.522Z"
   },
   {
    "duration": 0,
    "start_time": "2022-09-09T16:17:33.524Z"
   },
   {
    "duration": 0,
    "start_time": "2022-09-09T16:17:33.526Z"
   },
   {
    "duration": 0,
    "start_time": "2022-09-09T16:17:33.527Z"
   },
   {
    "duration": 67,
    "start_time": "2022-09-09T16:20:10.591Z"
   },
   {
    "duration": 54,
    "start_time": "2022-09-09T16:20:17.949Z"
   },
   {
    "duration": 158,
    "start_time": "2022-09-09T16:24:37.515Z"
   },
   {
    "duration": 170,
    "start_time": "2022-09-09T16:24:40.889Z"
   },
   {
    "duration": 152,
    "start_time": "2022-09-09T16:25:05.604Z"
   },
   {
    "duration": 11,
    "start_time": "2022-09-09T16:25:09.988Z"
   },
   {
    "duration": 338,
    "start_time": "2022-09-09T16:25:13.634Z"
   },
   {
    "duration": 232,
    "start_time": "2022-09-09T16:25:16.700Z"
   },
   {
    "duration": 12,
    "start_time": "2022-09-09T16:26:41.726Z"
   },
   {
    "duration": 12,
    "start_time": "2022-09-09T16:27:10.985Z"
   },
   {
    "duration": 14,
    "start_time": "2022-09-09T16:36:49.298Z"
   },
   {
    "duration": 9,
    "start_time": "2022-09-09T16:37:06.826Z"
   },
   {
    "duration": 13,
    "start_time": "2022-09-09T16:37:10.872Z"
   },
   {
    "duration": 15,
    "start_time": "2022-09-09T16:37:31.489Z"
   },
   {
    "duration": 6,
    "start_time": "2022-09-09T16:38:04.204Z"
   },
   {
    "duration": 14,
    "start_time": "2022-09-09T16:38:06.508Z"
   },
   {
    "duration": 4,
    "start_time": "2022-09-09T16:39:04.151Z"
   },
   {
    "duration": 4,
    "start_time": "2022-09-09T16:42:10.306Z"
   },
   {
    "duration": 3,
    "start_time": "2022-09-09T16:42:19.363Z"
   },
   {
    "duration": 200,
    "start_time": "2022-09-09T16:42:33.113Z"
   },
   {
    "duration": 3,
    "start_time": "2022-09-09T16:42:59.780Z"
   },
   {
    "duration": 83,
    "start_time": "2022-09-09T16:42:59.785Z"
   },
   {
    "duration": 14,
    "start_time": "2022-09-09T16:42:59.871Z"
   },
   {
    "duration": 23,
    "start_time": "2022-09-09T16:42:59.887Z"
   },
   {
    "duration": 44,
    "start_time": "2022-09-09T16:42:59.914Z"
   },
   {
    "duration": 4,
    "start_time": "2022-09-09T16:42:59.959Z"
   },
   {
    "duration": 6,
    "start_time": "2022-09-09T16:42:59.966Z"
   },
   {
    "duration": 4,
    "start_time": "2022-09-09T16:42:59.974Z"
   },
   {
    "duration": 16,
    "start_time": "2022-09-09T16:42:59.980Z"
   },
   {
    "duration": 9,
    "start_time": "2022-09-09T16:42:59.999Z"
   },
   {
    "duration": 31,
    "start_time": "2022-09-09T16:43:00.011Z"
   },
   {
    "duration": 14,
    "start_time": "2022-09-09T16:43:00.045Z"
   },
   {
    "duration": 13,
    "start_time": "2022-09-09T16:43:00.061Z"
   },
   {
    "duration": 24,
    "start_time": "2022-09-09T16:43:00.078Z"
   },
   {
    "duration": 13,
    "start_time": "2022-09-09T16:43:00.105Z"
   },
   {
    "duration": 6,
    "start_time": "2022-09-09T16:43:00.138Z"
   },
   {
    "duration": 10,
    "start_time": "2022-09-09T16:43:00.146Z"
   },
   {
    "duration": 16,
    "start_time": "2022-09-09T16:43:00.158Z"
   },
   {
    "duration": 10,
    "start_time": "2022-09-09T16:43:00.176Z"
   },
   {
    "duration": 12,
    "start_time": "2022-09-09T16:43:00.188Z"
   },
   {
    "duration": 45,
    "start_time": "2022-09-09T16:43:00.201Z"
   },
   {
    "duration": 399,
    "start_time": "2022-09-09T16:43:00.248Z"
   },
   {
    "duration": 17,
    "start_time": "2022-09-09T16:43:00.649Z"
   },
   {
    "duration": 59,
    "start_time": "2022-09-09T16:43:00.667Z"
   },
   {
    "duration": 1038,
    "start_time": "2022-09-09T16:43:00.728Z"
   },
   {
    "duration": 6,
    "start_time": "2022-09-09T16:43:01.769Z"
   },
   {
    "duration": 472,
    "start_time": "2022-09-09T16:43:01.777Z"
   },
   {
    "duration": 3,
    "start_time": "2022-09-09T16:43:02.252Z"
   },
   {
    "duration": 225,
    "start_time": "2022-09-09T16:43:02.257Z"
   },
   {
    "duration": 152,
    "start_time": "2022-09-09T16:43:02.485Z"
   },
   {
    "duration": 156,
    "start_time": "2022-09-09T16:43:02.639Z"
   },
   {
    "duration": 10,
    "start_time": "2022-09-09T16:43:02.798Z"
   },
   {
    "duration": 35,
    "start_time": "2022-09-09T16:43:02.811Z"
   },
   {
    "duration": 16,
    "start_time": "2022-09-09T16:43:05.821Z"
   },
   {
    "duration": 54,
    "start_time": "2022-09-09T16:43:13.093Z"
   },
   {
    "duration": 3,
    "start_time": "2022-09-09T16:43:21.130Z"
   },
   {
    "duration": 79,
    "start_time": "2022-09-09T16:43:21.136Z"
   },
   {
    "duration": 19,
    "start_time": "2022-09-09T16:43:21.218Z"
   },
   {
    "duration": 31,
    "start_time": "2022-09-09T16:43:21.239Z"
   },
   {
    "duration": 27,
    "start_time": "2022-09-09T16:43:21.274Z"
   },
   {
    "duration": 3,
    "start_time": "2022-09-09T16:43:21.302Z"
   },
   {
    "duration": 19,
    "start_time": "2022-09-09T16:43:21.306Z"
   },
   {
    "duration": 11,
    "start_time": "2022-09-09T16:43:21.326Z"
   },
   {
    "duration": 22,
    "start_time": "2022-09-09T16:43:21.338Z"
   },
   {
    "duration": 13,
    "start_time": "2022-09-09T16:43:21.362Z"
   },
   {
    "duration": 9,
    "start_time": "2022-09-09T16:43:21.377Z"
   },
   {
    "duration": 9,
    "start_time": "2022-09-09T16:43:21.387Z"
   },
   {
    "duration": 9,
    "start_time": "2022-09-09T16:43:21.398Z"
   },
   {
    "duration": 27,
    "start_time": "2022-09-09T16:43:21.410Z"
   },
   {
    "duration": 11,
    "start_time": "2022-09-09T16:43:21.438Z"
   },
   {
    "duration": 14,
    "start_time": "2022-09-09T16:43:21.451Z"
   },
   {
    "duration": 14,
    "start_time": "2022-09-09T16:43:21.468Z"
   },
   {
    "duration": 11,
    "start_time": "2022-09-09T16:43:21.483Z"
   },
   {
    "duration": 14,
    "start_time": "2022-09-09T16:43:21.495Z"
   },
   {
    "duration": 18,
    "start_time": "2022-09-09T16:43:21.510Z"
   },
   {
    "duration": 25,
    "start_time": "2022-09-09T16:43:21.530Z"
   },
   {
    "duration": 351,
    "start_time": "2022-09-09T16:43:21.557Z"
   },
   {
    "duration": 11,
    "start_time": "2022-09-09T16:43:21.910Z"
   },
   {
    "duration": 28,
    "start_time": "2022-09-09T16:43:21.922Z"
   },
   {
    "duration": 1023,
    "start_time": "2022-09-09T16:43:21.952Z"
   },
   {
    "duration": 5,
    "start_time": "2022-09-09T16:43:22.977Z"
   },
   {
    "duration": 376,
    "start_time": "2022-09-09T16:43:22.984Z"
   },
   {
    "duration": 3,
    "start_time": "2022-09-09T16:43:23.362Z"
   },
   {
    "duration": 172,
    "start_time": "2022-09-09T16:43:23.367Z"
   },
   {
    "duration": 144,
    "start_time": "2022-09-09T16:43:23.540Z"
   },
   {
    "duration": 175,
    "start_time": "2022-09-09T16:43:23.686Z"
   },
   {
    "duration": 10,
    "start_time": "2022-09-09T16:43:23.863Z"
   },
   {
    "duration": 15,
    "start_time": "2022-09-09T16:43:23.874Z"
   },
   {
    "duration": 14,
    "start_time": "2022-09-09T16:43:23.891Z"
   },
   {
    "duration": 162,
    "start_time": "2022-09-09T16:43:23.907Z"
   },
   {
    "duration": 12,
    "start_time": "2022-09-09T16:43:24.071Z"
   },
   {
    "duration": 455,
    "start_time": "2022-09-09T16:43:24.085Z"
   },
   {
    "duration": 36,
    "start_time": "2022-09-09T16:43:24.541Z"
   },
   {
    "duration": 380,
    "start_time": "2022-09-09T16:43:24.579Z"
   },
   {
    "duration": 41,
    "start_time": "2022-09-09T16:43:24.962Z"
   },
   {
    "duration": 187,
    "start_time": "2022-09-09T16:43:25.007Z"
   },
   {
    "duration": 354,
    "start_time": "2022-09-09T16:43:25.196Z"
   },
   {
    "duration": 358,
    "start_time": "2022-09-09T16:43:25.551Z"
   },
   {
    "duration": 158,
    "start_time": "2022-09-09T16:43:25.910Z"
   },
   {
    "duration": 3,
    "start_time": "2022-09-09T16:43:26.070Z"
   },
   {
    "duration": 31,
    "start_time": "2022-09-09T16:43:26.075Z"
   },
   {
    "duration": 28,
    "start_time": "2022-09-09T16:43:26.109Z"
   },
   {
    "duration": 3,
    "start_time": "2022-09-09T16:45:57.177Z"
   },
   {
    "duration": 77,
    "start_time": "2022-09-09T16:45:57.182Z"
   },
   {
    "duration": 22,
    "start_time": "2022-09-09T16:45:57.261Z"
   },
   {
    "duration": 31,
    "start_time": "2022-09-09T16:45:57.285Z"
   },
   {
    "duration": 54,
    "start_time": "2022-09-09T16:45:57.319Z"
   },
   {
    "duration": 26,
    "start_time": "2022-09-09T16:45:57.375Z"
   },
   {
    "duration": 13,
    "start_time": "2022-09-09T16:45:57.404Z"
   },
   {
    "duration": 7,
    "start_time": "2022-09-09T16:45:57.419Z"
   },
   {
    "duration": 48,
    "start_time": "2022-09-09T16:45:57.428Z"
   },
   {
    "duration": 11,
    "start_time": "2022-09-09T16:45:57.477Z"
   },
   {
    "duration": 9,
    "start_time": "2022-09-09T16:45:57.490Z"
   },
   {
    "duration": 10,
    "start_time": "2022-09-09T16:45:57.500Z"
   },
   {
    "duration": 8,
    "start_time": "2022-09-09T16:45:57.511Z"
   },
   {
    "duration": 16,
    "start_time": "2022-09-09T16:45:57.522Z"
   },
   {
    "duration": 11,
    "start_time": "2022-09-09T16:45:57.540Z"
   },
   {
    "duration": 9,
    "start_time": "2022-09-09T16:45:57.553Z"
   },
   {
    "duration": 11,
    "start_time": "2022-09-09T16:45:57.563Z"
   },
   {
    "duration": 12,
    "start_time": "2022-09-09T16:45:57.575Z"
   },
   {
    "duration": 9,
    "start_time": "2022-09-09T16:45:57.589Z"
   },
   {
    "duration": 7,
    "start_time": "2022-09-09T16:45:57.600Z"
   },
   {
    "duration": 31,
    "start_time": "2022-09-09T16:45:57.609Z"
   },
   {
    "duration": 377,
    "start_time": "2022-09-09T16:45:57.642Z"
   },
   {
    "duration": 18,
    "start_time": "2022-09-09T16:45:58.020Z"
   },
   {
    "duration": 19,
    "start_time": "2022-09-09T16:45:58.040Z"
   },
   {
    "duration": 938,
    "start_time": "2022-09-09T16:45:58.061Z"
   },
   {
    "duration": 5,
    "start_time": "2022-09-09T16:45:59.001Z"
   },
   {
    "duration": 382,
    "start_time": "2022-09-09T16:45:59.007Z"
   },
   {
    "duration": 2,
    "start_time": "2022-09-09T16:45:59.391Z"
   },
   {
    "duration": 179,
    "start_time": "2022-09-09T16:45:59.395Z"
   },
   {
    "duration": 228,
    "start_time": "2022-09-09T16:45:59.575Z"
   },
   {
    "duration": 150,
    "start_time": "2022-09-09T16:45:59.805Z"
   },
   {
    "duration": 12,
    "start_time": "2022-09-09T16:45:59.956Z"
   },
   {
    "duration": 157,
    "start_time": "2022-09-09T16:45:59.970Z"
   },
   {
    "duration": 16,
    "start_time": "2022-09-09T16:46:00.129Z"
   },
   {
    "duration": 390,
    "start_time": "2022-09-09T16:46:00.147Z"
   },
   {
    "duration": 37,
    "start_time": "2022-09-09T16:46:00.538Z"
   },
   {
    "duration": 355,
    "start_time": "2022-09-09T16:46:00.576Z"
   },
   {
    "duration": 43,
    "start_time": "2022-09-09T16:46:00.933Z"
   },
   {
    "duration": 196,
    "start_time": "2022-09-09T16:46:00.978Z"
   },
   {
    "duration": 363,
    "start_time": "2022-09-09T16:46:01.175Z"
   },
   {
    "duration": 455,
    "start_time": "2022-09-09T16:46:01.542Z"
   },
   {
    "duration": 24,
    "start_time": "2022-09-09T16:46:01.999Z"
   },
   {
    "duration": 25,
    "start_time": "2022-09-09T16:46:02.025Z"
   },
   {
    "duration": 35,
    "start_time": "2022-09-09T16:46:02.052Z"
   },
   {
    "duration": 65,
    "start_time": "2022-09-09T16:46:02.089Z"
   },
   {
    "duration": 3,
    "start_time": "2022-09-09T16:47:51.440Z"
   },
   {
    "duration": 3,
    "start_time": "2022-09-09T16:47:55.793Z"
   },
   {
    "duration": 3,
    "start_time": "2022-09-09T16:58:41.759Z"
   },
   {
    "duration": 53,
    "start_time": "2022-09-09T16:58:41.764Z"
   },
   {
    "duration": 12,
    "start_time": "2022-09-09T16:58:41.818Z"
   },
   {
    "duration": 16,
    "start_time": "2022-09-09T16:58:41.831Z"
   },
   {
    "duration": 24,
    "start_time": "2022-09-09T16:58:41.849Z"
   },
   {
    "duration": 3,
    "start_time": "2022-09-09T16:58:41.875Z"
   },
   {
    "duration": 10,
    "start_time": "2022-09-09T16:58:41.880Z"
   },
   {
    "duration": 12,
    "start_time": "2022-09-09T16:58:41.891Z"
   },
   {
    "duration": 12,
    "start_time": "2022-09-09T16:58:41.904Z"
   },
   {
    "duration": 5,
    "start_time": "2022-09-09T16:58:41.917Z"
   },
   {
    "duration": 15,
    "start_time": "2022-09-09T16:58:41.923Z"
   },
   {
    "duration": 4,
    "start_time": "2022-09-09T16:58:41.939Z"
   },
   {
    "duration": 11,
    "start_time": "2022-09-09T16:58:41.945Z"
   },
   {
    "duration": 17,
    "start_time": "2022-09-09T16:58:41.957Z"
   },
   {
    "duration": 8,
    "start_time": "2022-09-09T16:58:41.975Z"
   },
   {
    "duration": 6,
    "start_time": "2022-09-09T16:58:41.985Z"
   },
   {
    "duration": 10,
    "start_time": "2022-09-09T16:58:41.992Z"
   },
   {
    "duration": 10,
    "start_time": "2022-09-09T16:58:42.003Z"
   },
   {
    "duration": 23,
    "start_time": "2022-09-09T16:58:42.014Z"
   },
   {
    "duration": 4,
    "start_time": "2022-09-09T16:58:42.038Z"
   },
   {
    "duration": 23,
    "start_time": "2022-09-09T16:58:42.043Z"
   },
   {
    "duration": 331,
    "start_time": "2022-09-09T16:58:42.067Z"
   },
   {
    "duration": 11,
    "start_time": "2022-09-09T16:58:42.399Z"
   },
   {
    "duration": 30,
    "start_time": "2022-09-09T16:58:42.412Z"
   },
   {
    "duration": 840,
    "start_time": "2022-09-09T16:58:42.443Z"
   },
   {
    "duration": 4,
    "start_time": "2022-09-09T16:58:43.285Z"
   },
   {
    "duration": 466,
    "start_time": "2022-09-09T16:58:43.291Z"
   },
   {
    "duration": 3,
    "start_time": "2022-09-09T16:58:43.759Z"
   },
   {
    "duration": 160,
    "start_time": "2022-09-09T16:58:43.763Z"
   },
   {
    "duration": 131,
    "start_time": "2022-09-09T16:58:43.924Z"
   },
   {
    "duration": 138,
    "start_time": "2022-09-09T16:58:44.056Z"
   },
   {
    "duration": 11,
    "start_time": "2022-09-09T16:58:44.195Z"
   },
   {
    "duration": 143,
    "start_time": "2022-09-09T16:58:44.207Z"
   },
   {
    "duration": 11,
    "start_time": "2022-09-09T16:58:44.352Z"
   },
   {
    "duration": 340,
    "start_time": "2022-09-09T16:58:44.364Z"
   },
   {
    "duration": 42,
    "start_time": "2022-09-09T16:58:44.705Z"
   },
   {
    "duration": 349,
    "start_time": "2022-09-09T16:58:44.750Z"
   },
   {
    "duration": 40,
    "start_time": "2022-09-09T16:58:45.101Z"
   },
   {
    "duration": 175,
    "start_time": "2022-09-09T16:58:45.143Z"
   },
   {
    "duration": 445,
    "start_time": "2022-09-09T16:58:45.319Z"
   },
   {
    "duration": 330,
    "start_time": "2022-09-09T16:58:45.766Z"
   },
   {
    "duration": 17,
    "start_time": "2022-09-09T16:58:46.097Z"
   },
   {
    "duration": 9,
    "start_time": "2022-09-09T16:58:46.116Z"
   },
   {
    "duration": 20,
    "start_time": "2022-09-09T16:58:46.127Z"
   },
   {
    "duration": 10,
    "start_time": "2022-09-09T16:58:46.148Z"
   },
   {
    "duration": 1137,
    "start_time": "2022-09-10T08:41:01.649Z"
   },
   {
    "duration": 97,
    "start_time": "2022-09-10T08:41:02.788Z"
   },
   {
    "duration": 17,
    "start_time": "2022-09-10T08:41:02.886Z"
   },
   {
    "duration": 21,
    "start_time": "2022-09-10T08:41:02.905Z"
   },
   {
    "duration": 26,
    "start_time": "2022-09-10T08:41:02.928Z"
   },
   {
    "duration": 2,
    "start_time": "2022-09-10T08:41:02.956Z"
   },
   {
    "duration": 13,
    "start_time": "2022-09-10T08:41:02.960Z"
   },
   {
    "duration": 5,
    "start_time": "2022-09-10T08:41:02.974Z"
   },
   {
    "duration": 28,
    "start_time": "2022-09-10T08:41:02.980Z"
   },
   {
    "duration": 9,
    "start_time": "2022-09-10T08:41:03.010Z"
   },
   {
    "duration": 6,
    "start_time": "2022-09-10T08:41:03.020Z"
   },
   {
    "duration": 9,
    "start_time": "2022-09-10T08:41:03.027Z"
   },
   {
    "duration": 6,
    "start_time": "2022-09-10T08:41:03.038Z"
   },
   {
    "duration": 19,
    "start_time": "2022-09-10T08:41:03.047Z"
   },
   {
    "duration": 8,
    "start_time": "2022-09-10T08:41:03.067Z"
   },
   {
    "duration": 7,
    "start_time": "2022-09-10T08:41:03.077Z"
   },
   {
    "duration": 7,
    "start_time": "2022-09-10T08:41:03.086Z"
   },
   {
    "duration": 13,
    "start_time": "2022-09-10T08:41:03.095Z"
   },
   {
    "duration": 14,
    "start_time": "2022-09-10T08:41:03.110Z"
   },
   {
    "duration": 6,
    "start_time": "2022-09-10T08:41:03.125Z"
   },
   {
    "duration": 31,
    "start_time": "2022-09-10T08:41:03.133Z"
   },
   {
    "duration": 381,
    "start_time": "2022-09-10T08:41:03.166Z"
   },
   {
    "duration": 11,
    "start_time": "2022-09-10T08:41:03.548Z"
   },
   {
    "duration": 21,
    "start_time": "2022-09-10T08:41:03.561Z"
   },
   {
    "duration": 997,
    "start_time": "2022-09-10T08:41:03.583Z"
   },
   {
    "duration": 4,
    "start_time": "2022-09-10T08:41:04.582Z"
   },
   {
    "duration": 400,
    "start_time": "2022-09-10T08:41:04.588Z"
   },
   {
    "duration": 2,
    "start_time": "2022-09-10T08:41:04.990Z"
   },
   {
    "duration": 253,
    "start_time": "2022-09-10T08:41:04.994Z"
   },
   {
    "duration": 140,
    "start_time": "2022-09-10T08:41:05.249Z"
   },
   {
    "duration": 157,
    "start_time": "2022-09-10T08:41:05.391Z"
   },
   {
    "duration": 11,
    "start_time": "2022-09-10T08:41:05.550Z"
   },
   {
    "duration": 160,
    "start_time": "2022-09-10T08:41:05.563Z"
   },
   {
    "duration": 21,
    "start_time": "2022-09-10T08:41:05.725Z"
   },
   {
    "duration": 383,
    "start_time": "2022-09-10T08:41:05.747Z"
   },
   {
    "duration": 41,
    "start_time": "2022-09-10T08:41:06.132Z"
   },
   {
    "duration": 443,
    "start_time": "2022-09-10T08:41:06.175Z"
   },
   {
    "duration": 45,
    "start_time": "2022-09-10T08:41:06.620Z"
   },
   {
    "duration": 201,
    "start_time": "2022-09-10T08:41:06.667Z"
   },
   {
    "duration": 432,
    "start_time": "2022-09-10T08:41:06.870Z"
   },
   {
    "duration": 374,
    "start_time": "2022-09-10T08:41:07.306Z"
   },
   {
    "duration": 53,
    "start_time": "2022-09-10T08:41:07.682Z"
   },
   {
    "duration": 2,
    "start_time": "2022-09-10T08:41:07.747Z"
   },
   {
    "duration": 13,
    "start_time": "2022-09-10T08:41:07.750Z"
   },
   {
    "duration": 9,
    "start_time": "2022-09-10T08:41:07.765Z"
   }
  ],
  "kernelspec": {
   "display_name": "Python 3 (ipykernel)",
   "language": "python",
   "name": "python3"
  },
  "language_info": {
   "codemirror_mode": {
    "name": "ipython",
    "version": 3
   },
   "file_extension": ".py",
   "mimetype": "text/x-python",
   "name": "python",
   "nbconvert_exporter": "python",
   "pygments_lexer": "ipython3",
   "version": "3.9.5"
  },
  "toc": {
   "base_numbering": 1,
   "nav_menu": {},
   "number_sections": true,
   "sideBar": true,
   "skip_h1_title": true,
   "title_cell": "Table of Contents",
   "title_sidebar": "Contents",
   "toc_cell": false,
   "toc_position": {
    "height": "calc(100% - 180px)",
    "left": "10px",
    "top": "150px",
    "width": "302.306px"
   },
   "toc_section_display": true,
   "toc_window_display": true
  }
 },
 "nbformat": 4,
 "nbformat_minor": 2
}
